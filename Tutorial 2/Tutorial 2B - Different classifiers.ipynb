{
 "cells": [
  {
   "cell_type": "markdown",
   "id": "bce07351",
   "metadata": {},
   "source": [
    "## Week 2 - Different classifiers"
   ]
  },
  {
   "cell_type": "markdown",
   "id": "e1533d6e",
   "metadata": {},
   "source": [
    "Here, we look at building models using the different classifiers (discussed in the lectures) from scikit-learn."
   ]
  },
  {
   "cell_type": "markdown",
   "id": "3a805f1c",
   "metadata": {},
   "source": [
    "#### Import packages"
   ]
  },
  {
   "cell_type": "code",
   "execution_count": 35,
   "id": "d4fd8339",
   "metadata": {},
   "outputs": [],
   "source": [
    "import numpy as np\n",
    "import pandas as pd\n",
    "\n",
    "from sklearn.naive_bayes import GaussianNB, BernoulliNB, MultinomialNB   \n",
    "from sklearn.neighbors import KNeighborsClassifier\n",
    "from sklearn.tree import DecisionTreeClassifier\n",
    "\n",
    "# model utils\n",
    "from sklearn.metrics import accuracy_score\n",
    "from sklearn.preprocessing import LabelEncoder\n",
    "from sklearn.model_selection import train_test_split\n",
    "from sklearn.compose import make_column_selector as selector"
   ]
  },
  {
   "cell_type": "code",
   "execution_count": 36,
   "id": "35dbff4b",
   "metadata": {},
   "outputs": [],
   "source": [
    "#Input files - this can be obtained running 'Tutorial 2A - Introduction to machine-learning with scikit-learn.ipynb'\n",
    "file_adult_census = 'adult_census_normalized_encoded.csv'"
   ]
  },
  {
   "cell_type": "markdown",
   "id": "59a769e8",
   "metadata": {},
   "source": [
    "#### Load data"
   ]
  },
  {
   "cell_type": "code",
   "execution_count": 37,
   "id": "49973c61",
   "metadata": {},
   "outputs": [
    {
     "data": {
      "text/html": [
       "<div>\n",
       "<style scoped>\n",
       "    .dataframe tbody tr th:only-of-type {\n",
       "        vertical-align: middle;\n",
       "    }\n",
       "\n",
       "    .dataframe tbody tr th {\n",
       "        vertical-align: top;\n",
       "    }\n",
       "\n",
       "    .dataframe thead th {\n",
       "        text-align: right;\n",
       "    }\n",
       "</style>\n",
       "<table border=\"1\" class=\"dataframe\">\n",
       "  <thead>\n",
       "    <tr style=\"text-align: right;\">\n",
       "      <th></th>\n",
       "      <th>age</th>\n",
       "      <th>education-num</th>\n",
       "      <th>workclass_Federal-gov</th>\n",
       "      <th>workclass_Local-gov</th>\n",
       "      <th>workclass_Never-worked</th>\n",
       "      <th>workclass_Private</th>\n",
       "      <th>workclass_Self-emp-inc</th>\n",
       "      <th>workclass_Self-emp-not-inc</th>\n",
       "      <th>workclass_State-gov</th>\n",
       "      <th>workclass_Without-pay</th>\n",
       "      <th>...</th>\n",
       "      <th>native-region_Asia_East</th>\n",
       "      <th>native-region_Central_America</th>\n",
       "      <th>native-region_Europe_East</th>\n",
       "      <th>native-region_Europe_West</th>\n",
       "      <th>native-region_North_America</th>\n",
       "      <th>native-region_South_America</th>\n",
       "      <th>capital-gain</th>\n",
       "      <th>capital-loss</th>\n",
       "      <th>hours-per-week</th>\n",
       "      <th>income&gt;50K</th>\n",
       "    </tr>\n",
       "  </thead>\n",
       "  <tbody>\n",
       "    <tr>\n",
       "      <th>0</th>\n",
       "      <td>0.301370</td>\n",
       "      <td>13</td>\n",
       "      <td>0.0</td>\n",
       "      <td>0.0</td>\n",
       "      <td>0.0</td>\n",
       "      <td>0.0</td>\n",
       "      <td>0.0</td>\n",
       "      <td>0.0</td>\n",
       "      <td>1.0</td>\n",
       "      <td>0.0</td>\n",
       "      <td>...</td>\n",
       "      <td>0.0</td>\n",
       "      <td>0.0</td>\n",
       "      <td>0.0</td>\n",
       "      <td>0.0</td>\n",
       "      <td>1.0</td>\n",
       "      <td>0.0</td>\n",
       "      <td>0.0</td>\n",
       "      <td>0.0</td>\n",
       "      <td>1.0</td>\n",
       "      <td>0</td>\n",
       "    </tr>\n",
       "    <tr>\n",
       "      <th>1</th>\n",
       "      <td>0.452055</td>\n",
       "      <td>13</td>\n",
       "      <td>0.0</td>\n",
       "      <td>0.0</td>\n",
       "      <td>0.0</td>\n",
       "      <td>0.0</td>\n",
       "      <td>0.0</td>\n",
       "      <td>1.0</td>\n",
       "      <td>0.0</td>\n",
       "      <td>0.0</td>\n",
       "      <td>...</td>\n",
       "      <td>0.0</td>\n",
       "      <td>0.0</td>\n",
       "      <td>0.0</td>\n",
       "      <td>0.0</td>\n",
       "      <td>1.0</td>\n",
       "      <td>0.0</td>\n",
       "      <td>0.0</td>\n",
       "      <td>0.0</td>\n",
       "      <td>0.0</td>\n",
       "      <td>0</td>\n",
       "    </tr>\n",
       "    <tr>\n",
       "      <th>2</th>\n",
       "      <td>0.287671</td>\n",
       "      <td>9</td>\n",
       "      <td>0.0</td>\n",
       "      <td>0.0</td>\n",
       "      <td>0.0</td>\n",
       "      <td>1.0</td>\n",
       "      <td>0.0</td>\n",
       "      <td>0.0</td>\n",
       "      <td>0.0</td>\n",
       "      <td>0.0</td>\n",
       "      <td>...</td>\n",
       "      <td>0.0</td>\n",
       "      <td>0.0</td>\n",
       "      <td>0.0</td>\n",
       "      <td>0.0</td>\n",
       "      <td>1.0</td>\n",
       "      <td>0.0</td>\n",
       "      <td>0.0</td>\n",
       "      <td>0.0</td>\n",
       "      <td>1.0</td>\n",
       "      <td>0</td>\n",
       "    </tr>\n",
       "    <tr>\n",
       "      <th>3</th>\n",
       "      <td>0.493151</td>\n",
       "      <td>7</td>\n",
       "      <td>0.0</td>\n",
       "      <td>0.0</td>\n",
       "      <td>0.0</td>\n",
       "      <td>1.0</td>\n",
       "      <td>0.0</td>\n",
       "      <td>0.0</td>\n",
       "      <td>0.0</td>\n",
       "      <td>0.0</td>\n",
       "      <td>...</td>\n",
       "      <td>0.0</td>\n",
       "      <td>0.0</td>\n",
       "      <td>0.0</td>\n",
       "      <td>0.0</td>\n",
       "      <td>1.0</td>\n",
       "      <td>0.0</td>\n",
       "      <td>0.0</td>\n",
       "      <td>0.0</td>\n",
       "      <td>1.0</td>\n",
       "      <td>0</td>\n",
       "    </tr>\n",
       "    <tr>\n",
       "      <th>4</th>\n",
       "      <td>0.150685</td>\n",
       "      <td>13</td>\n",
       "      <td>0.0</td>\n",
       "      <td>0.0</td>\n",
       "      <td>0.0</td>\n",
       "      <td>1.0</td>\n",
       "      <td>0.0</td>\n",
       "      <td>0.0</td>\n",
       "      <td>0.0</td>\n",
       "      <td>0.0</td>\n",
       "      <td>...</td>\n",
       "      <td>0.0</td>\n",
       "      <td>1.0</td>\n",
       "      <td>0.0</td>\n",
       "      <td>0.0</td>\n",
       "      <td>0.0</td>\n",
       "      <td>0.0</td>\n",
       "      <td>0.0</td>\n",
       "      <td>0.0</td>\n",
       "      <td>1.0</td>\n",
       "      <td>0</td>\n",
       "    </tr>\n",
       "  </tbody>\n",
       "</table>\n",
       "<p>5 rows × 56 columns</p>\n",
       "</div>"
      ],
      "text/plain": [
       "        age  education-num  workclass_Federal-gov  workclass_Local-gov  \\\n",
       "0  0.301370             13                    0.0                  0.0   \n",
       "1  0.452055             13                    0.0                  0.0   \n",
       "2  0.287671              9                    0.0                  0.0   \n",
       "3  0.493151              7                    0.0                  0.0   \n",
       "4  0.150685             13                    0.0                  0.0   \n",
       "\n",
       "   workclass_Never-worked  workclass_Private  workclass_Self-emp-inc  \\\n",
       "0                     0.0                0.0                     0.0   \n",
       "1                     0.0                0.0                     0.0   \n",
       "2                     0.0                1.0                     0.0   \n",
       "3                     0.0                1.0                     0.0   \n",
       "4                     0.0                1.0                     0.0   \n",
       "\n",
       "   workclass_Self-emp-not-inc  workclass_State-gov  workclass_Without-pay  \\\n",
       "0                         0.0                  1.0                    0.0   \n",
       "1                         1.0                  0.0                    0.0   \n",
       "2                         0.0                  0.0                    0.0   \n",
       "3                         0.0                  0.0                    0.0   \n",
       "4                         0.0                  0.0                    0.0   \n",
       "\n",
       "   ...  native-region_Asia_East  native-region_Central_America  \\\n",
       "0  ...                      0.0                            0.0   \n",
       "1  ...                      0.0                            0.0   \n",
       "2  ...                      0.0                            0.0   \n",
       "3  ...                      0.0                            0.0   \n",
       "4  ...                      0.0                            1.0   \n",
       "\n",
       "   native-region_Europe_East  native-region_Europe_West  \\\n",
       "0                        0.0                        0.0   \n",
       "1                        0.0                        0.0   \n",
       "2                        0.0                        0.0   \n",
       "3                        0.0                        0.0   \n",
       "4                        0.0                        0.0   \n",
       "\n",
       "   native-region_North_America  native-region_South_America  capital-gain  \\\n",
       "0                          1.0                          0.0           0.0   \n",
       "1                          1.0                          0.0           0.0   \n",
       "2                          1.0                          0.0           0.0   \n",
       "3                          1.0                          0.0           0.0   \n",
       "4                          0.0                          0.0           0.0   \n",
       "\n",
       "   capital-loss  hours-per-week  income>50K  \n",
       "0           0.0             1.0           0  \n",
       "1           0.0             0.0           0  \n",
       "2           0.0             1.0           0  \n",
       "3           0.0             1.0           0  \n",
       "4           0.0             1.0           0  \n",
       "\n",
       "[5 rows x 56 columns]"
      ]
     },
     "execution_count": 37,
     "metadata": {},
     "output_type": "execute_result"
    }
   ],
   "source": [
    "df = pd.read_csv(file_adult_census)\n",
    "df.head()"
   ]
  },
  {
   "cell_type": "markdown",
   "id": "85688ce4",
   "metadata": {},
   "source": [
    "Here, we use the 55 features to determine the outcome of the target variable, `income>50K`."
   ]
  },
  {
   "cell_type": "code",
   "execution_count": 38,
   "id": "b39255f3",
   "metadata": {},
   "outputs": [
    {
     "data": {
      "text/plain": [
       "age                                     float64\n",
       "education-num                             int64\n",
       "workclass_Federal-gov                   float64\n",
       "workclass_Local-gov                     float64\n",
       "workclass_Never-worked                  float64\n",
       "workclass_Private                       float64\n",
       "workclass_Self-emp-inc                  float64\n",
       "workclass_Self-emp-not-inc              float64\n",
       "workclass_State-gov                     float64\n",
       "workclass_Without-pay                   float64\n",
       "marital-status_Divorced                 float64\n",
       "marital-status_Married-AF-spouse        float64\n",
       "marital-status_Married-civ-spouse       float64\n",
       "marital-status_Married-spouse-absent    float64\n",
       "marital-status_Never-married            float64\n",
       "marital-status_Separated                float64\n",
       "marital-status_Widowed                  float64\n",
       "occupation_Adm-clerical                 float64\n",
       "occupation_Armed-Forces                 float64\n",
       "occupation_Craft-repair                 float64\n",
       "occupation_Exec-managerial              float64\n",
       "occupation_Farming-fishing              float64\n",
       "occupation_Handlers-cleaners            float64\n",
       "occupation_Machine-op-inspct            float64\n",
       "occupation_None                         float64\n",
       "occupation_Other-service                float64\n",
       "occupation_Priv-house-serv              float64\n",
       "occupation_Prof-specialty               float64\n",
       "occupation_Protective-serv              float64\n",
       "occupation_Sales                        float64\n",
       "occupation_Tech-support                 float64\n",
       "occupation_Transport-moving             float64\n",
       "relationship_Husband                    float64\n",
       "relationship_Not-in-family              float64\n",
       "relationship_Other-relative             float64\n",
       "relationship_Own-child                  float64\n",
       "relationship_Unmarried                  float64\n",
       "relationship_Wife                       float64\n",
       "race_Amer-Indian-Eskimo                 float64\n",
       "race_Asian-Pac-Islander                 float64\n",
       "race_Black                              float64\n",
       "race_Other                              float64\n",
       "race_White                              float64\n",
       "sex_Female                              float64\n",
       "sex_Male                                float64\n",
       "native-region_Asia_Central              float64\n",
       "native-region_Asia_East                 float64\n",
       "native-region_Central_America           float64\n",
       "native-region_Europe_East               float64\n",
       "native-region_Europe_West               float64\n",
       "native-region_North_America             float64\n",
       "native-region_South_America             float64\n",
       "capital-gain                            float64\n",
       "capital-loss                            float64\n",
       "hours-per-week                          float64\n",
       "income>50K                                int64\n",
       "dtype: object"
      ]
     },
     "execution_count": 38,
     "metadata": {},
     "output_type": "execute_result"
    }
   ],
   "source": [
    "df.dtypes"
   ]
  },
  {
   "cell_type": "code",
   "execution_count": 39,
   "id": "7b12c53b",
   "metadata": {},
   "outputs": [],
   "source": [
    "# Select columns containing categorical data\n",
    "categorical_columns = df[['education-num', 'capital-gain','capital-loss','hours-per-week']].columns\n",
    "# MaxDelq2PublicRecLast12M and MaxDelqEver were chosen as categories because \n",
    "# the data contains single digit values each representing a different meaning\n",
    "\n",
    "# Convert data type to category for these columns\n",
    "for column in categorical_columns:\n",
    "    df[column] = df[column].astype('category')  "
   ]
  },
  {
   "cell_type": "markdown",
   "id": "b243c833",
   "metadata": {},
   "source": [
    "Converted *education-num*, *capital-gain*, *capital-loss*, *hours-per-week* to categorical type."
   ]
  },
  {
   "cell_type": "code",
   "execution_count": 40,
   "id": "f3195d44",
   "metadata": {},
   "outputs": [
    {
     "data": {
      "text/plain": [
       "age                                     0\n",
       "education-num                           0\n",
       "workclass_Federal-gov                   0\n",
       "workclass_Local-gov                     0\n",
       "workclass_Never-worked                  0\n",
       "workclass_Private                       0\n",
       "workclass_Self-emp-inc                  0\n",
       "workclass_Self-emp-not-inc              0\n",
       "workclass_State-gov                     0\n",
       "workclass_Without-pay                   0\n",
       "marital-status_Divorced                 0\n",
       "marital-status_Married-AF-spouse        0\n",
       "marital-status_Married-civ-spouse       0\n",
       "marital-status_Married-spouse-absent    0\n",
       "marital-status_Never-married            0\n",
       "marital-status_Separated                0\n",
       "marital-status_Widowed                  0\n",
       "occupation_Adm-clerical                 0\n",
       "occupation_Armed-Forces                 0\n",
       "occupation_Craft-repair                 0\n",
       "occupation_Exec-managerial              0\n",
       "occupation_Farming-fishing              0\n",
       "occupation_Handlers-cleaners            0\n",
       "occupation_Machine-op-inspct            0\n",
       "occupation_None                         0\n",
       "occupation_Other-service                0\n",
       "occupation_Priv-house-serv              0\n",
       "occupation_Prof-specialty               0\n",
       "occupation_Protective-serv              0\n",
       "occupation_Sales                        0\n",
       "occupation_Tech-support                 0\n",
       "occupation_Transport-moving             0\n",
       "relationship_Husband                    0\n",
       "relationship_Not-in-family              0\n",
       "relationship_Other-relative             0\n",
       "relationship_Own-child                  0\n",
       "relationship_Unmarried                  0\n",
       "relationship_Wife                       0\n",
       "race_Amer-Indian-Eskimo                 0\n",
       "race_Asian-Pac-Islander                 0\n",
       "race_Black                              0\n",
       "race_Other                              0\n",
       "race_White                              0\n",
       "sex_Female                              0\n",
       "sex_Male                                0\n",
       "native-region_Asia_Central              0\n",
       "native-region_Asia_East                 0\n",
       "native-region_Central_America           0\n",
       "native-region_Europe_East               0\n",
       "native-region_Europe_West               0\n",
       "native-region_North_America             0\n",
       "native-region_South_America             0\n",
       "capital-gain                            0\n",
       "capital-loss                            0\n",
       "hours-per-week                          0\n",
       "income>50K                              0\n",
       "dtype: int64"
      ]
     },
     "execution_count": 40,
     "metadata": {},
     "output_type": "execute_result"
    }
   ],
   "source": [
    "df.isnull().sum()"
   ]
  },
  {
   "cell_type": "code",
   "execution_count": 41,
   "id": "0371fd15",
   "metadata": {},
   "outputs": [
    {
     "data": {
      "text/plain": [
       "0    0\n",
       "1    0\n",
       "2    0\n",
       "3    0\n",
       "4    0\n",
       "Name: income>50K, dtype: int64"
      ]
     },
     "execution_count": 41,
     "metadata": {},
     "output_type": "execute_result"
    }
   ],
   "source": [
    "target = df.pop('income>50K')\n",
    "target.head()"
   ]
  },
  {
   "cell_type": "code",
   "execution_count": 42,
   "id": "33291cd4",
   "metadata": {},
   "outputs": [
    {
     "data": {
      "text/html": [
       "<div>\n",
       "<style scoped>\n",
       "    .dataframe tbody tr th:only-of-type {\n",
       "        vertical-align: middle;\n",
       "    }\n",
       "\n",
       "    .dataframe tbody tr th {\n",
       "        vertical-align: top;\n",
       "    }\n",
       "\n",
       "    .dataframe thead th {\n",
       "        text-align: right;\n",
       "    }\n",
       "</style>\n",
       "<table border=\"1\" class=\"dataframe\">\n",
       "  <thead>\n",
       "    <tr style=\"text-align: right;\">\n",
       "      <th></th>\n",
       "      <th>age</th>\n",
       "      <th>education-num</th>\n",
       "      <th>workclass_Federal-gov</th>\n",
       "      <th>workclass_Local-gov</th>\n",
       "      <th>workclass_Never-worked</th>\n",
       "      <th>workclass_Private</th>\n",
       "      <th>workclass_Self-emp-inc</th>\n",
       "      <th>workclass_Self-emp-not-inc</th>\n",
       "      <th>workclass_State-gov</th>\n",
       "      <th>workclass_Without-pay</th>\n",
       "      <th>...</th>\n",
       "      <th>native-region_Asia_Central</th>\n",
       "      <th>native-region_Asia_East</th>\n",
       "      <th>native-region_Central_America</th>\n",
       "      <th>native-region_Europe_East</th>\n",
       "      <th>native-region_Europe_West</th>\n",
       "      <th>native-region_North_America</th>\n",
       "      <th>native-region_South_America</th>\n",
       "      <th>capital-gain</th>\n",
       "      <th>capital-loss</th>\n",
       "      <th>hours-per-week</th>\n",
       "    </tr>\n",
       "  </thead>\n",
       "  <tbody>\n",
       "    <tr>\n",
       "      <th>0</th>\n",
       "      <td>0.301370</td>\n",
       "      <td>13</td>\n",
       "      <td>0.0</td>\n",
       "      <td>0.0</td>\n",
       "      <td>0.0</td>\n",
       "      <td>0.0</td>\n",
       "      <td>0.0</td>\n",
       "      <td>0.0</td>\n",
       "      <td>1.0</td>\n",
       "      <td>0.0</td>\n",
       "      <td>...</td>\n",
       "      <td>0.0</td>\n",
       "      <td>0.0</td>\n",
       "      <td>0.0</td>\n",
       "      <td>0.0</td>\n",
       "      <td>0.0</td>\n",
       "      <td>1.0</td>\n",
       "      <td>0.0</td>\n",
       "      <td>0.0</td>\n",
       "      <td>0.0</td>\n",
       "      <td>1.0</td>\n",
       "    </tr>\n",
       "    <tr>\n",
       "      <th>1</th>\n",
       "      <td>0.452055</td>\n",
       "      <td>13</td>\n",
       "      <td>0.0</td>\n",
       "      <td>0.0</td>\n",
       "      <td>0.0</td>\n",
       "      <td>0.0</td>\n",
       "      <td>0.0</td>\n",
       "      <td>1.0</td>\n",
       "      <td>0.0</td>\n",
       "      <td>0.0</td>\n",
       "      <td>...</td>\n",
       "      <td>0.0</td>\n",
       "      <td>0.0</td>\n",
       "      <td>0.0</td>\n",
       "      <td>0.0</td>\n",
       "      <td>0.0</td>\n",
       "      <td>1.0</td>\n",
       "      <td>0.0</td>\n",
       "      <td>0.0</td>\n",
       "      <td>0.0</td>\n",
       "      <td>0.0</td>\n",
       "    </tr>\n",
       "    <tr>\n",
       "      <th>2</th>\n",
       "      <td>0.287671</td>\n",
       "      <td>9</td>\n",
       "      <td>0.0</td>\n",
       "      <td>0.0</td>\n",
       "      <td>0.0</td>\n",
       "      <td>1.0</td>\n",
       "      <td>0.0</td>\n",
       "      <td>0.0</td>\n",
       "      <td>0.0</td>\n",
       "      <td>0.0</td>\n",
       "      <td>...</td>\n",
       "      <td>0.0</td>\n",
       "      <td>0.0</td>\n",
       "      <td>0.0</td>\n",
       "      <td>0.0</td>\n",
       "      <td>0.0</td>\n",
       "      <td>1.0</td>\n",
       "      <td>0.0</td>\n",
       "      <td>0.0</td>\n",
       "      <td>0.0</td>\n",
       "      <td>1.0</td>\n",
       "    </tr>\n",
       "    <tr>\n",
       "      <th>3</th>\n",
       "      <td>0.493151</td>\n",
       "      <td>7</td>\n",
       "      <td>0.0</td>\n",
       "      <td>0.0</td>\n",
       "      <td>0.0</td>\n",
       "      <td>1.0</td>\n",
       "      <td>0.0</td>\n",
       "      <td>0.0</td>\n",
       "      <td>0.0</td>\n",
       "      <td>0.0</td>\n",
       "      <td>...</td>\n",
       "      <td>0.0</td>\n",
       "      <td>0.0</td>\n",
       "      <td>0.0</td>\n",
       "      <td>0.0</td>\n",
       "      <td>0.0</td>\n",
       "      <td>1.0</td>\n",
       "      <td>0.0</td>\n",
       "      <td>0.0</td>\n",
       "      <td>0.0</td>\n",
       "      <td>1.0</td>\n",
       "    </tr>\n",
       "    <tr>\n",
       "      <th>4</th>\n",
       "      <td>0.150685</td>\n",
       "      <td>13</td>\n",
       "      <td>0.0</td>\n",
       "      <td>0.0</td>\n",
       "      <td>0.0</td>\n",
       "      <td>1.0</td>\n",
       "      <td>0.0</td>\n",
       "      <td>0.0</td>\n",
       "      <td>0.0</td>\n",
       "      <td>0.0</td>\n",
       "      <td>...</td>\n",
       "      <td>0.0</td>\n",
       "      <td>0.0</td>\n",
       "      <td>1.0</td>\n",
       "      <td>0.0</td>\n",
       "      <td>0.0</td>\n",
       "      <td>0.0</td>\n",
       "      <td>0.0</td>\n",
       "      <td>0.0</td>\n",
       "      <td>0.0</td>\n",
       "      <td>1.0</td>\n",
       "    </tr>\n",
       "  </tbody>\n",
       "</table>\n",
       "<p>5 rows × 55 columns</p>\n",
       "</div>"
      ],
      "text/plain": [
       "        age education-num  workclass_Federal-gov  workclass_Local-gov  \\\n",
       "0  0.301370            13                    0.0                  0.0   \n",
       "1  0.452055            13                    0.0                  0.0   \n",
       "2  0.287671             9                    0.0                  0.0   \n",
       "3  0.493151             7                    0.0                  0.0   \n",
       "4  0.150685            13                    0.0                  0.0   \n",
       "\n",
       "   workclass_Never-worked  workclass_Private  workclass_Self-emp-inc  \\\n",
       "0                     0.0                0.0                     0.0   \n",
       "1                     0.0                0.0                     0.0   \n",
       "2                     0.0                1.0                     0.0   \n",
       "3                     0.0                1.0                     0.0   \n",
       "4                     0.0                1.0                     0.0   \n",
       "\n",
       "   workclass_Self-emp-not-inc  workclass_State-gov  workclass_Without-pay  \\\n",
       "0                         0.0                  1.0                    0.0   \n",
       "1                         1.0                  0.0                    0.0   \n",
       "2                         0.0                  0.0                    0.0   \n",
       "3                         0.0                  0.0                    0.0   \n",
       "4                         0.0                  0.0                    0.0   \n",
       "\n",
       "   ...  native-region_Asia_Central  native-region_Asia_East  \\\n",
       "0  ...                         0.0                      0.0   \n",
       "1  ...                         0.0                      0.0   \n",
       "2  ...                         0.0                      0.0   \n",
       "3  ...                         0.0                      0.0   \n",
       "4  ...                         0.0                      0.0   \n",
       "\n",
       "   native-region_Central_America  native-region_Europe_East  \\\n",
       "0                            0.0                        0.0   \n",
       "1                            0.0                        0.0   \n",
       "2                            0.0                        0.0   \n",
       "3                            0.0                        0.0   \n",
       "4                            1.0                        0.0   \n",
       "\n",
       "   native-region_Europe_West  native-region_North_America  \\\n",
       "0                        0.0                          1.0   \n",
       "1                        0.0                          1.0   \n",
       "2                        0.0                          1.0   \n",
       "3                        0.0                          1.0   \n",
       "4                        0.0                          0.0   \n",
       "\n",
       "   native-region_South_America  capital-gain  capital-loss  hours-per-week  \n",
       "0                          0.0           0.0           0.0             1.0  \n",
       "1                          0.0           0.0           0.0             0.0  \n",
       "2                          0.0           0.0           0.0             1.0  \n",
       "3                          0.0           0.0           0.0             1.0  \n",
       "4                          0.0           0.0           0.0             1.0  \n",
       "\n",
       "[5 rows x 55 columns]"
      ]
     },
     "execution_count": 42,
     "metadata": {},
     "output_type": "execute_result"
    }
   ],
   "source": [
    "df.head()"
   ]
  },
  {
   "cell_type": "markdown",
   "id": "d458f9f9",
   "metadata": {},
   "source": [
    "#### Train-test split"
   ]
  },
  {
   "cell_type": "code",
   "execution_count": 43,
   "id": "8f63a514",
   "metadata": {},
   "outputs": [],
   "source": [
    "X_train, X_test, y_train, y_test = train_test_split(df, target, train_size=0.75, random_state=1)"
   ]
  },
  {
   "cell_type": "markdown",
   "id": "8f2a73a5",
   "metadata": {},
   "source": [
    "### *k* Nearest Neighbour"
   ]
  },
  {
   "cell_type": "markdown",
   "id": "6434eb98",
   "metadata": {},
   "source": [
    "The default similarity metric for k-NN is Euclidean distance.  \n",
    "In some circumstances other metrics (or measures) will be more appropriate - for instance correlation.\n",
    "Refer to <a href=https://scikit-learn.org/stable/modules/neighbors.html#nearest-neighbors-classification>documentation</a>"
   ]
  },
  {
   "cell_type": "code",
   "execution_count": 44,
   "id": "c1618801",
   "metadata": {},
   "outputs": [
    {
     "data": {
      "text/plain": [
       "KNeighborsClassifier()"
      ]
     },
     "execution_count": 44,
     "metadata": {},
     "output_type": "execute_result"
    }
   ],
   "source": [
    "knn_clf = KNeighborsClassifier() \n",
    "# fit the KNN model on the motor_insurance training data\n",
    "knn_clf.fit(X_train, y_train)"
   ]
  },
  {
   "cell_type": "code",
   "execution_count": 45,
   "id": "329e8f98",
   "metadata": {},
   "outputs": [
    {
     "data": {
      "text/plain": [
       "0.8705911574764034"
      ]
     },
     "execution_count": 45,
     "metadata": {},
     "output_type": "execute_result"
    }
   ],
   "source": [
    "# predict on the training dataset \n",
    "y_predicted = knn_clf.predict(X_train)\n",
    "accuracy_score(y_train, y_predicted)"
   ]
  },
  {
   "cell_type": "code",
   "execution_count": 46,
   "id": "e9209337",
   "metadata": {},
   "outputs": [
    {
     "data": {
      "text/plain": [
       "0.8180327868852459"
      ]
     },
     "execution_count": 46,
     "metadata": {},
     "output_type": "execute_result"
    }
   ],
   "source": [
    "# predict if an individual's credit risk performance isgood or bad on the test data using the trained KNN model\n",
    "y_predicted = knn_clf.predict(X_test)\n",
    "accuracy_score(y_test, y_predicted)"
   ]
  },
  {
   "cell_type": "markdown",
   "id": "c72f0ccc",
   "metadata": {},
   "source": [
    "### Decision Trees"
   ]
  },
  {
   "cell_type": "markdown",
   "id": "b683c8e3",
   "metadata": {},
   "source": [
    "Decision trees are non-parametric models: they are not controlled by a mathematical decision function and do not have weights or intercept to be optimized.\n",
    "\n",
    "Decision trees will partition the space by considering a single feature at a time. Refer to <a href=https://scikit-learn.org/stable/modules/tree.html>documentation</a>"
   ]
  },
  {
   "cell_type": "code",
   "execution_count": 47,
   "id": "80bc5d3e",
   "metadata": {},
   "outputs": [
    {
     "data": {
      "text/plain": [
       "DecisionTreeClassifier(criterion='entropy', max_depth=3)"
      ]
     },
     "execution_count": 47,
     "metadata": {},
     "output_type": "execute_result"
    }
   ],
   "source": [
    "dtc = DecisionTreeClassifier(criterion='entropy', max_depth=3)\n",
    "# fit the Decision Tree model on the athlete training data\n",
    "dtc.fit(X_train, y_train)"
   ]
  },
  {
   "cell_type": "code",
   "execution_count": 48,
   "id": "965b64a3",
   "metadata": {},
   "outputs": [
    {
     "data": {
      "text/plain": [
       "0.8266269249875807"
      ]
     },
     "execution_count": 48,
     "metadata": {},
     "output_type": "execute_result"
    }
   ],
   "source": [
    "# predict on the training dataset \n",
    "y_predicted = dtc.predict(X_train)\n",
    "accuracy_score(y_train, y_predicted)"
   ]
  },
  {
   "cell_type": "code",
   "execution_count": 49,
   "id": "f76dfa4f",
   "metadata": {},
   "outputs": [
    {
     "data": {
      "text/plain": [
       "0.822354694485842"
      ]
     },
     "execution_count": 49,
     "metadata": {},
     "output_type": "execute_result"
    }
   ],
   "source": [
    "# predict if an individual's credit risk performance isgood or bad on the test data using Decision Tree model\n",
    "y_predicted = dtc.predict(X_test)\n",
    "accuracy_score(y_test, y_predicted)"
   ]
  },
  {
   "cell_type": "markdown",
   "id": "58cd355c",
   "metadata": {},
   "source": [
    "### Naive Bayes"
   ]
  },
  {
   "cell_type": "markdown",
   "id": "93d6c793",
   "metadata": {},
   "source": [
    "A ranking classifier is a classifier that can rank a test set in order of confidence for a given classification outcome.  \n",
    "Naive Bayes is a ranking classifier because the ‘probability’ can be used as a confidence measure for ranking. Refer to <a href=https://scikit-learn.org/stable/modules/naive_bayes.html>documentation</a>"
   ]
  },
  {
   "cell_type": "code",
   "execution_count": 50,
   "id": "a024f0e1",
   "metadata": {},
   "outputs": [
    {
     "data": {
      "text/plain": [
       "GaussianNB()"
      ]
     },
     "execution_count": 50,
     "metadata": {},
     "output_type": "execute_result"
    }
   ],
   "source": [
    "gnb_clf = GaussianNB()\n",
    "gnb_clf.fit(X_train, y_train)"
   ]
  },
  {
   "cell_type": "code",
   "execution_count": 51,
   "id": "36eddd7e",
   "metadata": {},
   "outputs": [
    {
     "data": {
      "text/plain": [
       "0.56949826130154"
      ]
     },
     "execution_count": 51,
     "metadata": {},
     "output_type": "execute_result"
    }
   ],
   "source": [
    "#cpredict on the training dataset \n",
    "y_predicted = gnb_clf.predict(X_train)\n",
    "accuracy_score(y_train, y_predicted)"
   ]
  },
  {
   "cell_type": "code",
   "execution_count": 52,
   "id": "7bd29926",
   "metadata": {},
   "outputs": [
    {
     "data": {
      "text/plain": [
       "0.5622950819672131"
      ]
     },
     "execution_count": 52,
     "metadata": {},
     "output_type": "execute_result"
    }
   ],
   "source": [
    "# predict if an individual's credit risk performance isgood or bad on the test data using Naive Bayes model\n",
    "y_predicted = gnb_clf.predict(X_test)\n",
    "accuracy_score(y_test, y_predicted)"
   ]
  },
  {
   "cell_type": "markdown",
   "id": "e75b8628",
   "metadata": {},
   "source": [
    "### Exercises: \n",
    "\n",
    "1. Change the proportion of the train-test split and check if it makes a difference \n",
    "2. Change the model's parameters / hyperparameters / type as given below and observe the impact on the performance:     \n",
    "    a. KNN: `n_neighbors`     \n",
    "    b. Decision Trees: `min_samples_leaf` and `max_depth`    \n",
    "    c. NaiveBayes: BernoulliNB, MultinomialNB       "
   ]
  },
  {
   "cell_type": "markdown",
   "id": "87dca5b6",
   "metadata": {},
   "source": [
    "### 1."
   ]
  },
  {
   "cell_type": "code",
   "execution_count": 53,
   "id": "ce68d9ba",
   "metadata": {},
   "outputs": [],
   "source": [
    "# splitting the data as 60% training set and the remaining 40% as testing set\n",
    "X_train, X_test, y_train, y_test = train_test_split(df, target, train_size=0.6, random_state=1)"
   ]
  },
  {
   "cell_type": "code",
   "execution_count": 54,
   "id": "e63a0a84",
   "metadata": {},
   "outputs": [
    {
     "data": {
      "text/plain": [
       "KNeighborsClassifier()"
      ]
     },
     "execution_count": 54,
     "metadata": {},
     "output_type": "execute_result"
    }
   ],
   "source": [
    "knn_clf = KNeighborsClassifier() \n",
    "# fit the KNN model on the credit risk training data\n",
    "knn_clf.fit(X_train, y_train)"
   ]
  },
  {
   "cell_type": "code",
   "execution_count": 55,
   "id": "0d850569",
   "metadata": {},
   "outputs": [
    {
     "data": {
      "text/plain": [
       "0.8721435668156979"
      ]
     },
     "execution_count": 55,
     "metadata": {},
     "output_type": "execute_result"
    }
   ],
   "source": [
    "# predict on the training dataset \n",
    "y_predicted = knn_clf.predict(X_train)\n",
    "accuracy_score(y_train, y_predicted)"
   ]
  },
  {
   "cell_type": "code",
   "execution_count": 56,
   "id": "7e180904",
   "metadata": {},
   "outputs": [
    {
     "data": {
      "text/plain": [
       "0.8175298062593145"
      ]
     },
     "execution_count": 56,
     "metadata": {},
     "output_type": "execute_result"
    }
   ],
   "source": [
    "# predict if an individual's credit risk performance isgood or bad on the test data using the trained KNN model\n",
    "y_predicted = knn_clf.predict(X_test)\n",
    "accuracy_score(y_test, y_predicted)"
   ]
  },
  {
   "cell_type": "markdown",
   "id": "8ccd4284",
   "metadata": {},
   "source": [
    "### 2."
   ]
  },
  {
   "cell_type": "code",
   "execution_count": 57,
   "id": "d50ff615",
   "metadata": {},
   "outputs": [
    {
     "name": "stdout",
     "output_type": "stream",
     "text": [
      "\n",
      "n_neighbors =  2\n",
      "Prediction performance on training set:  0.8901515151515151\n",
      "Prediction performance on testing set:  0.7969448584202683\n",
      "\n",
      "n_neighbors =  5\n",
      "Prediction performance on training set:  0.8721435668156979\n",
      "Prediction performance on testing set:  0.8175298062593145\n",
      "\n",
      "n_neighbors =  10\n",
      "Prediction performance on training set:  0.8554396423248882\n",
      "Prediction performance on testing set:  0.8243293591654247\n",
      "\n",
      "n_neighbors =  12\n",
      "Prediction performance on training set:  0.8524590163934426\n",
      "Prediction performance on testing set:  0.8265648286140089\n",
      "\n",
      "n_neighbors =  15\n",
      "Prediction performance on training set:  0.8516517635370094\n",
      "Prediction performance on testing set:  0.8295454545454546\n"
     ]
    }
   ],
   "source": [
    "# (a)\n",
    "for n in [2, 5, 10, 12, 15]:\n",
    "    print('\\nn_neighbors = ', n)\n",
    "    knn_clf = KNeighborsClassifier(n_neighbors=n) \n",
    "    # fit the KNN model on the credit risk training data\n",
    "    knn_clf.fit(X_train, y_train)\n",
    "\n",
    "    # predict on the training dataset \n",
    "    y_predicted = knn_clf.predict(X_train)\n",
    "    print('Prediction performance on training set: ', accuracy_score(y_train, y_predicted))\n",
    "        \n",
    "    # predict on the test dataset \n",
    "    y_predicted = knn_clf.predict(X_test)\n",
    "    print('Prediction performance on testing set: ', accuracy_score(y_test, y_predicted))"
   ]
  },
  {
   "cell_type": "code",
   "execution_count": 58,
   "id": "77546942",
   "metadata": {},
   "outputs": [
    {
     "name": "stdout",
     "output_type": "stream",
     "text": [
      "\n",
      "Max depth =  2\n",
      "\n",
      "Min samples leaf =  2\n",
      "Prediction performance on training set:  0.8111649279682066\n",
      "Prediction performance on testing set:  0.8145491803278688\n",
      "\n",
      "Min samples leaf =  3\n",
      "Prediction performance on training set:  0.8111649279682066\n",
      "Prediction performance on testing set:  0.8145491803278688\n",
      "\n",
      "Min samples leaf =  5\n",
      "Prediction performance on training set:  0.8111649279682066\n",
      "Prediction performance on testing set:  0.8145491803278688\n",
      "\n",
      "Min samples leaf =  10\n",
      "Prediction performance on training set:  0.8111649279682066\n",
      "Prediction performance on testing set:  0.8145491803278688\n",
      "\n",
      "Max depth =  5\n",
      "\n",
      "Min samples leaf =  2\n",
      "Prediction performance on training set:  0.8292970690511674\n",
      "Prediction performance on testing set:  0.8258196721311475\n",
      "\n",
      "Min samples leaf =  3\n",
      "Prediction performance on training set:  0.8292970690511674\n",
      "Prediction performance on testing set:  0.8257265275707899\n",
      "\n",
      "Min samples leaf =  5\n",
      "Prediction performance on training set:  0.8292970690511674\n",
      "Prediction performance on testing set:  0.8257265275707899\n",
      "\n",
      "Min samples leaf =  10\n",
      "Prediction performance on training set:  0.8291728763040238\n",
      "Prediction performance on testing set:  0.8256333830104322\n",
      "\n",
      "Max depth =  7\n",
      "\n",
      "Min samples leaf =  2\n",
      "Prediction performance on training set:  0.8378663686040735\n",
      "Prediction performance on testing set:  0.8249813710879285\n",
      "\n",
      "Min samples leaf =  3\n",
      "Prediction performance on training set:  0.8373695976154992\n",
      "Prediction performance on testing set:  0.8247019374068555\n",
      "\n",
      "Min samples leaf =  5\n",
      "Prediction performance on training set:  0.8365002483854943\n",
      "Prediction performance on testing set:  0.8243293591654247\n",
      "\n",
      "Min samples leaf =  10\n",
      "Prediction performance on training set:  0.8353825136612022\n",
      "Prediction performance on testing set:  0.8259128166915052\n"
     ]
    }
   ],
   "source": [
    "# (b)\n",
    "for depth in [2, 5, 7]:\n",
    "    print('\\nMax depth = ', depth)\n",
    "    for samples_in_leaf in [2, 3, 5, 10]:\n",
    "        print('\\nMin samples leaf = ', samples_in_leaf)\n",
    "        dtc = DecisionTreeClassifier(max_depth=depth, min_samples_leaf=samples_in_leaf) \n",
    "        # fit the decision trees model on the credit risk training data\n",
    "        dtc.fit(X_train, y_train)\n",
    "\n",
    "        # predict on the training dataset \n",
    "        y_predicted = dtc.predict(X_train)\n",
    "        print('Prediction performance on training set: ', accuracy_score(y_train, y_predicted))\n",
    "\n",
    "        # predict on the test dataset \n",
    "        y_predicted = dtc.predict(X_test)\n",
    "        print('Prediction performance on testing set: ', accuracy_score(y_test, y_predicted))"
   ]
  },
  {
   "cell_type": "code",
   "execution_count": 59,
   "id": "8ddbe5b3",
   "metadata": {},
   "outputs": [
    {
     "name": "stdout",
     "output_type": "stream",
     "text": [
      "\n",
      "Model =  GaussianNB\n",
      "Prediction performance on training set:  0.5703551912568307\n",
      "Prediction performance on testing set:  0.5576564828614009\n",
      "\n",
      "Model =  BernoulliNB\n",
      "Prediction performance on training set:  0.7455911574764034\n",
      "Prediction performance on testing set:  0.7449701937406855\n",
      "\n",
      "Model =  MultinomialNB\n",
      "Prediction performance on training set:  0.7826626924987581\n",
      "Prediction performance on testing set:  0.7857675111773472\n"
     ]
    }
   ],
   "source": [
    "# (c)\n",
    "for classifier in [GaussianNB(), BernoulliNB(), MultinomialNB()]:\n",
    "    print('\\nModel = ', classifier.__class__.__name__)\n",
    "    # fit the Naive Bayes on the credit risk training data\n",
    "    classifier.fit(X_train, y_train)\n",
    "\n",
    "    # predict on the training dataset \n",
    "    y_predicted = classifier.predict(X_train)\n",
    "    print('Prediction performance on training set: ', accuracy_score(y_train,  y_predicted))\n",
    "        \n",
    "    # predict on the test dataset \n",
    "    y_predicted = classifier.predict(X_test)\n",
    "    print('Prediction performance on testing set: ', accuracy_score(y_test,  y_predicted))"
   ]
  }
 ],
 "metadata": {
  "kernelspec": {
   "display_name": "Python 3",
   "language": "python",
   "name": "python3"
  },
  "language_info": {
   "codemirror_mode": {
    "name": "ipython",
    "version": 3
   },
   "file_extension": ".py",
   "mimetype": "text/x-python",
   "name": "python",
   "nbconvert_exporter": "python",
   "pygments_lexer": "ipython3",
   "version": "3.9.12"
  }
 },
 "nbformat": 4,
 "nbformat_minor": 5
}
