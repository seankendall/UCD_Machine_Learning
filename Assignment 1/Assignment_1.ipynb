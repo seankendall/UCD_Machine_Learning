{
 "cells": [
  {
   "cell_type": "markdown",
   "metadata": {},
   "source": [
    "**Name: Seán Kendall**\n",
    "\n",
    "**Student Number: 20355246**"
   ]
  },
  {
   "cell_type": "markdown",
   "metadata": {},
   "source": [
    "# Machine Learning Assignment 1\n",
    "\n",
    "### Task 1 - Prepare a data quality plan for the dataset. "
   ]
  },
  {
   "cell_type": "code",
   "execution_count": 131,
   "metadata": {},
   "outputs": [],
   "source": [
    "# importing packages\n",
    "import numpy as np \n",
    "import pandas as pd \n",
    "from sklearn import datasets\n",
    "from sklearn.metrics import accuracy_score\n",
    "from sklearn.neighbors import KNeighborsClassifier\n",
    "import matplotlib.pyplot as plt\n",
    "from sklearn.impute import KNNImputer\n",
    "from scipy import stats\n",
    "from sklearn.preprocessing import StandardScaler \n",
    "import matplotlib.pyplot as plt\n",
    "import seaborn as sns\n",
    "import matplotlib.pyplot as plt\n",
    "from sklearn.preprocessing import MinMaxScaler\n",
    "from sklearn.tree import DecisionTreeClassifier\n",
    "from sklearn.neighbors import KNeighborsClassifier\n",
    "from sklearn.model_selection import train_test_split\n",
    "from sklearn.svm import SVC\n",
    "from sklearn.metrics import f1_score\n",
    "from sklearn.feature_selection import chi2, mutual_info_classif\n",
    "from sklearn.feature_selection import SequentialFeatureSelector\n",
    "from sklearn.metrics import RocCurveDisplay\n",
    "from sklearn.dummy import DummyClassifier\n",
    "from sklearn.metrics import ConfusionMatrixDisplay"
   ]
  },
  {
   "cell_type": "code",
   "execution_count": 72,
   "metadata": {},
   "outputs": [
    {
     "data": {
      "text/html": [
       "<div>\n",
       "<style scoped>\n",
       "    .dataframe tbody tr th:only-of-type {\n",
       "        vertical-align: middle;\n",
       "    }\n",
       "\n",
       "    .dataframe tbody tr th {\n",
       "        vertical-align: top;\n",
       "    }\n",
       "\n",
       "    .dataframe thead th {\n",
       "        text-align: right;\n",
       "    }\n",
       "</style>\n",
       "<table border=\"1\" class=\"dataframe\">\n",
       "  <thead>\n",
       "    <tr style=\"text-align: right;\">\n",
       "      <th></th>\n",
       "      <th>Mean of the integrated profile</th>\n",
       "      <th>Standard deviation of the integrated profile</th>\n",
       "      <th>Excess kurtosis of the integrated profile</th>\n",
       "      <th>Skewness of the integrated profile</th>\n",
       "      <th>Mean of the DM-SNR curve</th>\n",
       "      <th>Standard deviation of the DM-SNR curve</th>\n",
       "      <th>Excess kurtosis of the DM-SNR curve</th>\n",
       "      <th>Skewness of the DM-SNR curve</th>\n",
       "      <th>target_class</th>\n",
       "    </tr>\n",
       "  </thead>\n",
       "  <tbody>\n",
       "    <tr>\n",
       "      <th>0</th>\n",
       "      <td>69.210938</td>\n",
       "      <td>36.152380</td>\n",
       "      <td>2.602622</td>\n",
       "      <td>11.032994</td>\n",
       "      <td>11.813545</td>\n",
       "      <td>NaN</td>\n",
       "      <td>3.902658</td>\n",
       "      <td>15.151920</td>\n",
       "      <td>1.0</td>\n",
       "    </tr>\n",
       "    <tr>\n",
       "      <th>1</th>\n",
       "      <td>134.406250</td>\n",
       "      <td>50.156854</td>\n",
       "      <td>0.079866</td>\n",
       "      <td>0.033346</td>\n",
       "      <td>6.665552</td>\n",
       "      <td>32.420758</td>\n",
       "      <td>5.661207</td>\n",
       "      <td>32.734410</td>\n",
       "      <td>0.0</td>\n",
       "    </tr>\n",
       "    <tr>\n",
       "      <th>2</th>\n",
       "      <td>115.328125</td>\n",
       "      <td>42.048170</td>\n",
       "      <td>0.173711</td>\n",
       "      <td>0.986480</td>\n",
       "      <td>3.673913</td>\n",
       "      <td>17.791359</td>\n",
       "      <td>6.585335</td>\n",
       "      <td>55.940803</td>\n",
       "      <td>0.0</td>\n",
       "    </tr>\n",
       "    <tr>\n",
       "      <th>3</th>\n",
       "      <td>89.671875</td>\n",
       "      <td>37.521059</td>\n",
       "      <td>0.601360</td>\n",
       "      <td>1.764652</td>\n",
       "      <td>2.541806</td>\n",
       "      <td>17.225897</td>\n",
       "      <td>9.405202</td>\n",
       "      <td>103.620491</td>\n",
       "      <td>0.0</td>\n",
       "    </tr>\n",
       "    <tr>\n",
       "      <th>4</th>\n",
       "      <td>127.539062</td>\n",
       "      <td>50.289459</td>\n",
       "      <td>-0.084592</td>\n",
       "      <td>-0.333478</td>\n",
       "      <td>103.101171</td>\n",
       "      <td>78.528624</td>\n",
       "      <td>-0.500153</td>\n",
       "      <td>-1.629239</td>\n",
       "      <td>0.0</td>\n",
       "    </tr>\n",
       "    <tr>\n",
       "      <th>...</th>\n",
       "      <td>...</td>\n",
       "      <td>...</td>\n",
       "      <td>...</td>\n",
       "      <td>...</td>\n",
       "      <td>...</td>\n",
       "      <td>...</td>\n",
       "      <td>...</td>\n",
       "      <td>...</td>\n",
       "      <td>...</td>\n",
       "    </tr>\n",
       "    <tr>\n",
       "      <th>9995</th>\n",
       "      <td>134.140625</td>\n",
       "      <td>50.561493</td>\n",
       "      <td>0.062787</td>\n",
       "      <td>-0.269271</td>\n",
       "      <td>3.739967</td>\n",
       "      <td>20.886901</td>\n",
       "      <td>7.469796</td>\n",
       "      <td>63.328740</td>\n",
       "      <td>0.0</td>\n",
       "    </tr>\n",
       "    <tr>\n",
       "      <th>9996</th>\n",
       "      <td>102.359375</td>\n",
       "      <td>43.823106</td>\n",
       "      <td>0.242901</td>\n",
       "      <td>0.102978</td>\n",
       "      <td>3.076087</td>\n",
       "      <td>NaN</td>\n",
       "      <td>7.502146</td>\n",
       "      <td>59.399329</td>\n",
       "      <td>0.0</td>\n",
       "    </tr>\n",
       "    <tr>\n",
       "      <th>9997</th>\n",
       "      <td>101.531250</td>\n",
       "      <td>46.394696</td>\n",
       "      <td>0.236189</td>\n",
       "      <td>0.187752</td>\n",
       "      <td>3.801003</td>\n",
       "      <td>21.835862</td>\n",
       "      <td>7.060130</td>\n",
       "      <td>55.326122</td>\n",
       "      <td>0.0</td>\n",
       "    </tr>\n",
       "    <tr>\n",
       "      <th>9998</th>\n",
       "      <td>111.210938</td>\n",
       "      <td>42.033962</td>\n",
       "      <td>0.434656</td>\n",
       "      <td>0.710722</td>\n",
       "      <td>2.175585</td>\n",
       "      <td>NaN</td>\n",
       "      <td>9.665629</td>\n",
       "      <td>114.822621</td>\n",
       "      <td>0.0</td>\n",
       "    </tr>\n",
       "    <tr>\n",
       "      <th>9999</th>\n",
       "      <td>110.054688</td>\n",
       "      <td>46.837370</td>\n",
       "      <td>0.434541</td>\n",
       "      <td>0.548485</td>\n",
       "      <td>5.569398</td>\n",
       "      <td>28.102643</td>\n",
       "      <td>5.613341</td>\n",
       "      <td>33.045585</td>\n",
       "      <td>0.0</td>\n",
       "    </tr>\n",
       "  </tbody>\n",
       "</table>\n",
       "<p>10000 rows × 9 columns</p>\n",
       "</div>"
      ],
      "text/plain": [
       "       Mean of the integrated profile  \\\n",
       "0                           69.210938   \n",
       "1                          134.406250   \n",
       "2                          115.328125   \n",
       "3                           89.671875   \n",
       "4                          127.539062   \n",
       "...                               ...   \n",
       "9995                       134.140625   \n",
       "9996                       102.359375   \n",
       "9997                       101.531250   \n",
       "9998                       111.210938   \n",
       "9999                       110.054688   \n",
       "\n",
       "       Standard deviation of the integrated profile  \\\n",
       "0                                         36.152380   \n",
       "1                                         50.156854   \n",
       "2                                         42.048170   \n",
       "3                                         37.521059   \n",
       "4                                         50.289459   \n",
       "...                                             ...   \n",
       "9995                                      50.561493   \n",
       "9996                                      43.823106   \n",
       "9997                                      46.394696   \n",
       "9998                                      42.033962   \n",
       "9999                                      46.837370   \n",
       "\n",
       "       Excess kurtosis of the integrated profile  \\\n",
       "0                                       2.602622   \n",
       "1                                       0.079866   \n",
       "2                                       0.173711   \n",
       "3                                       0.601360   \n",
       "4                                      -0.084592   \n",
       "...                                          ...   \n",
       "9995                                    0.062787   \n",
       "9996                                    0.242901   \n",
       "9997                                    0.236189   \n",
       "9998                                    0.434656   \n",
       "9999                                    0.434541   \n",
       "\n",
       "       Skewness of the integrated profile   Mean of the DM-SNR curve  \\\n",
       "0                               11.032994                  11.813545   \n",
       "1                                0.033346                   6.665552   \n",
       "2                                0.986480                   3.673913   \n",
       "3                                1.764652                   2.541806   \n",
       "4                               -0.333478                 103.101171   \n",
       "...                                   ...                        ...   \n",
       "9995                            -0.269271                   3.739967   \n",
       "9996                             0.102978                   3.076087   \n",
       "9997                             0.187752                   3.801003   \n",
       "9998                             0.710722                   2.175585   \n",
       "9999                             0.548485                   5.569398   \n",
       "\n",
       "       Standard deviation of the DM-SNR curve  \\\n",
       "0                                         NaN   \n",
       "1                                   32.420758   \n",
       "2                                   17.791359   \n",
       "3                                   17.225897   \n",
       "4                                   78.528624   \n",
       "...                                       ...   \n",
       "9995                                20.886901   \n",
       "9996                                      NaN   \n",
       "9997                                21.835862   \n",
       "9998                                      NaN   \n",
       "9999                                28.102643   \n",
       "\n",
       "       Excess kurtosis of the DM-SNR curve   Skewness of the DM-SNR curve  \\\n",
       "0                                 3.902658                      15.151920   \n",
       "1                                 5.661207                      32.734410   \n",
       "2                                 6.585335                      55.940803   \n",
       "3                                 9.405202                     103.620491   \n",
       "4                                -0.500153                      -1.629239   \n",
       "...                                    ...                            ...   \n",
       "9995                              7.469796                      63.328740   \n",
       "9996                              7.502146                      59.399329   \n",
       "9997                              7.060130                      55.326122   \n",
       "9998                              9.665629                     114.822621   \n",
       "9999                              5.613341                      33.045585   \n",
       "\n",
       "      target_class  \n",
       "0              1.0  \n",
       "1              0.0  \n",
       "2              0.0  \n",
       "3              0.0  \n",
       "4              0.0  \n",
       "...            ...  \n",
       "9995           0.0  \n",
       "9996           0.0  \n",
       "9997           0.0  \n",
       "9998           0.0  \n",
       "9999           0.0  \n",
       "\n",
       "[10000 rows x 9 columns]"
      ]
     },
     "execution_count": 72,
     "metadata": {},
     "output_type": "execute_result"
    }
   ],
   "source": [
    "# loading dataset into pandas dataframe\n",
    "df = pd.read_csv(\"pulsar_star_20355246.csv\")\n",
    "df"
   ]
  },
  {
   "cell_type": "markdown",
   "metadata": {},
   "source": [
    "Already we can see that there are some NaN values in the dataframe."
   ]
  },
  {
   "cell_type": "code",
   "execution_count": 73,
   "metadata": {},
   "outputs": [
    {
     "data": {
      "text/plain": [
       "(10000, 9)"
      ]
     },
     "execution_count": 73,
     "metadata": {},
     "output_type": "execute_result"
    }
   ],
   "source": [
    "df.shape"
   ]
  },
  {
   "cell_type": "markdown",
   "metadata": {},
   "source": [
    "There are 10000 rows and 9 columns (including the target column)."
   ]
  },
  {
   "cell_type": "code",
   "execution_count": 74,
   "metadata": {},
   "outputs": [
    {
     "data": {
      "text/plain": [
       " Mean of the integrated profile                  float64\n",
       " Standard deviation of the integrated profile    float64\n",
       " Excess kurtosis of the integrated profile       float64\n",
       " Skewness of the integrated profile              float64\n",
       " Mean of the DM-SNR curve                        float64\n",
       " Standard deviation of the DM-SNR curve          float64\n",
       " Excess kurtosis of the DM-SNR curve             float64\n",
       " Skewness of the DM-SNR curve                    float64\n",
       "target_class                                     float64\n",
       "dtype: object"
      ]
     },
     "execution_count": 74,
     "metadata": {},
     "output_type": "execute_result"
    }
   ],
   "source": [
    "df.dtypes"
   ]
  },
  {
   "cell_type": "markdown",
   "metadata": {},
   "source": [
    "All datatypes look suitable. \"target_class\" should be only two values, 0 or 1. It also looks as if there's a space before all the feature names."
   ]
  },
  {
   "cell_type": "code",
   "execution_count": 75,
   "metadata": {},
   "outputs": [
    {
     "data": {
      "text/plain": [
       " Mean of the integrated profile                   6296\n",
       " Standard deviation of the integrated profile     9987\n",
       " Excess kurtosis of the integrated profile        8586\n",
       " Skewness of the integrated profile              10000\n",
       " Mean of the DM-SNR curve                         6264\n",
       " Standard deviation of the DM-SNR curve           9059\n",
       " Excess kurtosis of the DM-SNR curve              9999\n",
       " Skewness of the DM-SNR curve                     9487\n",
       "target_class                                         2\n",
       "dtype: int64"
      ]
     },
     "execution_count": 75,
     "metadata": {},
     "output_type": "execute_result"
    }
   ],
   "source": [
    "df.nunique()"
   ]
  },
  {
   "cell_type": "code",
   "execution_count": 76,
   "metadata": {},
   "outputs": [
    {
     "data": {
      "text/plain": [
       "array([1., 0.])"
      ]
     },
     "execution_count": 76,
     "metadata": {},
     "output_type": "execute_result"
    }
   ],
   "source": [
    "df[\"target_class\"].unique()"
   ]
  },
  {
   "cell_type": "markdown",
   "metadata": {},
   "source": [
    "0 and 1 are the only values of the target class which is good because either it is a signal from a pulstar or it is not."
   ]
  },
  {
   "cell_type": "code",
   "execution_count": 77,
   "metadata": {},
   "outputs": [
    {
     "name": "stdout",
     "output_type": "stream",
     "text": [
      "Index([' Mean of the integrated profile',\n",
      "       ' Standard deviation of the integrated profile',\n",
      "       ' Excess kurtosis of the integrated profile',\n",
      "       ' Skewness of the integrated profile', ' Mean of the DM-SNR curve',\n",
      "       ' Standard deviation of the DM-SNR curve',\n",
      "       ' Excess kurtosis of the DM-SNR curve', ' Skewness of the DM-SNR curve',\n",
      "       'target_class'],\n",
      "      dtype='object')\n"
     ]
    }
   ],
   "source": [
    "column_names = df.columns\n",
    "print(column_names)"
   ]
  },
  {
   "cell_type": "markdown",
   "metadata": {},
   "source": [
    "Above it displays the feature names. They all have a space at the front which should be fixed."
   ]
  },
  {
   "cell_type": "code",
   "execution_count": 78,
   "metadata": {},
   "outputs": [
    {
     "data": {
      "text/html": [
       "<div>\n",
       "<style scoped>\n",
       "    .dataframe tbody tr th:only-of-type {\n",
       "        vertical-align: middle;\n",
       "    }\n",
       "\n",
       "    .dataframe tbody tr th {\n",
       "        vertical-align: top;\n",
       "    }\n",
       "\n",
       "    .dataframe thead th {\n",
       "        text-align: right;\n",
       "    }\n",
       "</style>\n",
       "<table border=\"1\" class=\"dataframe\">\n",
       "  <thead>\n",
       "    <tr style=\"text-align: right;\">\n",
       "      <th></th>\n",
       "      <th>count</th>\n",
       "      <th>mean</th>\n",
       "      <th>std</th>\n",
       "      <th>min</th>\n",
       "      <th>25%</th>\n",
       "      <th>50%</th>\n",
       "      <th>75%</th>\n",
       "      <th>max</th>\n",
       "    </tr>\n",
       "  </thead>\n",
       "  <tbody>\n",
       "    <tr>\n",
       "      <th>Mean of the integrated profile</th>\n",
       "      <td>10000.0</td>\n",
       "      <td>110.960519</td>\n",
       "      <td>25.627794</td>\n",
       "      <td>5.812500</td>\n",
       "      <td>100.943359</td>\n",
       "      <td>115.070312</td>\n",
       "      <td>126.941406</td>\n",
       "      <td>189.734375</td>\n",
       "    </tr>\n",
       "    <tr>\n",
       "      <th>Standard deviation of the integrated profile</th>\n",
       "      <td>10000.0</td>\n",
       "      <td>46.535495</td>\n",
       "      <td>6.827052</td>\n",
       "      <td>24.772042</td>\n",
       "      <td>42.416700</td>\n",
       "      <td>46.933947</td>\n",
       "      <td>50.970903</td>\n",
       "      <td>91.808628</td>\n",
       "    </tr>\n",
       "    <tr>\n",
       "      <th>Excess kurtosis of the integrated profile</th>\n",
       "      <td>8586.0</td>\n",
       "      <td>0.481033</td>\n",
       "      <td>1.069484</td>\n",
       "      <td>-1.738021</td>\n",
       "      <td>0.026326</td>\n",
       "      <td>0.224965</td>\n",
       "      <td>0.476158</td>\n",
       "      <td>8.069522</td>\n",
       "    </tr>\n",
       "    <tr>\n",
       "      <th>Skewness of the integrated profile</th>\n",
       "      <td>10000.0</td>\n",
       "      <td>1.778000</td>\n",
       "      <td>6.221812</td>\n",
       "      <td>-1.791886</td>\n",
       "      <td>-0.187486</td>\n",
       "      <td>0.207565</td>\n",
       "      <td>0.925939</td>\n",
       "      <td>68.101622</td>\n",
       "    </tr>\n",
       "    <tr>\n",
       "      <th>Mean of the DM-SNR curve</th>\n",
       "      <td>10000.0</td>\n",
       "      <td>12.879438</td>\n",
       "      <td>30.109147</td>\n",
       "      <td>0.213211</td>\n",
       "      <td>1.915552</td>\n",
       "      <td>2.797659</td>\n",
       "      <td>5.419314</td>\n",
       "      <td>211.948997</td>\n",
       "    </tr>\n",
       "    <tr>\n",
       "      <th>Standard deviation of the DM-SNR curve</th>\n",
       "      <td>9060.0</td>\n",
       "      <td>26.421937</td>\n",
       "      <td>19.626024</td>\n",
       "      <td>7.370432</td>\n",
       "      <td>14.439169</td>\n",
       "      <td>18.493503</td>\n",
       "      <td>28.480232</td>\n",
       "      <td>110.642211</td>\n",
       "    </tr>\n",
       "    <tr>\n",
       "      <th>Excess kurtosis of the DM-SNR curve</th>\n",
       "      <td>10000.0</td>\n",
       "      <td>8.308088</td>\n",
       "      <td>4.537829</td>\n",
       "      <td>-2.636857</td>\n",
       "      <td>5.786972</td>\n",
       "      <td>8.432818</td>\n",
       "      <td>10.705904</td>\n",
       "      <td>34.539844</td>\n",
       "    </tr>\n",
       "    <tr>\n",
       "      <th>Skewness of the DM-SNR curve</th>\n",
       "      <td>9488.0</td>\n",
       "      <td>105.008072</td>\n",
       "      <td>106.952019</td>\n",
       "      <td>-1.976976</td>\n",
       "      <td>34.970458</td>\n",
       "      <td>82.874387</td>\n",
       "      <td>139.288128</td>\n",
       "      <td>1191.000837</td>\n",
       "    </tr>\n",
       "    <tr>\n",
       "      <th>target_class</th>\n",
       "      <td>10000.0</td>\n",
       "      <td>0.091900</td>\n",
       "      <td>0.288899</td>\n",
       "      <td>0.000000</td>\n",
       "      <td>0.000000</td>\n",
       "      <td>0.000000</td>\n",
       "      <td>0.000000</td>\n",
       "      <td>1.000000</td>\n",
       "    </tr>\n",
       "  </tbody>\n",
       "</table>\n",
       "</div>"
      ],
      "text/plain": [
       "                                                 count        mean  \\\n",
       " Mean of the integrated profile                10000.0  110.960519   \n",
       " Standard deviation of the integrated profile  10000.0   46.535495   \n",
       " Excess kurtosis of the integrated profile      8586.0    0.481033   \n",
       " Skewness of the integrated profile            10000.0    1.778000   \n",
       " Mean of the DM-SNR curve                      10000.0   12.879438   \n",
       " Standard deviation of the DM-SNR curve         9060.0   26.421937   \n",
       " Excess kurtosis of the DM-SNR curve           10000.0    8.308088   \n",
       " Skewness of the DM-SNR curve                   9488.0  105.008072   \n",
       "target_class                                   10000.0    0.091900   \n",
       "\n",
       "                                                      std        min  \\\n",
       " Mean of the integrated profile                 25.627794   5.812500   \n",
       " Standard deviation of the integrated profile    6.827052  24.772042   \n",
       " Excess kurtosis of the integrated profile       1.069484  -1.738021   \n",
       " Skewness of the integrated profile              6.221812  -1.791886   \n",
       " Mean of the DM-SNR curve                       30.109147   0.213211   \n",
       " Standard deviation of the DM-SNR curve         19.626024   7.370432   \n",
       " Excess kurtosis of the DM-SNR curve             4.537829  -2.636857   \n",
       " Skewness of the DM-SNR curve                  106.952019  -1.976976   \n",
       "target_class                                     0.288899   0.000000   \n",
       "\n",
       "                                                      25%         50%  \\\n",
       " Mean of the integrated profile                100.943359  115.070312   \n",
       " Standard deviation of the integrated profile   42.416700   46.933947   \n",
       " Excess kurtosis of the integrated profile       0.026326    0.224965   \n",
       " Skewness of the integrated profile             -0.187486    0.207565   \n",
       " Mean of the DM-SNR curve                        1.915552    2.797659   \n",
       " Standard deviation of the DM-SNR curve         14.439169   18.493503   \n",
       " Excess kurtosis of the DM-SNR curve             5.786972    8.432818   \n",
       " Skewness of the DM-SNR curve                   34.970458   82.874387   \n",
       "target_class                                     0.000000    0.000000   \n",
       "\n",
       "                                                      75%          max  \n",
       " Mean of the integrated profile                126.941406   189.734375  \n",
       " Standard deviation of the integrated profile   50.970903    91.808628  \n",
       " Excess kurtosis of the integrated profile       0.476158     8.069522  \n",
       " Skewness of the integrated profile              0.925939    68.101622  \n",
       " Mean of the DM-SNR curve                        5.419314   211.948997  \n",
       " Standard deviation of the DM-SNR curve         28.480232   110.642211  \n",
       " Excess kurtosis of the DM-SNR curve            10.705904    34.539844  \n",
       " Skewness of the DM-SNR curve                  139.288128  1191.000837  \n",
       "target_class                                     0.000000     1.000000  "
      ]
     },
     "execution_count": 78,
     "metadata": {},
     "output_type": "execute_result"
    }
   ],
   "source": [
    "df.describe().T"
   ]
  },
  {
   "cell_type": "markdown",
   "metadata": {},
   "source": [
    "Here is a description of the features. Each feature seems to have different ranges, means, std, etc."
   ]
  },
  {
   "cell_type": "code",
   "execution_count": 79,
   "metadata": {},
   "outputs": [
    {
     "data": {
      "text/plain": [
       " Mean of the integrated profile                     0\n",
       " Standard deviation of the integrated profile       0\n",
       " Excess kurtosis of the integrated profile       1414\n",
       " Skewness of the integrated profile                 0\n",
       " Mean of the DM-SNR curve                           0\n",
       " Standard deviation of the DM-SNR curve           940\n",
       " Excess kurtosis of the DM-SNR curve                0\n",
       " Skewness of the DM-SNR curve                     512\n",
       "target_class                                        0\n",
       "dtype: int64"
      ]
     },
     "execution_count": 79,
     "metadata": {},
     "output_type": "execute_result"
    }
   ],
   "source": [
    "df.isna().sum()"
   ]
  },
  {
   "cell_type": "markdown",
   "metadata": {},
   "source": [
    "It can be seen above that 3 columns contain missing values."
   ]
  },
  {
   "cell_type": "markdown",
   "metadata": {},
   "source": [
    "Duplicate records?"
   ]
  },
  {
   "cell_type": "code",
   "execution_count": 80,
   "metadata": {},
   "outputs": [
    {
     "data": {
      "text/html": [
       "<div>\n",
       "<style scoped>\n",
       "    .dataframe tbody tr th:only-of-type {\n",
       "        vertical-align: middle;\n",
       "    }\n",
       "\n",
       "    .dataframe tbody tr th {\n",
       "        vertical-align: top;\n",
       "    }\n",
       "\n",
       "    .dataframe thead th {\n",
       "        text-align: right;\n",
       "    }\n",
       "</style>\n",
       "<table border=\"1\" class=\"dataframe\">\n",
       "  <thead>\n",
       "    <tr style=\"text-align: right;\">\n",
       "      <th></th>\n",
       "      <th>Mean of the integrated profile</th>\n",
       "      <th>Standard deviation of the integrated profile</th>\n",
       "      <th>Excess kurtosis of the integrated profile</th>\n",
       "      <th>Skewness of the integrated profile</th>\n",
       "      <th>Mean of the DM-SNR curve</th>\n",
       "      <th>Standard deviation of the DM-SNR curve</th>\n",
       "      <th>Excess kurtosis of the DM-SNR curve</th>\n",
       "      <th>Skewness of the DM-SNR curve</th>\n",
       "      <th>target_class</th>\n",
       "    </tr>\n",
       "  </thead>\n",
       "  <tbody>\n",
       "    <tr>\n",
       "      <th>0</th>\n",
       "      <td>69.210938</td>\n",
       "      <td>36.152380</td>\n",
       "      <td>2.602622</td>\n",
       "      <td>11.032994</td>\n",
       "      <td>11.813545</td>\n",
       "      <td>NaN</td>\n",
       "      <td>3.902658</td>\n",
       "      <td>15.151920</td>\n",
       "      <td>1.0</td>\n",
       "    </tr>\n",
       "    <tr>\n",
       "      <th>1</th>\n",
       "      <td>134.406250</td>\n",
       "      <td>50.156854</td>\n",
       "      <td>0.079866</td>\n",
       "      <td>0.033346</td>\n",
       "      <td>6.665552</td>\n",
       "      <td>32.420758</td>\n",
       "      <td>5.661207</td>\n",
       "      <td>32.734410</td>\n",
       "      <td>0.0</td>\n",
       "    </tr>\n",
       "    <tr>\n",
       "      <th>2</th>\n",
       "      <td>115.328125</td>\n",
       "      <td>42.048170</td>\n",
       "      <td>0.173711</td>\n",
       "      <td>0.986480</td>\n",
       "      <td>3.673913</td>\n",
       "      <td>17.791359</td>\n",
       "      <td>6.585335</td>\n",
       "      <td>55.940803</td>\n",
       "      <td>0.0</td>\n",
       "    </tr>\n",
       "    <tr>\n",
       "      <th>3</th>\n",
       "      <td>89.671875</td>\n",
       "      <td>37.521059</td>\n",
       "      <td>0.601360</td>\n",
       "      <td>1.764652</td>\n",
       "      <td>2.541806</td>\n",
       "      <td>17.225897</td>\n",
       "      <td>9.405202</td>\n",
       "      <td>103.620491</td>\n",
       "      <td>0.0</td>\n",
       "    </tr>\n",
       "    <tr>\n",
       "      <th>4</th>\n",
       "      <td>127.539062</td>\n",
       "      <td>50.289459</td>\n",
       "      <td>-0.084592</td>\n",
       "      <td>-0.333478</td>\n",
       "      <td>103.101171</td>\n",
       "      <td>78.528624</td>\n",
       "      <td>-0.500153</td>\n",
       "      <td>-1.629239</td>\n",
       "      <td>0.0</td>\n",
       "    </tr>\n",
       "    <tr>\n",
       "      <th>...</th>\n",
       "      <td>...</td>\n",
       "      <td>...</td>\n",
       "      <td>...</td>\n",
       "      <td>...</td>\n",
       "      <td>...</td>\n",
       "      <td>...</td>\n",
       "      <td>...</td>\n",
       "      <td>...</td>\n",
       "      <td>...</td>\n",
       "    </tr>\n",
       "    <tr>\n",
       "      <th>9995</th>\n",
       "      <td>134.140625</td>\n",
       "      <td>50.561493</td>\n",
       "      <td>0.062787</td>\n",
       "      <td>-0.269271</td>\n",
       "      <td>3.739967</td>\n",
       "      <td>20.886901</td>\n",
       "      <td>7.469796</td>\n",
       "      <td>63.328740</td>\n",
       "      <td>0.0</td>\n",
       "    </tr>\n",
       "    <tr>\n",
       "      <th>9996</th>\n",
       "      <td>102.359375</td>\n",
       "      <td>43.823106</td>\n",
       "      <td>0.242901</td>\n",
       "      <td>0.102978</td>\n",
       "      <td>3.076087</td>\n",
       "      <td>NaN</td>\n",
       "      <td>7.502146</td>\n",
       "      <td>59.399329</td>\n",
       "      <td>0.0</td>\n",
       "    </tr>\n",
       "    <tr>\n",
       "      <th>9997</th>\n",
       "      <td>101.531250</td>\n",
       "      <td>46.394696</td>\n",
       "      <td>0.236189</td>\n",
       "      <td>0.187752</td>\n",
       "      <td>3.801003</td>\n",
       "      <td>21.835862</td>\n",
       "      <td>7.060130</td>\n",
       "      <td>55.326122</td>\n",
       "      <td>0.0</td>\n",
       "    </tr>\n",
       "    <tr>\n",
       "      <th>9998</th>\n",
       "      <td>111.210938</td>\n",
       "      <td>42.033962</td>\n",
       "      <td>0.434656</td>\n",
       "      <td>0.710722</td>\n",
       "      <td>2.175585</td>\n",
       "      <td>NaN</td>\n",
       "      <td>9.665629</td>\n",
       "      <td>114.822621</td>\n",
       "      <td>0.0</td>\n",
       "    </tr>\n",
       "    <tr>\n",
       "      <th>9999</th>\n",
       "      <td>110.054688</td>\n",
       "      <td>46.837370</td>\n",
       "      <td>0.434541</td>\n",
       "      <td>0.548485</td>\n",
       "      <td>5.569398</td>\n",
       "      <td>28.102643</td>\n",
       "      <td>5.613341</td>\n",
       "      <td>33.045585</td>\n",
       "      <td>0.0</td>\n",
       "    </tr>\n",
       "  </tbody>\n",
       "</table>\n",
       "<p>10000 rows × 9 columns</p>\n",
       "</div>"
      ],
      "text/plain": [
       "       Mean of the integrated profile  \\\n",
       "0                           69.210938   \n",
       "1                          134.406250   \n",
       "2                          115.328125   \n",
       "3                           89.671875   \n",
       "4                          127.539062   \n",
       "...                               ...   \n",
       "9995                       134.140625   \n",
       "9996                       102.359375   \n",
       "9997                       101.531250   \n",
       "9998                       111.210938   \n",
       "9999                       110.054688   \n",
       "\n",
       "       Standard deviation of the integrated profile  \\\n",
       "0                                         36.152380   \n",
       "1                                         50.156854   \n",
       "2                                         42.048170   \n",
       "3                                         37.521059   \n",
       "4                                         50.289459   \n",
       "...                                             ...   \n",
       "9995                                      50.561493   \n",
       "9996                                      43.823106   \n",
       "9997                                      46.394696   \n",
       "9998                                      42.033962   \n",
       "9999                                      46.837370   \n",
       "\n",
       "       Excess kurtosis of the integrated profile  \\\n",
       "0                                       2.602622   \n",
       "1                                       0.079866   \n",
       "2                                       0.173711   \n",
       "3                                       0.601360   \n",
       "4                                      -0.084592   \n",
       "...                                          ...   \n",
       "9995                                    0.062787   \n",
       "9996                                    0.242901   \n",
       "9997                                    0.236189   \n",
       "9998                                    0.434656   \n",
       "9999                                    0.434541   \n",
       "\n",
       "       Skewness of the integrated profile   Mean of the DM-SNR curve  \\\n",
       "0                               11.032994                  11.813545   \n",
       "1                                0.033346                   6.665552   \n",
       "2                                0.986480                   3.673913   \n",
       "3                                1.764652                   2.541806   \n",
       "4                               -0.333478                 103.101171   \n",
       "...                                   ...                        ...   \n",
       "9995                            -0.269271                   3.739967   \n",
       "9996                             0.102978                   3.076087   \n",
       "9997                             0.187752                   3.801003   \n",
       "9998                             0.710722                   2.175585   \n",
       "9999                             0.548485                   5.569398   \n",
       "\n",
       "       Standard deviation of the DM-SNR curve  \\\n",
       "0                                         NaN   \n",
       "1                                   32.420758   \n",
       "2                                   17.791359   \n",
       "3                                   17.225897   \n",
       "4                                   78.528624   \n",
       "...                                       ...   \n",
       "9995                                20.886901   \n",
       "9996                                      NaN   \n",
       "9997                                21.835862   \n",
       "9998                                      NaN   \n",
       "9999                                28.102643   \n",
       "\n",
       "       Excess kurtosis of the DM-SNR curve   Skewness of the DM-SNR curve  \\\n",
       "0                                 3.902658                      15.151920   \n",
       "1                                 5.661207                      32.734410   \n",
       "2                                 6.585335                      55.940803   \n",
       "3                                 9.405202                     103.620491   \n",
       "4                                -0.500153                      -1.629239   \n",
       "...                                    ...                            ...   \n",
       "9995                              7.469796                      63.328740   \n",
       "9996                              7.502146                      59.399329   \n",
       "9997                              7.060130                      55.326122   \n",
       "9998                              9.665629                     114.822621   \n",
       "9999                              5.613341                      33.045585   \n",
       "\n",
       "      target_class  \n",
       "0              1.0  \n",
       "1              0.0  \n",
       "2              0.0  \n",
       "3              0.0  \n",
       "4              0.0  \n",
       "...            ...  \n",
       "9995           0.0  \n",
       "9996           0.0  \n",
       "9997           0.0  \n",
       "9998           0.0  \n",
       "9999           0.0  \n",
       "\n",
       "[10000 rows x 9 columns]"
      ]
     },
     "execution_count": 80,
     "metadata": {},
     "output_type": "execute_result"
    }
   ],
   "source": [
    "# Remove duplicate records\n",
    "df = df.drop_duplicates()\n",
    "df\n"
   ]
  },
  {
   "cell_type": "markdown",
   "metadata": {},
   "source": [
    "There are no duplicate records."
   ]
  },
  {
   "cell_type": "markdown",
   "metadata": {},
   "source": [
    "Distribution of the features?"
   ]
  },
  {
   "cell_type": "code",
   "execution_count": 81,
   "metadata": {},
   "outputs": [
    {
     "data": {
      "image/png": "[encoded data removed]",
      "text/plain": [
       "<Figure size 576x432 with 1 Axes>"
      ]
     },
     "metadata": {
      "needs_background": "light"
     },
     "output_type": "display_data"
    }
   ],
   "source": [
    "df[\" Mean of the integrated profile\"].plot.hist(figsize=(8, 6))\n",
    "plt.xlabel(\" Mean of the integrated profile\")\n",
    "plt.ylabel(\"Frequency\")\n",
    "plt.grid(True)\n",
    "plt.show()"
   ]
  },
  {
   "cell_type": "code",
   "execution_count": 82,
   "metadata": {},
   "outputs": [
    {
     "data": {
      "image/png": "[encoded data removed]",
      "text/plain": [
       "<Figure size 576x432 with 1 Axes>"
      ]
     },
     "metadata": {
      "needs_background": "light"
     },
     "output_type": "display_data"
    }
   ],
   "source": [
    "df[\" Standard deviation of the integrated profile\"].plot.hist(figsize=(8, 6))\n",
    "plt.xlabel(\" Mean of the integrated profile\")\n",
    "plt.ylabel(\"Frequency\")\n",
    "plt.grid(True)\n",
    "plt.show()"
   ]
  },
  {
   "cell_type": "code",
   "execution_count": 83,
   "metadata": {},
   "outputs": [
    {
     "data": {
      "image/png": "[encoded data removed]",
      "text/plain": [
       "<Figure size 576x432 with 1 Axes>"
      ]
     },
     "metadata": {
      "needs_background": "light"
     },
     "output_type": "display_data"
    }
   ],
   "source": [
    "df[\" Excess kurtosis of the integrated profile\"].plot.hist(figsize=(8, 6))\n",
    "plt.xlabel(\" Mean of the integrated profile\")\n",
    "plt.ylabel(\"Frequency\")\n",
    "plt.grid(True)\n",
    "plt.show()"
   ]
  },
  {
   "cell_type": "code",
   "execution_count": 84,
   "metadata": {},
   "outputs": [
    {
     "data": {
      "image/png": "[encoded data removed]",
      "text/plain": [
       "<Figure size 576x432 with 1 Axes>"
      ]
     },
     "metadata": {
      "needs_background": "light"
     },
     "output_type": "display_data"
    }
   ],
   "source": [
    "df[\" Skewness of the integrated profile\"].plot.hist(figsize=(8, 6))\n",
    "plt.xlabel(\" Mean of the integrated profile\")\n",
    "plt.ylabel(\"Frequency\")\n",
    "plt.grid(True)\n",
    "plt.show()"
   ]
  },
  {
   "cell_type": "markdown",
   "metadata": {},
   "source": [
    "Above you can see the distribution of the first 4 features. None of the features have a normal distribution and this could be a reason to normalize the data."
   ]
  },
  {
   "cell_type": "markdown",
   "metadata": {},
   "source": [
    "#### Potential problems and data quality issues are:\n",
    "\n",
    "(1) Feature names have a space before the first word.  \n",
    "\n",
    "(2) Missing values in:\n",
    "- Excess kurtosis of the integrated profile\n",
    "- Standard deviation of the DM-SNR curve\n",
    "- Skewness of the DM-SNR curve\n",
    "\n",
    "(3) Distribution of data for each feature is not Gaussian. This could be a reason to choose normalization over standardization."
   ]
  },
  {
   "cell_type": "markdown",
   "metadata": {},
   "source": [
    "#### Solutions:\n",
    "(1) Fixing feature names should be straightforward in that I just have to strip the space at the start of each column name.\n",
    "\n",
    "(2) To remove the missing values problem I have a number of options:\n",
    "- Removal of rows\n",
    "- Impution:\n",
    "    - mean\n",
    "    - median\n",
    "    - mode\n",
    "    - KNNImputer \n",
    "    - SimpleImputer\n",
    "\n",
    "For the features a large portion of each is missing so I will use impution with the KNNImputer. I will do this becasue I want to retain the majority of data. I have chosen KNNImputer over the other impution options because it produces more of an accurate estimate of missing values than using a single correlated feature.\n",
    "\n",
    "(3) Looking into the features I found that the majority do not follow a normal distribution. In the next task I will normalize the data as standardization assumes that the data follows a Gaussian distribution.\n"
   ]
  },
  {
   "cell_type": "markdown",
   "metadata": {},
   "source": [
    "### Task 2 - Normalize or standardize your features as necessary. "
   ]
  },
  {
   "cell_type": "markdown",
   "metadata": {},
   "source": [
    "#### (1) Fixing feature names:"
   ]
  },
  {
   "cell_type": "code",
   "execution_count": 85,
   "metadata": {},
   "outputs": [
    {
     "name": "stdout",
     "output_type": "stream",
     "text": [
      "Index(['Mean of the integrated profile',\n",
      "       'Standard deviation of the integrated profile',\n",
      "       'Excess kurtosis of the integrated profile',\n",
      "       'Skewness of the integrated profile', 'Mean of the DM-SNR curve',\n",
      "       'Standard deviation of the DM-SNR curve',\n",
      "       'Excess kurtosis of the DM-SNR curve', 'Skewness of the DM-SNR curve',\n",
      "       'target_class'],\n",
      "      dtype='object')\n"
     ]
    }
   ],
   "source": [
    "df.columns = df.columns.str.strip()\n",
    "column_names = df.columns\n",
    "print(column_names)"
   ]
  },
  {
   "cell_type": "markdown",
   "metadata": {},
   "source": [
    "Now feature names have no leading space."
   ]
  },
  {
   "cell_type": "markdown",
   "metadata": {},
   "source": [
    "#### (2) Filling in missing values:"
   ]
  },
  {
   "cell_type": "markdown",
   "metadata": {},
   "source": [
    "KNN Imputer"
   ]
  },
  {
   "cell_type": "code",
   "execution_count": 86,
   "metadata": {},
   "outputs": [],
   "source": [
    "imputer = KNNImputer(n_neighbors=3)\n",
    "imputed_data = imputer.fit_transform(df)\n",
    "df = pd.DataFrame(imputed_data, columns=df.columns)"
   ]
  },
  {
   "cell_type": "code",
   "execution_count": 87,
   "metadata": {},
   "outputs": [
    {
     "data": {
      "text/plain": [
       "Mean of the integrated profile                  0\n",
       "Standard deviation of the integrated profile    0\n",
       "Excess kurtosis of the integrated profile       0\n",
       "Skewness of the integrated profile              0\n",
       "Mean of the DM-SNR curve                        0\n",
       "Standard deviation of the DM-SNR curve          0\n",
       "Excess kurtosis of the DM-SNR curve             0\n",
       "Skewness of the DM-SNR curve                    0\n",
       "target_class                                    0\n",
       "dtype: int64"
      ]
     },
     "execution_count": 87,
     "metadata": {},
     "output_type": "execute_result"
    }
   ],
   "source": [
    "df.isna().sum()"
   ]
  },
  {
   "cell_type": "code",
   "execution_count": 88,
   "metadata": {},
   "outputs": [
    {
     "data": {
      "text/html": [
       "<div>\n",
       "<style scoped>\n",
       "    .dataframe tbody tr th:only-of-type {\n",
       "        vertical-align: middle;\n",
       "    }\n",
       "\n",
       "    .dataframe tbody tr th {\n",
       "        vertical-align: top;\n",
       "    }\n",
       "\n",
       "    .dataframe thead th {\n",
       "        text-align: right;\n",
       "    }\n",
       "</style>\n",
       "<table border=\"1\" class=\"dataframe\">\n",
       "  <thead>\n",
       "    <tr style=\"text-align: right;\">\n",
       "      <th></th>\n",
       "      <th>Mean of the integrated profile</th>\n",
       "      <th>Standard deviation of the integrated profile</th>\n",
       "      <th>Excess kurtosis of the integrated profile</th>\n",
       "      <th>Skewness of the integrated profile</th>\n",
       "      <th>Mean of the DM-SNR curve</th>\n",
       "      <th>Standard deviation of the DM-SNR curve</th>\n",
       "      <th>Excess kurtosis of the DM-SNR curve</th>\n",
       "      <th>Skewness of the DM-SNR curve</th>\n",
       "      <th>target_class</th>\n",
       "    </tr>\n",
       "  </thead>\n",
       "  <tbody>\n",
       "    <tr>\n",
       "      <th>0</th>\n",
       "      <td>69.210938</td>\n",
       "      <td>36.152380</td>\n",
       "      <td>2.602622</td>\n",
       "      <td>11.032994</td>\n",
       "      <td>11.813545</td>\n",
       "      <td>47.869750</td>\n",
       "      <td>3.902658</td>\n",
       "      <td>15.151920</td>\n",
       "      <td>1.0</td>\n",
       "    </tr>\n",
       "    <tr>\n",
       "      <th>1</th>\n",
       "      <td>134.406250</td>\n",
       "      <td>50.156854</td>\n",
       "      <td>0.079866</td>\n",
       "      <td>0.033346</td>\n",
       "      <td>6.665552</td>\n",
       "      <td>32.420758</td>\n",
       "      <td>5.661207</td>\n",
       "      <td>32.734410</td>\n",
       "      <td>0.0</td>\n",
       "    </tr>\n",
       "    <tr>\n",
       "      <th>2</th>\n",
       "      <td>115.328125</td>\n",
       "      <td>42.048170</td>\n",
       "      <td>0.173711</td>\n",
       "      <td>0.986480</td>\n",
       "      <td>3.673913</td>\n",
       "      <td>17.791359</td>\n",
       "      <td>6.585335</td>\n",
       "      <td>55.940803</td>\n",
       "      <td>0.0</td>\n",
       "    </tr>\n",
       "    <tr>\n",
       "      <th>3</th>\n",
       "      <td>89.671875</td>\n",
       "      <td>37.521059</td>\n",
       "      <td>0.601360</td>\n",
       "      <td>1.764652</td>\n",
       "      <td>2.541806</td>\n",
       "      <td>17.225897</td>\n",
       "      <td>9.405202</td>\n",
       "      <td>103.620491</td>\n",
       "      <td>0.0</td>\n",
       "    </tr>\n",
       "    <tr>\n",
       "      <th>4</th>\n",
       "      <td>127.539062</td>\n",
       "      <td>50.289459</td>\n",
       "      <td>-0.084592</td>\n",
       "      <td>-0.333478</td>\n",
       "      <td>103.101171</td>\n",
       "      <td>78.528624</td>\n",
       "      <td>-0.500153</td>\n",
       "      <td>-1.629239</td>\n",
       "      <td>0.0</td>\n",
       "    </tr>\n",
       "    <tr>\n",
       "      <th>...</th>\n",
       "      <td>...</td>\n",
       "      <td>...</td>\n",
       "      <td>...</td>\n",
       "      <td>...</td>\n",
       "      <td>...</td>\n",
       "      <td>...</td>\n",
       "      <td>...</td>\n",
       "      <td>...</td>\n",
       "      <td>...</td>\n",
       "    </tr>\n",
       "    <tr>\n",
       "      <th>9995</th>\n",
       "      <td>134.140625</td>\n",
       "      <td>50.561493</td>\n",
       "      <td>0.062787</td>\n",
       "      <td>-0.269271</td>\n",
       "      <td>3.739967</td>\n",
       "      <td>20.886901</td>\n",
       "      <td>7.469796</td>\n",
       "      <td>63.328740</td>\n",
       "      <td>0.0</td>\n",
       "    </tr>\n",
       "    <tr>\n",
       "      <th>9996</th>\n",
       "      <td>102.359375</td>\n",
       "      <td>43.823106</td>\n",
       "      <td>0.242901</td>\n",
       "      <td>0.102978</td>\n",
       "      <td>3.076087</td>\n",
       "      <td>20.804077</td>\n",
       "      <td>7.502146</td>\n",
       "      <td>59.399329</td>\n",
       "      <td>0.0</td>\n",
       "    </tr>\n",
       "    <tr>\n",
       "      <th>9997</th>\n",
       "      <td>101.531250</td>\n",
       "      <td>46.394696</td>\n",
       "      <td>0.236189</td>\n",
       "      <td>0.187752</td>\n",
       "      <td>3.801003</td>\n",
       "      <td>21.835862</td>\n",
       "      <td>7.060130</td>\n",
       "      <td>55.326122</td>\n",
       "      <td>0.0</td>\n",
       "    </tr>\n",
       "    <tr>\n",
       "      <th>9998</th>\n",
       "      <td>111.210938</td>\n",
       "      <td>42.033962</td>\n",
       "      <td>0.434656</td>\n",
       "      <td>0.710722</td>\n",
       "      <td>2.175585</td>\n",
       "      <td>16.496727</td>\n",
       "      <td>9.665629</td>\n",
       "      <td>114.822621</td>\n",
       "      <td>0.0</td>\n",
       "    </tr>\n",
       "    <tr>\n",
       "      <th>9999</th>\n",
       "      <td>110.054688</td>\n",
       "      <td>46.837370</td>\n",
       "      <td>0.434541</td>\n",
       "      <td>0.548485</td>\n",
       "      <td>5.569398</td>\n",
       "      <td>28.102643</td>\n",
       "      <td>5.613341</td>\n",
       "      <td>33.045585</td>\n",
       "      <td>0.0</td>\n",
       "    </tr>\n",
       "  </tbody>\n",
       "</table>\n",
       "<p>10000 rows × 9 columns</p>\n",
       "</div>"
      ],
      "text/plain": [
       "      Mean of the integrated profile  \\\n",
       "0                          69.210938   \n",
       "1                         134.406250   \n",
       "2                         115.328125   \n",
       "3                          89.671875   \n",
       "4                         127.539062   \n",
       "...                              ...   \n",
       "9995                      134.140625   \n",
       "9996                      102.359375   \n",
       "9997                      101.531250   \n",
       "9998                      111.210938   \n",
       "9999                      110.054688   \n",
       "\n",
       "      Standard deviation of the integrated profile  \\\n",
       "0                                        36.152380   \n",
       "1                                        50.156854   \n",
       "2                                        42.048170   \n",
       "3                                        37.521059   \n",
       "4                                        50.289459   \n",
       "...                                            ...   \n",
       "9995                                     50.561493   \n",
       "9996                                     43.823106   \n",
       "9997                                     46.394696   \n",
       "9998                                     42.033962   \n",
       "9999                                     46.837370   \n",
       "\n",
       "      Excess kurtosis of the integrated profile  \\\n",
       "0                                      2.602622   \n",
       "1                                      0.079866   \n",
       "2                                      0.173711   \n",
       "3                                      0.601360   \n",
       "4                                     -0.084592   \n",
       "...                                         ...   \n",
       "9995                                   0.062787   \n",
       "9996                                   0.242901   \n",
       "9997                                   0.236189   \n",
       "9998                                   0.434656   \n",
       "9999                                   0.434541   \n",
       "\n",
       "      Skewness of the integrated profile  Mean of the DM-SNR curve  \\\n",
       "0                              11.032994                 11.813545   \n",
       "1                               0.033346                  6.665552   \n",
       "2                               0.986480                  3.673913   \n",
       "3                               1.764652                  2.541806   \n",
       "4                              -0.333478                103.101171   \n",
       "...                                  ...                       ...   \n",
       "9995                           -0.269271                  3.739967   \n",
       "9996                            0.102978                  3.076087   \n",
       "9997                            0.187752                  3.801003   \n",
       "9998                            0.710722                  2.175585   \n",
       "9999                            0.548485                  5.569398   \n",
       "\n",
       "      Standard deviation of the DM-SNR curve  \\\n",
       "0                                  47.869750   \n",
       "1                                  32.420758   \n",
       "2                                  17.791359   \n",
       "3                                  17.225897   \n",
       "4                                  78.528624   \n",
       "...                                      ...   \n",
       "9995                               20.886901   \n",
       "9996                               20.804077   \n",
       "9997                               21.835862   \n",
       "9998                               16.496727   \n",
       "9999                               28.102643   \n",
       "\n",
       "      Excess kurtosis of the DM-SNR curve  Skewness of the DM-SNR curve  \\\n",
       "0                                3.902658                     15.151920   \n",
       "1                                5.661207                     32.734410   \n",
       "2                                6.585335                     55.940803   \n",
       "3                                9.405202                    103.620491   \n",
       "4                               -0.500153                     -1.629239   \n",
       "...                                   ...                           ...   \n",
       "9995                             7.469796                     63.328740   \n",
       "9996                             7.502146                     59.399329   \n",
       "9997                             7.060130                     55.326122   \n",
       "9998                             9.665629                    114.822621   \n",
       "9999                             5.613341                     33.045585   \n",
       "\n",
       "      target_class  \n",
       "0              1.0  \n",
       "1              0.0  \n",
       "2              0.0  \n",
       "3              0.0  \n",
       "4              0.0  \n",
       "...            ...  \n",
       "9995           0.0  \n",
       "9996           0.0  \n",
       "9997           0.0  \n",
       "9998           0.0  \n",
       "9999           0.0  \n",
       "\n",
       "[10000 rows x 9 columns]"
      ]
     },
     "execution_count": 88,
     "metadata": {},
     "output_type": "execute_result"
    }
   ],
   "source": [
    "df"
   ]
  },
  {
   "cell_type": "markdown",
   "metadata": {},
   "source": [
    "#### (3) Normalize"
   ]
  },
  {
   "cell_type": "code",
   "execution_count": 89,
   "metadata": {},
   "outputs": [
    {
     "data": {
      "text/html": [
       "<div>\n",
       "<style scoped>\n",
       "    .dataframe tbody tr th:only-of-type {\n",
       "        vertical-align: middle;\n",
       "    }\n",
       "\n",
       "    .dataframe tbody tr th {\n",
       "        vertical-align: top;\n",
       "    }\n",
       "\n",
       "    .dataframe thead th {\n",
       "        text-align: right;\n",
       "    }\n",
       "</style>\n",
       "<table border=\"1\" class=\"dataframe\">\n",
       "  <thead>\n",
       "    <tr style=\"text-align: right;\">\n",
       "      <th></th>\n",
       "      <th>Mean of the integrated profile</th>\n",
       "      <th>Standard deviation of the integrated profile</th>\n",
       "      <th>Excess kurtosis of the integrated profile</th>\n",
       "      <th>Skewness of the integrated profile</th>\n",
       "      <th>Mean of the DM-SNR curve</th>\n",
       "      <th>Standard deviation of the DM-SNR curve</th>\n",
       "      <th>Excess kurtosis of the DM-SNR curve</th>\n",
       "      <th>Skewness of the DM-SNR curve</th>\n",
       "    </tr>\n",
       "  </thead>\n",
       "  <tbody>\n",
       "    <tr>\n",
       "      <th>0</th>\n",
       "      <td>69.210938</td>\n",
       "      <td>36.152380</td>\n",
       "      <td>2.602622</td>\n",
       "      <td>11.032994</td>\n",
       "      <td>11.813545</td>\n",
       "      <td>47.869750</td>\n",
       "      <td>3.902658</td>\n",
       "      <td>15.151920</td>\n",
       "    </tr>\n",
       "    <tr>\n",
       "      <th>1</th>\n",
       "      <td>134.406250</td>\n",
       "      <td>50.156854</td>\n",
       "      <td>0.079866</td>\n",
       "      <td>0.033346</td>\n",
       "      <td>6.665552</td>\n",
       "      <td>32.420758</td>\n",
       "      <td>5.661207</td>\n",
       "      <td>32.734410</td>\n",
       "    </tr>\n",
       "    <tr>\n",
       "      <th>2</th>\n",
       "      <td>115.328125</td>\n",
       "      <td>42.048170</td>\n",
       "      <td>0.173711</td>\n",
       "      <td>0.986480</td>\n",
       "      <td>3.673913</td>\n",
       "      <td>17.791359</td>\n",
       "      <td>6.585335</td>\n",
       "      <td>55.940803</td>\n",
       "    </tr>\n",
       "    <tr>\n",
       "      <th>3</th>\n",
       "      <td>89.671875</td>\n",
       "      <td>37.521059</td>\n",
       "      <td>0.601360</td>\n",
       "      <td>1.764652</td>\n",
       "      <td>2.541806</td>\n",
       "      <td>17.225897</td>\n",
       "      <td>9.405202</td>\n",
       "      <td>103.620491</td>\n",
       "    </tr>\n",
       "    <tr>\n",
       "      <th>4</th>\n",
       "      <td>127.539062</td>\n",
       "      <td>50.289459</td>\n",
       "      <td>-0.084592</td>\n",
       "      <td>-0.333478</td>\n",
       "      <td>103.101171</td>\n",
       "      <td>78.528624</td>\n",
       "      <td>-0.500153</td>\n",
       "      <td>-1.629239</td>\n",
       "    </tr>\n",
       "    <tr>\n",
       "      <th>...</th>\n",
       "      <td>...</td>\n",
       "      <td>...</td>\n",
       "      <td>...</td>\n",
       "      <td>...</td>\n",
       "      <td>...</td>\n",
       "      <td>...</td>\n",
       "      <td>...</td>\n",
       "      <td>...</td>\n",
       "    </tr>\n",
       "    <tr>\n",
       "      <th>9995</th>\n",
       "      <td>134.140625</td>\n",
       "      <td>50.561493</td>\n",
       "      <td>0.062787</td>\n",
       "      <td>-0.269271</td>\n",
       "      <td>3.739967</td>\n",
       "      <td>20.886901</td>\n",
       "      <td>7.469796</td>\n",
       "      <td>63.328740</td>\n",
       "    </tr>\n",
       "    <tr>\n",
       "      <th>9996</th>\n",
       "      <td>102.359375</td>\n",
       "      <td>43.823106</td>\n",
       "      <td>0.242901</td>\n",
       "      <td>0.102978</td>\n",
       "      <td>3.076087</td>\n",
       "      <td>20.804077</td>\n",
       "      <td>7.502146</td>\n",
       "      <td>59.399329</td>\n",
       "    </tr>\n",
       "    <tr>\n",
       "      <th>9997</th>\n",
       "      <td>101.531250</td>\n",
       "      <td>46.394696</td>\n",
       "      <td>0.236189</td>\n",
       "      <td>0.187752</td>\n",
       "      <td>3.801003</td>\n",
       "      <td>21.835862</td>\n",
       "      <td>7.060130</td>\n",
       "      <td>55.326122</td>\n",
       "    </tr>\n",
       "    <tr>\n",
       "      <th>9998</th>\n",
       "      <td>111.210938</td>\n",
       "      <td>42.033962</td>\n",
       "      <td>0.434656</td>\n",
       "      <td>0.710722</td>\n",
       "      <td>2.175585</td>\n",
       "      <td>16.496727</td>\n",
       "      <td>9.665629</td>\n",
       "      <td>114.822621</td>\n",
       "    </tr>\n",
       "    <tr>\n",
       "      <th>9999</th>\n",
       "      <td>110.054688</td>\n",
       "      <td>46.837370</td>\n",
       "      <td>0.434541</td>\n",
       "      <td>0.548485</td>\n",
       "      <td>5.569398</td>\n",
       "      <td>28.102643</td>\n",
       "      <td>5.613341</td>\n",
       "      <td>33.045585</td>\n",
       "    </tr>\n",
       "  </tbody>\n",
       "</table>\n",
       "<p>10000 rows × 8 columns</p>\n",
       "</div>"
      ],
      "text/plain": [
       "      Mean of the integrated profile  \\\n",
       "0                          69.210938   \n",
       "1                         134.406250   \n",
       "2                         115.328125   \n",
       "3                          89.671875   \n",
       "4                         127.539062   \n",
       "...                              ...   \n",
       "9995                      134.140625   \n",
       "9996                      102.359375   \n",
       "9997                      101.531250   \n",
       "9998                      111.210938   \n",
       "9999                      110.054688   \n",
       "\n",
       "      Standard deviation of the integrated profile  \\\n",
       "0                                        36.152380   \n",
       "1                                        50.156854   \n",
       "2                                        42.048170   \n",
       "3                                        37.521059   \n",
       "4                                        50.289459   \n",
       "...                                            ...   \n",
       "9995                                     50.561493   \n",
       "9996                                     43.823106   \n",
       "9997                                     46.394696   \n",
       "9998                                     42.033962   \n",
       "9999                                     46.837370   \n",
       "\n",
       "      Excess kurtosis of the integrated profile  \\\n",
       "0                                      2.602622   \n",
       "1                                      0.079866   \n",
       "2                                      0.173711   \n",
       "3                                      0.601360   \n",
       "4                                     -0.084592   \n",
       "...                                         ...   \n",
       "9995                                   0.062787   \n",
       "9996                                   0.242901   \n",
       "9997                                   0.236189   \n",
       "9998                                   0.434656   \n",
       "9999                                   0.434541   \n",
       "\n",
       "      Skewness of the integrated profile  Mean of the DM-SNR curve  \\\n",
       "0                              11.032994                 11.813545   \n",
       "1                               0.033346                  6.665552   \n",
       "2                               0.986480                  3.673913   \n",
       "3                               1.764652                  2.541806   \n",
       "4                              -0.333478                103.101171   \n",
       "...                                  ...                       ...   \n",
       "9995                           -0.269271                  3.739967   \n",
       "9996                            0.102978                  3.076087   \n",
       "9997                            0.187752                  3.801003   \n",
       "9998                            0.710722                  2.175585   \n",
       "9999                            0.548485                  5.569398   \n",
       "\n",
       "      Standard deviation of the DM-SNR curve  \\\n",
       "0                                  47.869750   \n",
       "1                                  32.420758   \n",
       "2                                  17.791359   \n",
       "3                                  17.225897   \n",
       "4                                  78.528624   \n",
       "...                                      ...   \n",
       "9995                               20.886901   \n",
       "9996                               20.804077   \n",
       "9997                               21.835862   \n",
       "9998                               16.496727   \n",
       "9999                               28.102643   \n",
       "\n",
       "      Excess kurtosis of the DM-SNR curve  Skewness of the DM-SNR curve  \n",
       "0                                3.902658                     15.151920  \n",
       "1                                5.661207                     32.734410  \n",
       "2                                6.585335                     55.940803  \n",
       "3                                9.405202                    103.620491  \n",
       "4                               -0.500153                     -1.629239  \n",
       "...                                   ...                           ...  \n",
       "9995                             7.469796                     63.328740  \n",
       "9996                             7.502146                     59.399329  \n",
       "9997                             7.060130                     55.326122  \n",
       "9998                             9.665629                    114.822621  \n",
       "9999                             5.613341                     33.045585  \n",
       "\n",
       "[10000 rows x 8 columns]"
      ]
     },
     "execution_count": 89,
     "metadata": {},
     "output_type": "execute_result"
    }
   ],
   "source": [
    "df_features = df.iloc[:, :-1]\n",
    "target = df.iloc[:, -1]\n",
    "df_features"
   ]
  },
  {
   "cell_type": "code",
   "execution_count": 90,
   "metadata": {},
   "outputs": [
    {
     "data": {
      "text/html": [
       "<div>\n",
       "<style scoped>\n",
       "    .dataframe tbody tr th:only-of-type {\n",
       "        vertical-align: middle;\n",
       "    }\n",
       "\n",
       "    .dataframe tbody tr th {\n",
       "        vertical-align: top;\n",
       "    }\n",
       "\n",
       "    .dataframe thead th {\n",
       "        text-align: right;\n",
       "    }\n",
       "</style>\n",
       "<table border=\"1\" class=\"dataframe\">\n",
       "  <thead>\n",
       "    <tr style=\"text-align: right;\">\n",
       "      <th></th>\n",
       "      <th>Mean of the integrated profile</th>\n",
       "      <th>Standard deviation of the integrated profile</th>\n",
       "      <th>Excess kurtosis of the integrated profile</th>\n",
       "      <th>Skewness of the integrated profile</th>\n",
       "      <th>Mean of the DM-SNR curve</th>\n",
       "      <th>Standard deviation of the DM-SNR curve</th>\n",
       "      <th>Excess kurtosis of the DM-SNR curve</th>\n",
       "      <th>Skewness of the DM-SNR curve</th>\n",
       "    </tr>\n",
       "  </thead>\n",
       "  <tbody>\n",
       "    <tr>\n",
       "      <th>0</th>\n",
       "      <td>0.344703</td>\n",
       "      <td>0.169763</td>\n",
       "      <td>0.442582</td>\n",
       "      <td>0.183492</td>\n",
       "      <td>0.054787</td>\n",
       "      <td>0.392162</td>\n",
       "      <td>0.175904</td>\n",
       "      <td>0.014358</td>\n",
       "    </tr>\n",
       "    <tr>\n",
       "      <th>1</th>\n",
       "      <td>0.699176</td>\n",
       "      <td>0.378671</td>\n",
       "      <td>0.185356</td>\n",
       "      <td>0.026114</td>\n",
       "      <td>0.030474</td>\n",
       "      <td>0.242567</td>\n",
       "      <td>0.223206</td>\n",
       "      <td>0.029096</td>\n",
       "    </tr>\n",
       "    <tr>\n",
       "      <th>2</th>\n",
       "      <td>0.595446</td>\n",
       "      <td>0.257712</td>\n",
       "      <td>0.194925</td>\n",
       "      <td>0.039751</td>\n",
       "      <td>0.016344</td>\n",
       "      <td>0.100908</td>\n",
       "      <td>0.248064</td>\n",
       "      <td>0.048549</td>\n",
       "    </tr>\n",
       "    <tr>\n",
       "      <th>3</th>\n",
       "      <td>0.455951</td>\n",
       "      <td>0.190180</td>\n",
       "      <td>0.238529</td>\n",
       "      <td>0.050885</td>\n",
       "      <td>0.010998</td>\n",
       "      <td>0.095432</td>\n",
       "      <td>0.323914</td>\n",
       "      <td>0.088516</td>\n",
       "    </tr>\n",
       "    <tr>\n",
       "      <th>4</th>\n",
       "      <td>0.661838</td>\n",
       "      <td>0.380649</td>\n",
       "      <td>0.168587</td>\n",
       "      <td>0.020866</td>\n",
       "      <td>0.485926</td>\n",
       "      <td>0.689038</td>\n",
       "      <td>0.057474</td>\n",
       "      <td>0.000291</td>\n",
       "    </tr>\n",
       "    <tr>\n",
       "      <th>...</th>\n",
       "      <td>...</td>\n",
       "      <td>...</td>\n",
       "      <td>...</td>\n",
       "      <td>...</td>\n",
       "      <td>...</td>\n",
       "      <td>...</td>\n",
       "      <td>...</td>\n",
       "      <td>...</td>\n",
       "    </tr>\n",
       "    <tr>\n",
       "      <th>9995</th>\n",
       "      <td>0.697732</td>\n",
       "      <td>0.384707</td>\n",
       "      <td>0.183615</td>\n",
       "      <td>0.021785</td>\n",
       "      <td>0.016656</td>\n",
       "      <td>0.130883</td>\n",
       "      <td>0.271854</td>\n",
       "      <td>0.054742</td>\n",
       "    </tr>\n",
       "    <tr>\n",
       "      <th>9996</th>\n",
       "      <td>0.524934</td>\n",
       "      <td>0.284189</td>\n",
       "      <td>0.201979</td>\n",
       "      <td>0.027111</td>\n",
       "      <td>0.013521</td>\n",
       "      <td>0.130081</td>\n",
       "      <td>0.272725</td>\n",
       "      <td>0.051448</td>\n",
       "    </tr>\n",
       "    <tr>\n",
       "      <th>9997</th>\n",
       "      <td>0.520432</td>\n",
       "      <td>0.322550</td>\n",
       "      <td>0.201295</td>\n",
       "      <td>0.028324</td>\n",
       "      <td>0.016945</td>\n",
       "      <td>0.140071</td>\n",
       "      <td>0.260835</td>\n",
       "      <td>0.048034</td>\n",
       "    </tr>\n",
       "    <tr>\n",
       "      <th>9998</th>\n",
       "      <td>0.573061</td>\n",
       "      <td>0.257500</td>\n",
       "      <td>0.221531</td>\n",
       "      <td>0.035806</td>\n",
       "      <td>0.009268</td>\n",
       "      <td>0.088372</td>\n",
       "      <td>0.330919</td>\n",
       "      <td>0.097906</td>\n",
       "    </tr>\n",
       "    <tr>\n",
       "      <th>9999</th>\n",
       "      <td>0.566774</td>\n",
       "      <td>0.329154</td>\n",
       "      <td>0.221519</td>\n",
       "      <td>0.033485</td>\n",
       "      <td>0.025297</td>\n",
       "      <td>0.200754</td>\n",
       "      <td>0.221919</td>\n",
       "      <td>0.029357</td>\n",
       "    </tr>\n",
       "  </tbody>\n",
       "</table>\n",
       "<p>10000 rows × 8 columns</p>\n",
       "</div>"
      ],
      "text/plain": [
       "      Mean of the integrated profile  \\\n",
       "0                           0.344703   \n",
       "1                           0.699176   \n",
       "2                           0.595446   \n",
       "3                           0.455951   \n",
       "4                           0.661838   \n",
       "...                              ...   \n",
       "9995                        0.697732   \n",
       "9996                        0.524934   \n",
       "9997                        0.520432   \n",
       "9998                        0.573061   \n",
       "9999                        0.566774   \n",
       "\n",
       "      Standard deviation of the integrated profile  \\\n",
       "0                                         0.169763   \n",
       "1                                         0.378671   \n",
       "2                                         0.257712   \n",
       "3                                         0.190180   \n",
       "4                                         0.380649   \n",
       "...                                            ...   \n",
       "9995                                      0.384707   \n",
       "9996                                      0.284189   \n",
       "9997                                      0.322550   \n",
       "9998                                      0.257500   \n",
       "9999                                      0.329154   \n",
       "\n",
       "      Excess kurtosis of the integrated profile  \\\n",
       "0                                      0.442582   \n",
       "1                                      0.185356   \n",
       "2                                      0.194925   \n",
       "3                                      0.238529   \n",
       "4                                      0.168587   \n",
       "...                                         ...   \n",
       "9995                                   0.183615   \n",
       "9996                                   0.201979   \n",
       "9997                                   0.201295   \n",
       "9998                                   0.221531   \n",
       "9999                                   0.221519   \n",
       "\n",
       "      Skewness of the integrated profile  Mean of the DM-SNR curve  \\\n",
       "0                               0.183492                  0.054787   \n",
       "1                               0.026114                  0.030474   \n",
       "2                               0.039751                  0.016344   \n",
       "3                               0.050885                  0.010998   \n",
       "4                               0.020866                  0.485926   \n",
       "...                                  ...                       ...   \n",
       "9995                            0.021785                  0.016656   \n",
       "9996                            0.027111                  0.013521   \n",
       "9997                            0.028324                  0.016945   \n",
       "9998                            0.035806                  0.009268   \n",
       "9999                            0.033485                  0.025297   \n",
       "\n",
       "      Standard deviation of the DM-SNR curve  \\\n",
       "0                                   0.392162   \n",
       "1                                   0.242567   \n",
       "2                                   0.100908   \n",
       "3                                   0.095432   \n",
       "4                                   0.689038   \n",
       "...                                      ...   \n",
       "9995                                0.130883   \n",
       "9996                                0.130081   \n",
       "9997                                0.140071   \n",
       "9998                                0.088372   \n",
       "9999                                0.200754   \n",
       "\n",
       "      Excess kurtosis of the DM-SNR curve  Skewness of the DM-SNR curve  \n",
       "0                                0.175904                      0.014358  \n",
       "1                                0.223206                      0.029096  \n",
       "2                                0.248064                      0.048549  \n",
       "3                                0.323914                      0.088516  \n",
       "4                                0.057474                      0.000291  \n",
       "...                                   ...                           ...  \n",
       "9995                             0.271854                      0.054742  \n",
       "9996                             0.272725                      0.051448  \n",
       "9997                             0.260835                      0.048034  \n",
       "9998                             0.330919                      0.097906  \n",
       "9999                             0.221919                      0.029357  \n",
       "\n",
       "[10000 rows x 8 columns]"
      ]
     },
     "execution_count": 90,
     "metadata": {},
     "output_type": "execute_result"
    }
   ],
   "source": [
    "scaler = MinMaxScaler() \n",
    "df_features = scaler.fit_transform(df_features) \n",
    "df_features = pd.DataFrame(df_features, columns=column_names[:-1])\n",
    "df_features"
   ]
  },
  {
   "cell_type": "markdown",
   "metadata": {},
   "source": [
    "Merge features and target back together:"
   ]
  },
  {
   "cell_type": "code",
   "execution_count": 91,
   "metadata": {},
   "outputs": [
    {
     "data": {
      "text/html": [
       "<div>\n",
       "<style scoped>\n",
       "    .dataframe tbody tr th:only-of-type {\n",
       "        vertical-align: middle;\n",
       "    }\n",
       "\n",
       "    .dataframe tbody tr th {\n",
       "        vertical-align: top;\n",
       "    }\n",
       "\n",
       "    .dataframe thead th {\n",
       "        text-align: right;\n",
       "    }\n",
       "</style>\n",
       "<table border=\"1\" class=\"dataframe\">\n",
       "  <thead>\n",
       "    <tr style=\"text-align: right;\">\n",
       "      <th></th>\n",
       "      <th>Mean of the integrated profile</th>\n",
       "      <th>Standard deviation of the integrated profile</th>\n",
       "      <th>Excess kurtosis of the integrated profile</th>\n",
       "      <th>Skewness of the integrated profile</th>\n",
       "      <th>Mean of the DM-SNR curve</th>\n",
       "      <th>Standard deviation of the DM-SNR curve</th>\n",
       "      <th>Excess kurtosis of the DM-SNR curve</th>\n",
       "      <th>Skewness of the DM-SNR curve</th>\n",
       "      <th>target_class</th>\n",
       "    </tr>\n",
       "  </thead>\n",
       "  <tbody>\n",
       "    <tr>\n",
       "      <th>0</th>\n",
       "      <td>0.344703</td>\n",
       "      <td>0.169763</td>\n",
       "      <td>0.442582</td>\n",
       "      <td>0.183492</td>\n",
       "      <td>0.054787</td>\n",
       "      <td>0.392162</td>\n",
       "      <td>0.175904</td>\n",
       "      <td>0.014358</td>\n",
       "      <td>1.0</td>\n",
       "    </tr>\n",
       "    <tr>\n",
       "      <th>1</th>\n",
       "      <td>0.699176</td>\n",
       "      <td>0.378671</td>\n",
       "      <td>0.185356</td>\n",
       "      <td>0.026114</td>\n",
       "      <td>0.030474</td>\n",
       "      <td>0.242567</td>\n",
       "      <td>0.223206</td>\n",
       "      <td>0.029096</td>\n",
       "      <td>0.0</td>\n",
       "    </tr>\n",
       "    <tr>\n",
       "      <th>2</th>\n",
       "      <td>0.595446</td>\n",
       "      <td>0.257712</td>\n",
       "      <td>0.194925</td>\n",
       "      <td>0.039751</td>\n",
       "      <td>0.016344</td>\n",
       "      <td>0.100908</td>\n",
       "      <td>0.248064</td>\n",
       "      <td>0.048549</td>\n",
       "      <td>0.0</td>\n",
       "    </tr>\n",
       "    <tr>\n",
       "      <th>3</th>\n",
       "      <td>0.455951</td>\n",
       "      <td>0.190180</td>\n",
       "      <td>0.238529</td>\n",
       "      <td>0.050885</td>\n",
       "      <td>0.010998</td>\n",
       "      <td>0.095432</td>\n",
       "      <td>0.323914</td>\n",
       "      <td>0.088516</td>\n",
       "      <td>0.0</td>\n",
       "    </tr>\n",
       "    <tr>\n",
       "      <th>4</th>\n",
       "      <td>0.661838</td>\n",
       "      <td>0.380649</td>\n",
       "      <td>0.168587</td>\n",
       "      <td>0.020866</td>\n",
       "      <td>0.485926</td>\n",
       "      <td>0.689038</td>\n",
       "      <td>0.057474</td>\n",
       "      <td>0.000291</td>\n",
       "      <td>0.0</td>\n",
       "    </tr>\n",
       "    <tr>\n",
       "      <th>...</th>\n",
       "      <td>...</td>\n",
       "      <td>...</td>\n",
       "      <td>...</td>\n",
       "      <td>...</td>\n",
       "      <td>...</td>\n",
       "      <td>...</td>\n",
       "      <td>...</td>\n",
       "      <td>...</td>\n",
       "      <td>...</td>\n",
       "    </tr>\n",
       "    <tr>\n",
       "      <th>9995</th>\n",
       "      <td>0.697732</td>\n",
       "      <td>0.384707</td>\n",
       "      <td>0.183615</td>\n",
       "      <td>0.021785</td>\n",
       "      <td>0.016656</td>\n",
       "      <td>0.130883</td>\n",
       "      <td>0.271854</td>\n",
       "      <td>0.054742</td>\n",
       "      <td>0.0</td>\n",
       "    </tr>\n",
       "    <tr>\n",
       "      <th>9996</th>\n",
       "      <td>0.524934</td>\n",
       "      <td>0.284189</td>\n",
       "      <td>0.201979</td>\n",
       "      <td>0.027111</td>\n",
       "      <td>0.013521</td>\n",
       "      <td>0.130081</td>\n",
       "      <td>0.272725</td>\n",
       "      <td>0.051448</td>\n",
       "      <td>0.0</td>\n",
       "    </tr>\n",
       "    <tr>\n",
       "      <th>9997</th>\n",
       "      <td>0.520432</td>\n",
       "      <td>0.322550</td>\n",
       "      <td>0.201295</td>\n",
       "      <td>0.028324</td>\n",
       "      <td>0.016945</td>\n",
       "      <td>0.140071</td>\n",
       "      <td>0.260835</td>\n",
       "      <td>0.048034</td>\n",
       "      <td>0.0</td>\n",
       "    </tr>\n",
       "    <tr>\n",
       "      <th>9998</th>\n",
       "      <td>0.573061</td>\n",
       "      <td>0.257500</td>\n",
       "      <td>0.221531</td>\n",
       "      <td>0.035806</td>\n",
       "      <td>0.009268</td>\n",
       "      <td>0.088372</td>\n",
       "      <td>0.330919</td>\n",
       "      <td>0.097906</td>\n",
       "      <td>0.0</td>\n",
       "    </tr>\n",
       "    <tr>\n",
       "      <th>9999</th>\n",
       "      <td>0.566774</td>\n",
       "      <td>0.329154</td>\n",
       "      <td>0.221519</td>\n",
       "      <td>0.033485</td>\n",
       "      <td>0.025297</td>\n",
       "      <td>0.200754</td>\n",
       "      <td>0.221919</td>\n",
       "      <td>0.029357</td>\n",
       "      <td>0.0</td>\n",
       "    </tr>\n",
       "  </tbody>\n",
       "</table>\n",
       "<p>10000 rows × 9 columns</p>\n",
       "</div>"
      ],
      "text/plain": [
       "      Mean of the integrated profile  \\\n",
       "0                           0.344703   \n",
       "1                           0.699176   \n",
       "2                           0.595446   \n",
       "3                           0.455951   \n",
       "4                           0.661838   \n",
       "...                              ...   \n",
       "9995                        0.697732   \n",
       "9996                        0.524934   \n",
       "9997                        0.520432   \n",
       "9998                        0.573061   \n",
       "9999                        0.566774   \n",
       "\n",
       "      Standard deviation of the integrated profile  \\\n",
       "0                                         0.169763   \n",
       "1                                         0.378671   \n",
       "2                                         0.257712   \n",
       "3                                         0.190180   \n",
       "4                                         0.380649   \n",
       "...                                            ...   \n",
       "9995                                      0.384707   \n",
       "9996                                      0.284189   \n",
       "9997                                      0.322550   \n",
       "9998                                      0.257500   \n",
       "9999                                      0.329154   \n",
       "\n",
       "      Excess kurtosis of the integrated profile  \\\n",
       "0                                      0.442582   \n",
       "1                                      0.185356   \n",
       "2                                      0.194925   \n",
       "3                                      0.238529   \n",
       "4                                      0.168587   \n",
       "...                                         ...   \n",
       "9995                                   0.183615   \n",
       "9996                                   0.201979   \n",
       "9997                                   0.201295   \n",
       "9998                                   0.221531   \n",
       "9999                                   0.221519   \n",
       "\n",
       "      Skewness of the integrated profile  Mean of the DM-SNR curve  \\\n",
       "0                               0.183492                  0.054787   \n",
       "1                               0.026114                  0.030474   \n",
       "2                               0.039751                  0.016344   \n",
       "3                               0.050885                  0.010998   \n",
       "4                               0.020866                  0.485926   \n",
       "...                                  ...                       ...   \n",
       "9995                            0.021785                  0.016656   \n",
       "9996                            0.027111                  0.013521   \n",
       "9997                            0.028324                  0.016945   \n",
       "9998                            0.035806                  0.009268   \n",
       "9999                            0.033485                  0.025297   \n",
       "\n",
       "      Standard deviation of the DM-SNR curve  \\\n",
       "0                                   0.392162   \n",
       "1                                   0.242567   \n",
       "2                                   0.100908   \n",
       "3                                   0.095432   \n",
       "4                                   0.689038   \n",
       "...                                      ...   \n",
       "9995                                0.130883   \n",
       "9996                                0.130081   \n",
       "9997                                0.140071   \n",
       "9998                                0.088372   \n",
       "9999                                0.200754   \n",
       "\n",
       "      Excess kurtosis of the DM-SNR curve  Skewness of the DM-SNR curve  \\\n",
       "0                                0.175904                      0.014358   \n",
       "1                                0.223206                      0.029096   \n",
       "2                                0.248064                      0.048549   \n",
       "3                                0.323914                      0.088516   \n",
       "4                                0.057474                      0.000291   \n",
       "...                                   ...                           ...   \n",
       "9995                             0.271854                      0.054742   \n",
       "9996                             0.272725                      0.051448   \n",
       "9997                             0.260835                      0.048034   \n",
       "9998                             0.330919                      0.097906   \n",
       "9999                             0.221919                      0.029357   \n",
       "\n",
       "      target_class  \n",
       "0              1.0  \n",
       "1              0.0  \n",
       "2              0.0  \n",
       "3              0.0  \n",
       "4              0.0  \n",
       "...            ...  \n",
       "9995           0.0  \n",
       "9996           0.0  \n",
       "9997           0.0  \n",
       "9998           0.0  \n",
       "9999           0.0  \n",
       "\n",
       "[10000 rows x 9 columns]"
      ]
     },
     "execution_count": 91,
     "metadata": {},
     "output_type": "execute_result"
    }
   ],
   "source": [
    "df = pd.concat([df_features, target], axis=1)\n",
    "df"
   ]
  },
  {
   "cell_type": "markdown",
   "metadata": {},
   "source": [
    "### Task 3 - Decide the evaluation measure best suited."
   ]
  },
  {
   "cell_type": "markdown",
   "metadata": {},
   "source": [
    "Accuracy ?\n",
    "- In order for accuracy to work correctly the target classes must be even in weight."
   ]
  },
  {
   "cell_type": "code",
   "execution_count": 92,
   "metadata": {},
   "outputs": [
    {
     "data": {
      "text/plain": [
       "0.0    9081\n",
       "1.0     919\n",
       "Name: target_class, dtype: int64"
      ]
     },
     "execution_count": 92,
     "metadata": {},
     "output_type": "execute_result"
    }
   ],
   "source": [
    "value_counts = df[\"target_class\"].value_counts()\n",
    "value_counts"
   ]
  },
  {
   "cell_type": "markdown",
   "metadata": {},
   "source": [
    "Accuracy is not a suitable evaluation method here because the target column is not balanced. The 0 class heavily outweighs the 1 class."
   ]
  },
  {
   "cell_type": "markdown",
   "metadata": {},
   "source": [
    "Hence the heavy class imbalance, I think the evaluation method best suited for this dataset is the F1 score. This is a reliable evalualtion method and blends both precision and recall which can handle the imbalance of my classes."
   ]
  },
  {
   "cell_type": "markdown",
   "metadata": {},
   "source": [
    "### Task 4 - Compare a decision tree classifier, a KNN classifier and four SVM classifiers based on the evaluation measure selected in Task 3."
   ]
  },
  {
   "cell_type": "markdown",
   "metadata": {},
   "source": [
    "First I am splitting my data into training and test sets. Then using f1 score I will evalute the different classifiers and their parameters."
   ]
  },
  {
   "cell_type": "markdown",
   "metadata": {},
   "source": [
    "#### Train-test split:"
   ]
  },
  {
   "cell_type": "code",
   "execution_count": 93,
   "metadata": {},
   "outputs": [],
   "source": [
    "X_train, X_test, y_train, y_test = train_test_split(df_features, target, train_size=.75, random_state=5)"
   ]
  },
  {
   "cell_type": "markdown",
   "metadata": {},
   "source": [
    "#### Decision Tree Classifier"
   ]
  },
  {
   "cell_type": "markdown",
   "metadata": {},
   "source": [
    "With no parameters:"
   ]
  },
  {
   "cell_type": "code",
   "execution_count": 94,
   "metadata": {},
   "outputs": [
    {
     "name": "stdout",
     "output_type": "stream",
     "text": [
      "Training set F1 score = 1.0\n",
      "Test set F1 score = 0.8294736842105264\n"
     ]
    }
   ],
   "source": [
    "dt_clf = DecisionTreeClassifier()\n",
    "dt_clf.fit(X_train, y_train)\n",
    "\n",
    "# predict on the training dataset \n",
    "y_predicted = dt_clf.predict(X_train)\n",
    "print(\"Training set F1 score =\", f1_score(y_train, y_predicted))\n",
    "\n",
    "# predict on the test dataset \n",
    "y_predicted = dt_clf.predict(X_test)\n",
    "print(\"Test set F1 score =\", f1_score(y_test, y_predicted))"
   ]
  },
  {
   "cell_type": "markdown",
   "metadata": {},
   "source": [
    "Parameters:\n",
    "- criterion=\"entropy\"\n",
    "- max_depth=None"
   ]
  },
  {
   "cell_type": "code",
   "execution_count": 95,
   "metadata": {},
   "outputs": [
    {
     "name": "stdout",
     "output_type": "stream",
     "text": [
      "Training set F1 score = 1.0\n",
      "Test set F1 score = 0.8396624472573839\n"
     ]
    }
   ],
   "source": [
    "dt_clf = DecisionTreeClassifier(criterion=\"entropy\")\n",
    "dt_clf.fit(X_train, y_train)\n",
    "\n",
    "# predict on the training dataset \n",
    "y_predicted = dt_clf.predict(X_train)\n",
    "print(\"Training set F1 score =\", f1_score(y_train, y_predicted))\n",
    "\n",
    "# predict on the test dataset \n",
    "y_predicted = dt_clf.predict(X_test)\n",
    "print(\"Test set F1 score =\", f1_score(y_test, y_predicted))"
   ]
  },
  {
   "cell_type": "markdown",
   "metadata": {},
   "source": [
    "Parameters:\n",
    "- criterion=\"gini\"\n",
    "- max_depth=None"
   ]
  },
  {
   "cell_type": "code",
   "execution_count": 96,
   "metadata": {},
   "outputs": [
    {
     "name": "stdout",
     "output_type": "stream",
     "text": [
      "Training set F1 score = 1.0\n",
      "Test set F1 score = 0.8347457627118644\n"
     ]
    }
   ],
   "source": [
    "dt_clf = DecisionTreeClassifier(criterion=\"gini\")\n",
    "dt_clf.fit(X_train, y_train)\n",
    "\n",
    "# predict on the training dataset \n",
    "y_predicted = dt_clf.predict(X_train)\n",
    "print(\"Training set F1 score =\", f1_score(y_train, y_predicted))\n",
    "\n",
    "# predict on the test dataset \n",
    "y_predicted = dt_clf.predict(X_test)\n",
    "print(\"Test set F1 score =\", f1_score(y_test, y_predicted))"
   ]
  },
  {
   "cell_type": "markdown",
   "metadata": {},
   "source": [
    "The Decision Tree Classifier seems to work better so far without any criterion. The f1 score on the test set with criterion are lower than without."
   ]
  },
  {
   "cell_type": "markdown",
   "metadata": {},
   "source": [
    "Parameters:\n",
    "- max depth = n"
   ]
  },
  {
   "cell_type": "code",
   "execution_count": 97,
   "metadata": {},
   "outputs": [
    {
     "name": "stdout",
     "output_type": "stream",
     "text": [
      "\n",
      "Max_depth =  2\n",
      "F1 score on training set prediction = 0.8723570869224745\n",
      "F1 score on test set prediction = 0.8749999999999999\n",
      "\n",
      "Max_depth =  3\n",
      "F1 score on training set prediction = 0.8783570300157978\n",
      "F1 score on test set prediction = 0.8798185941043084\n",
      "\n",
      "Max_depth =  4\n",
      "F1 score on training set prediction = 0.8943338437978562\n",
      "F1 score on test set prediction = 0.8830022075055188\n",
      "\n",
      "Max_depth =  5\n",
      "F1 score on training set prediction = 0.9071373752877974\n",
      "F1 score on test set prediction = 0.8824833702882484\n",
      "\n",
      "Max_depth =  6\n",
      "F1 score on training set prediction = 0.9153318077803203\n",
      "F1 score on test set prediction = 0.8722466960352423\n",
      "\n",
      "Max_depth =  7\n",
      "F1 score on training set prediction = 0.9325153374233129\n",
      "F1 score on test set prediction = 0.8722466960352423\n"
     ]
    }
   ],
   "source": [
    "for n in [2, 3, 4, 5, 6, 7]:\n",
    "\n",
    "    print(\"\\nMax_depth = \", n)\n",
    "    dt_clf = DecisionTreeClassifier(max_depth=n) \n",
    "    dt_clf.fit(X_train, y_train)\n",
    "\n",
    "    # predict on the training dataset \n",
    "    y_predicted = dt_clf.predict(X_train)\n",
    "    print(\"F1 score on training set prediction =\", f1_score(y_train, y_predicted))\n",
    "        \n",
    "    # predict on the test dataset \n",
    "    y_predicted = dt_clf.predict(X_test)\n",
    "    print(\"F1 score on test set prediction =\", f1_score(y_test, y_predicted))"
   ]
  },
  {
   "cell_type": "markdown",
   "metadata": {},
   "source": [
    "Here using no criterion and having a max_depth of 4 works very well with a f1 score of 0.88 on the test set prediction."
   ]
  },
  {
   "cell_type": "markdown",
   "metadata": {},
   "source": [
    "Parameters:\n",
    "- criterion=\"entropy\"\n",
    "- max_depth=n"
   ]
  },
  {
   "cell_type": "code",
   "execution_count": 98,
   "metadata": {},
   "outputs": [
    {
     "name": "stdout",
     "output_type": "stream",
     "text": [
      "\n",
      "Max_depth =  2\n",
      "F1 score on training set prediction = 0.8704980842911878\n",
      "F1 score on test set prediction = 0.8716814159292036\n",
      "\n",
      "Max_depth =  3\n",
      "F1 score on training set prediction = 0.8704980842911878\n",
      "F1 score on test set prediction = 0.8716814159292036\n",
      "\n",
      "Max_depth =  4\n",
      "F1 score on training set prediction = 0.8809891808346214\n",
      "F1 score on test set prediction = 0.8769574944071588\n",
      "\n",
      "Max_depth =  5\n",
      "F1 score on training set prediction = 0.8925373134328358\n",
      "F1 score on test set prediction = 0.8903225806451613\n",
      "\n",
      "Max_depth =  6\n",
      "F1 score on training set prediction = 0.9038607115821348\n",
      "F1 score on test set prediction = 0.8913043478260869\n",
      "\n",
      "Max_depth =  7\n",
      "F1 score on training set prediction = 0.9125475285171103\n",
      "F1 score on test set prediction = 0.8796498905908097\n"
     ]
    }
   ],
   "source": [
    "for n in [2, 3, 4, 5, 6, 7]:\n",
    "\n",
    "    print(\"\\nMax_depth = \", n)\n",
    "    dt_clf = DecisionTreeClassifier(criterion=\"entropy\", max_depth=n) \n",
    "    dt_clf.fit(X_train, y_train)\n",
    "\n",
    "    # predict on the training dataset \n",
    "    y_predicted = dt_clf.predict(X_train)\n",
    "    print(\"F1 score on training set prediction =\", f1_score(y_train, y_predicted))\n",
    "        \n",
    "    # predict on the test dataset \n",
    "    y_predicted = dt_clf.predict(X_test)\n",
    "    print(\"F1 score on test set prediction =\", f1_score(y_test, y_predicted))"
   ]
  },
  {
   "cell_type": "markdown",
   "metadata": {},
   "source": [
    "Above using the criterion \"entropy\" and max_depth = 5, works extremely well. It gives the f1 measure of 0.89 on the test set."
   ]
  },
  {
   "cell_type": "markdown",
   "metadata": {},
   "source": [
    "Parameters:\n",
    "- criterion=\"gini\"\n",
    "- max_depth=n"
   ]
  },
  {
   "cell_type": "code",
   "execution_count": 99,
   "metadata": {},
   "outputs": [
    {
     "name": "stdout",
     "output_type": "stream",
     "text": [
      "\n",
      "Max_depth =  2\n",
      "F1 score on training set prediction = 0.8723570869224745\n",
      "F1 score on test set prediction = 0.8749999999999999\n",
      "\n",
      "Max_depth =  3\n",
      "F1 score on training set prediction = 0.8783570300157978\n",
      "F1 score on test set prediction = 0.8798185941043084\n",
      "\n",
      "Max_depth =  4\n",
      "F1 score on training set prediction = 0.8943338437978562\n",
      "F1 score on test set prediction = 0.8854625550660793\n",
      "\n",
      "Max_depth =  5\n",
      "F1 score on training set prediction = 0.908256880733945\n",
      "F1 score on test set prediction = 0.8722466960352423\n",
      "\n",
      "Max_depth =  6\n",
      "F1 score on training set prediction = 0.9154607768469155\n",
      "F1 score on test set prediction = 0.8835164835164835\n",
      "\n",
      "Max_depth =  7\n",
      "F1 score on training set prediction = 0.9325153374233129\n",
      "F1 score on test set prediction = 0.8716814159292036\n"
     ]
    }
   ],
   "source": [
    "for n in [2, 3, 4, 5, 6, 7]:\n",
    "\n",
    "    print(\"\\nMax_depth = \", n)\n",
    "    dt_clf = DecisionTreeClassifier(criterion=\"gini\", max_depth=n) \n",
    "    dt_clf.fit(X_train, y_train)\n",
    "\n",
    "    # predict on the training dataset \n",
    "    y_predicted = dt_clf.predict(X_train)\n",
    "    print(\"F1 score on training set prediction =\", f1_score(y_train, y_predicted))\n",
    "        \n",
    "    # predict on the test dataset \n",
    "    y_predicted = dt_clf.predict(X_test)\n",
    "    print(\"F1 score on test set prediction =\", f1_score(y_test, y_predicted))"
   ]
  },
  {
   "cell_type": "markdown",
   "metadata": {},
   "source": [
    "With \"gini\" as criterion and max_depth = 4 works great here as well, with a f1 score of 0.88 on the test set performance."
   ]
  },
  {
   "cell_type": "markdown",
   "metadata": {},
   "source": [
    "- In terms of the best possible parameters for the Decision Tree Classifier it is:\n",
    "    - criterion = \"entropy\"\n",
    "    - max_depth = 5\n",
    "\n",
    "This derives an f1 score of 0.89 on the test set and 0.90 on the training set performace."
   ]
  },
  {
   "cell_type": "markdown",
   "metadata": {},
   "source": [
    "#### KNN Classifier:"
   ]
  },
  {
   "cell_type": "markdown",
   "metadata": {},
   "source": [
    "No parameters:"
   ]
  },
  {
   "cell_type": "code",
   "execution_count": 100,
   "metadata": {},
   "outputs": [
    {
     "name": "stdout",
     "output_type": "stream",
     "text": [
      "F1 score on training set prediction = 0.8847058823529411\n",
      "F1 score on test set prediction = 0.8716814159292036\n"
     ]
    }
   ],
   "source": [
    "knn_clf = KNeighborsClassifier() \n",
    "knn_clf.fit(X_train, y_train)\n",
    "\n",
    "# predict on the training dataset \n",
    "y_predicted = knn_clf.predict(X_train)\n",
    "print(\"F1 score on training set prediction =\", f1_score(y_train, y_predicted))\n",
    "\n",
    "# predict on the test dataset \n",
    "y_predicted = knn_clf.predict(X_test)\n",
    "print(\"F1 score on test set prediction =\", f1_score(y_test, y_predicted))"
   ]
  },
  {
   "cell_type": "markdown",
   "metadata": {},
   "source": [
    "Above the KNN Classifier straight away gives a very good f1 measures for the training (0.88) and test (0.87) set performance without any parameters."
   ]
  },
  {
   "cell_type": "markdown",
   "metadata": {},
   "source": [
    "With parameters:\n",
    "- n_neighbours = n"
   ]
  },
  {
   "cell_type": "code",
   "execution_count": 101,
   "metadata": {},
   "outputs": [
    {
     "name": "stdout",
     "output_type": "stream",
     "text": [
      "\n",
      "n_neighbors =  2\n",
      "F1 score on training set prediction = 0.8977272727272727\n",
      "F1 score on test set prediction = 0.8669724770642202\n",
      "\n",
      "n_neighbors =  3\n",
      "F1 score on training set prediction = 0.9028749028749029\n",
      "F1 score on test set prediction = 0.887912087912088\n",
      "\n",
      "n_neighbors =  4\n",
      "F1 score on training set prediction = 0.885140562248996\n",
      "F1 score on test set prediction = 0.870748299319728\n",
      "\n",
      "n_neighbors =  5\n",
      "F1 score on training set prediction = 0.8847058823529411\n",
      "F1 score on test set prediction = 0.8716814159292036\n",
      "\n",
      "n_neighbors =  7\n",
      "F1 score on training set prediction = 0.8854003139717426\n",
      "F1 score on test set prediction = 0.8769574944071588\n",
      "\n",
      "n_neighbors =  9\n",
      "F1 score on training set prediction = 0.8822134387351779\n",
      "F1 score on test set prediction = 0.8789237668161436\n"
     ]
    }
   ],
   "source": [
    "for n in [2, 3, 4, 5, 7, 9]:\n",
    "\n",
    "    print('\\nn_neighbors = ', n)\n",
    "    knn_clf = KNeighborsClassifier(n_neighbors=n) \n",
    "    knn_clf.fit(X_train, y_train)\n",
    "\n",
    "    # predict on the training dataset \n",
    "    y_predicted = knn_clf.predict(X_train)\n",
    "    print(\"F1 score on training set prediction =\", f1_score(y_train, y_predicted))\n",
    "        \n",
    "    # predict on the test dataset \n",
    "    y_predicted = knn_clf.predict(X_test)\n",
    "    print(\"F1 score on test set prediction =\", f1_score(y_test, y_predicted))"
   ]
  },
  {
   "cell_type": "markdown",
   "metadata": {},
   "source": [
    "When KNN Classifier has the parameter: n_neighbours = 3, the f1 score is the best being 0.88 on the test set."
   ]
  },
  {
   "cell_type": "markdown",
   "metadata": {},
   "source": [
    "- The best possible parameter for KNN is \n",
    "    - therefore n_neighbours = 3 \n",
    "\n",
    "This hones the training set score of 0.90 and the test set score of 0.88"
   ]
  },
  {
   "cell_type": "markdown",
   "metadata": {},
   "source": [
    "#### SVM Classifier:"
   ]
  },
  {
   "cell_type": "markdown",
   "metadata": {},
   "source": [
    "Fitting SVC with a **linear kernel** on the traning data and checking the accuracy on the testing data"
   ]
  },
  {
   "cell_type": "code",
   "execution_count": 102,
   "metadata": {},
   "outputs": [
    {
     "name": "stdout",
     "output_type": "stream",
     "text": [
      "F1 score on training set prediction = 0.8441879637262985\n",
      "F1 score on test set prediction = 0.8669724770642202\n"
     ]
    }
   ],
   "source": [
    "svc = SVC(kernel=\"linear\")\n",
    "svc.fit(X_train, y_train)\n",
    "\n",
    "# predict on the training dataset \n",
    "y_predicted = svc.predict(X_train)\n",
    "print(\"F1 score on training set prediction =\", f1_score(y_train, y_predicted))\n",
    "\n",
    "# predict on the test dataset \n",
    "y_predicted = svc.predict(X_test)\n",
    "print(\"F1 score on test set prediction =\", f1_score(y_test, y_predicted))"
   ]
  },
  {
   "cell_type": "markdown",
   "metadata": {},
   "source": [
    "Above are the linear f1 scores. At first glance they don't seem as high as KNN and Decision Tree Classifiers."
   ]
  },
  {
   "cell_type": "markdown",
   "metadata": {},
   "source": [
    "Fitting SVC with a **poly kernel** on the training data and checking the accuracy on the testing data"
   ]
  },
  {
   "cell_type": "code",
   "execution_count": 103,
   "metadata": {},
   "outputs": [
    {
     "name": "stdout",
     "output_type": "stream",
     "text": [
      "F1 score on training set prediction = 0.8750994431185364\n",
      "F1 score on test set prediction = 0.8808988764044944\n"
     ]
    }
   ],
   "source": [
    "svc = SVC(kernel=\"poly\")\n",
    "svc.fit(X_train, y_train)\n",
    "\n",
    "# predict on the training dataset \n",
    "y_predicted = svc.predict(X_train)\n",
    "print(\"F1 score on training set prediction =\", f1_score(y_train, y_predicted))\n",
    "\n",
    "# predict on the test dataset \n",
    "y_predicted = svc.predict(X_test)\n",
    "print(\"F1 score on test set prediction =\", f1_score(y_test, y_predicted))"
   ]
  },
  {
   "cell_type": "markdown",
   "metadata": {},
   "source": [
    "The f1 score with poly is a lot better than linear."
   ]
  },
  {
   "cell_type": "code",
   "execution_count": 104,
   "metadata": {},
   "outputs": [
    {
     "name": "stdout",
     "output_type": "stream",
     "text": [
      "\n",
      "degree = 2\n",
      "F1 score on training set prediction = 0.8715083798882682\n",
      "F1 score on test set prediction = 0.8823529411764706\n",
      "\n",
      "degree = 3\n",
      "F1 score on training set prediction = 0.8750994431185364\n",
      "F1 score on test set prediction = 0.8808988764044944\n",
      "\n",
      "degree = 4\n",
      "F1 score on training set prediction = 0.8779714738510301\n",
      "F1 score on test set prediction = 0.8783783783783784\n",
      "\n",
      "degree = 5\n",
      "F1 score on training set prediction = 0.8816521048451151\n",
      "F1 score on test set prediction = 0.8758465011286681\n",
      "\n",
      "degree = 7\n",
      "F1 score on training set prediction = 0.8961141950832673\n",
      "F1 score on test set prediction = 0.8783783783783784\n",
      "\n",
      "degree = 8\n",
      "F1 score on training set prediction = 0.9015873015873017\n",
      "F1 score on test set prediction = 0.8738738738738738\n"
     ]
    }
   ],
   "source": [
    "for n in [2, 3, 4, 5, 7, 8]:\n",
    "\n",
    "    print('\\ndegree =', n)\n",
    "    svc = SVC(kernel=\"poly\", degree=n) \n",
    "    svc.fit(X_train, y_train)\n",
    "\n",
    "    # predict on the training dataset \n",
    "    y_predicted = svc.predict(X_train)\n",
    "    print(\"F1 score on training set prediction =\", f1_score(y_train, y_predicted))\n",
    "        \n",
    "    # predict on the test dataset \n",
    "    y_predicted = svc.predict(X_test)\n",
    "    print(\"F1 score on test set prediction =\", f1_score(y_test, y_predicted))"
   ]
  },
  {
   "cell_type": "markdown",
   "metadata": {},
   "source": [
    "With degree = 2, poly has a even higher test set score of 0.88 "
   ]
  },
  {
   "cell_type": "markdown",
   "metadata": {},
   "source": [
    "Fitting SVC with a **rbf kernel** on the traning data and checking the accuracy on the testing data"
   ]
  },
  {
   "cell_type": "code",
   "execution_count": 105,
   "metadata": {},
   "outputs": [
    {
     "name": "stdout",
     "output_type": "stream",
     "text": [
      "F1 score on training set prediction = 0.862681744749596\n",
      "F1 score on test set prediction = 0.867579908675799\n"
     ]
    }
   ],
   "source": [
    "svc = SVC(kernel=\"rbf\")\n",
    "svc.fit(X_train, y_train)\n",
    "\n",
    "# predict on the training dataset \n",
    "y_predicted = svc.predict(X_train)\n",
    "print(\"F1 score on training set prediction =\", f1_score(y_train, y_predicted))\n",
    "\n",
    "# predict on the test dataset \n",
    "y_predicted = svc.predict(X_test)\n",
    "print(\"F1 score on test set prediction =\", f1_score(y_test, y_predicted))"
   ]
  },
  {
   "cell_type": "markdown",
   "metadata": {},
   "source": [
    "With rbf the f1 scores are less than poly but still good."
   ]
  },
  {
   "cell_type": "markdown",
   "metadata": {},
   "source": [
    "Fitting SVC with a **sigmoid kernel** on the traning data and checking the accuracy on the testing data"
   ]
  },
  {
   "cell_type": "code",
   "execution_count": 106,
   "metadata": {},
   "outputs": [
    {
     "name": "stdout",
     "output_type": "stream",
     "text": [
      "F1 score on training set prediction = 0.46376811594202905\n",
      "F1 score on test set prediction = 0.4817204301075269\n"
     ]
    }
   ],
   "source": [
    "svc = SVC(kernel=\"sigmoid\")\n",
    "svc.fit(X_train, y_train)\n",
    "\n",
    "# predict on the training dataset \n",
    "y_predicted = svc.predict(X_train)\n",
    "print(\"F1 score on training set prediction =\", f1_score(y_train, y_predicted))\n",
    "\n",
    "# predict on the test dataset \n",
    "y_predicted = svc.predict(X_test)\n",
    "print(\"F1 score on test set prediction =\", f1_score(y_test, y_predicted))"
   ]
  },
  {
   "cell_type": "markdown",
   "metadata": {},
   "source": [
    "Sigmoid kernel is definitely the worst SVM classifier and classifier in general. It does not score over 0.5 on the f1 measure for either test set."
   ]
  },
  {
   "cell_type": "markdown",
   "metadata": {},
   "source": [
    "#### Winner classifier/parameter setting:\n",
    "\n",
    "- Decision Tree Classifier with criterion = \"entropy\" and max_depth = 5. \n",
    "\n",
    "This gave the f1 scores of 0.89 on the test set and the training set, deeming it to be th best classifier out of the group."
   ]
  },
  {
   "cell_type": "markdown",
   "metadata": {},
   "source": [
    "#### Performance of “linear”, “rbf” and “sigmoid” kernels:\n",
    "Regarding the performance of these SVM Classifiers, linear and rbf were very similar. They scored around 0.86 for the test set prediction which is good. Sigmoid however was very bad, it did not score over 0.5 on either of the sets which I was very surprised about."
   ]
  },
  {
   "cell_type": "markdown",
   "metadata": {},
   "source": [
    "### Task 5 - Identify the three most discriminative features and the three least discriminative features"
   ]
  },
  {
   "cell_type": "markdown",
   "metadata": {},
   "source": [
    "Using Mutual Information"
   ]
  },
  {
   "cell_type": "code",
   "execution_count": 107,
   "metadata": {},
   "outputs": [
    {
     "data": {
      "text/html": [
       "<div>\n",
       "<style scoped>\n",
       "    .dataframe tbody tr th:only-of-type {\n",
       "        vertical-align: middle;\n",
       "    }\n",
       "\n",
       "    .dataframe tbody tr th {\n",
       "        vertical-align: top;\n",
       "    }\n",
       "\n",
       "    .dataframe thead th {\n",
       "        text-align: right;\n",
       "    }\n",
       "</style>\n",
       "<table border=\"1\" class=\"dataframe\">\n",
       "  <thead>\n",
       "    <tr style=\"text-align: right;\">\n",
       "      <th></th>\n",
       "      <th>Info Gain</th>\n",
       "    </tr>\n",
       "  </thead>\n",
       "  <tbody>\n",
       "    <tr>\n",
       "      <th>Excess kurtosis of the integrated profile</th>\n",
       "      <td>0.224495</td>\n",
       "    </tr>\n",
       "    <tr>\n",
       "      <th>Skewness of the integrated profile</th>\n",
       "      <td>0.194276</td>\n",
       "    </tr>\n",
       "    <tr>\n",
       "      <th>Mean of the integrated profile</th>\n",
       "      <td>0.189824</td>\n",
       "    </tr>\n",
       "    <tr>\n",
       "      <th>Standard deviation of the DM-SNR curve</th>\n",
       "      <td>0.116333</td>\n",
       "    </tr>\n",
       "    <tr>\n",
       "      <th>Skewness of the DM-SNR curve</th>\n",
       "      <td>0.114346</td>\n",
       "    </tr>\n",
       "    <tr>\n",
       "      <th>Mean of the DM-SNR curve</th>\n",
       "      <td>0.112060</td>\n",
       "    </tr>\n",
       "    <tr>\n",
       "      <th>Excess kurtosis of the DM-SNR curve</th>\n",
       "      <td>0.108087</td>\n",
       "    </tr>\n",
       "    <tr>\n",
       "      <th>Standard deviation of the integrated profile</th>\n",
       "      <td>0.085484</td>\n",
       "    </tr>\n",
       "  </tbody>\n",
       "</table>\n",
       "</div>"
      ],
      "text/plain": [
       "                                              Info Gain\n",
       "Excess kurtosis of the integrated profile      0.224495\n",
       "Skewness of the integrated profile             0.194276\n",
       "Mean of the integrated profile                 0.189824\n",
       "Standard deviation of the DM-SNR curve         0.116333\n",
       "Skewness of the DM-SNR curve                   0.114346\n",
       "Mean of the DM-SNR curve                       0.112060\n",
       "Excess kurtosis of the DM-SNR curve            0.108087\n",
       "Standard deviation of the integrated profile   0.085484"
      ]
     },
     "execution_count": 107,
     "metadata": {},
     "output_type": "execute_result"
    }
   ],
   "source": [
    "i_scores = mutual_info_classif(X_train, y_train)\n",
    "\n",
    "# put the i_scores in a dataframe and sort\n",
    "features_info_gain = pd.DataFrame(i_scores, index = X_train.columns, columns =[\"Info Gain\"])\n",
    "features_info_gain.sort_values(by=[\"Info Gain\"], ascending=False, inplace=True)\n",
    "features_info_gain"
   ]
  },
  {
   "cell_type": "code",
   "execution_count": 108,
   "metadata": {},
   "outputs": [
    {
     "data": {
      "text/html": [
       "<div>\n",
       "<style scoped>\n",
       "    .dataframe tbody tr th:only-of-type {\n",
       "        vertical-align: middle;\n",
       "    }\n",
       "\n",
       "    .dataframe tbody tr th {\n",
       "        vertical-align: top;\n",
       "    }\n",
       "\n",
       "    .dataframe thead th {\n",
       "        text-align: right;\n",
       "    }\n",
       "</style>\n",
       "<table border=\"1\" class=\"dataframe\">\n",
       "  <thead>\n",
       "    <tr style=\"text-align: right;\">\n",
       "      <th></th>\n",
       "      <th>Excess kurtosis of the integrated profile</th>\n",
       "      <th>Skewness of the integrated profile</th>\n",
       "      <th>Mean of the integrated profile</th>\n",
       "    </tr>\n",
       "  </thead>\n",
       "  <tbody>\n",
       "    <tr>\n",
       "      <th>5474</th>\n",
       "      <td>0.189464</td>\n",
       "      <td>0.030599</td>\n",
       "      <td>0.606151</td>\n",
       "    </tr>\n",
       "    <tr>\n",
       "      <th>9663</th>\n",
       "      <td>0.219981</td>\n",
       "      <td>0.018960</td>\n",
       "      <td>0.573486</td>\n",
       "    </tr>\n",
       "    <tr>\n",
       "      <th>8489</th>\n",
       "      <td>0.246308</td>\n",
       "      <td>0.041342</td>\n",
       "      <td>0.502804</td>\n",
       "    </tr>\n",
       "    <tr>\n",
       "      <th>3294</th>\n",
       "      <td>0.187824</td>\n",
       "      <td>0.022302</td>\n",
       "      <td>0.620848</td>\n",
       "    </tr>\n",
       "    <tr>\n",
       "      <th>2297</th>\n",
       "      <td>0.186800</td>\n",
       "      <td>0.021372</td>\n",
       "      <td>0.621527</td>\n",
       "    </tr>\n",
       "  </tbody>\n",
       "</table>\n",
       "</div>"
      ],
      "text/plain": [
       "      Excess kurtosis of the integrated profile  \\\n",
       "5474                                   0.189464   \n",
       "9663                                   0.219981   \n",
       "8489                                   0.246308   \n",
       "3294                                   0.187824   \n",
       "2297                                   0.186800   \n",
       "\n",
       "      Skewness of the integrated profile  Mean of the integrated profile  \n",
       "5474                            0.030599                        0.606151  \n",
       "9663                            0.018960                        0.573486  \n",
       "8489                            0.041342                        0.502804  \n",
       "3294                            0.022302                        0.620848  \n",
       "2297                            0.021372                        0.621527  "
      ]
     },
     "execution_count": 108,
     "metadata": {},
     "output_type": "execute_result"
    }
   ],
   "source": [
    "# Generate top 3 and bottom 3 dataframes \n",
    "top3_features_train = X_train[features_info_gain.index[:3]]\n",
    "top3_features_test = X_test[features_info_gain.index[:3]]\n",
    "\n",
    "top3_features_train.head()"
   ]
  },
  {
   "cell_type": "markdown",
   "metadata": {},
   "source": [
    "The top 3 most discriminative features are \"Excess kurtosis of the integrated profile\", \"Skewness of the integrated profile\", \"Mean of the integrated profile\"."
   ]
  },
  {
   "cell_type": "code",
   "execution_count": 109,
   "metadata": {},
   "outputs": [
    {
     "data": {
      "text/html": [
       "<div>\n",
       "<style scoped>\n",
       "    .dataframe tbody tr th:only-of-type {\n",
       "        vertical-align: middle;\n",
       "    }\n",
       "\n",
       "    .dataframe tbody tr th {\n",
       "        vertical-align: top;\n",
       "    }\n",
       "\n",
       "    .dataframe thead th {\n",
       "        text-align: right;\n",
       "    }\n",
       "</style>\n",
       "<table border=\"1\" class=\"dataframe\">\n",
       "  <thead>\n",
       "    <tr style=\"text-align: right;\">\n",
       "      <th></th>\n",
       "      <th>Mean of the DM-SNR curve</th>\n",
       "      <th>Excess kurtosis of the DM-SNR curve</th>\n",
       "      <th>Standard deviation of the integrated profile</th>\n",
       "    </tr>\n",
       "  </thead>\n",
       "  <tbody>\n",
       "    <tr>\n",
       "      <th>5474</th>\n",
       "      <td>0.055904</td>\n",
       "      <td>0.166030</td>\n",
       "      <td>0.386058</td>\n",
       "    </tr>\n",
       "    <tr>\n",
       "      <th>9663</th>\n",
       "      <td>0.793655</td>\n",
       "      <td>0.041588</td>\n",
       "      <td>0.482743</td>\n",
       "    </tr>\n",
       "    <tr>\n",
       "      <th>8489</th>\n",
       "      <td>0.011096</td>\n",
       "      <td>0.332521</td>\n",
       "      <td>0.285370</td>\n",
       "    </tr>\n",
       "    <tr>\n",
       "      <th>3294</th>\n",
       "      <td>0.011424</td>\n",
       "      <td>0.287846</td>\n",
       "      <td>0.383732</td>\n",
       "    </tr>\n",
       "    <tr>\n",
       "      <th>2297</th>\n",
       "      <td>0.004668</td>\n",
       "      <td>0.437820</td>\n",
       "      <td>0.403636</td>\n",
       "    </tr>\n",
       "  </tbody>\n",
       "</table>\n",
       "</div>"
      ],
      "text/plain": [
       "      Mean of the DM-SNR curve  Excess kurtosis of the DM-SNR curve  \\\n",
       "5474                  0.055904                             0.166030   \n",
       "9663                  0.793655                             0.041588   \n",
       "8489                  0.011096                             0.332521   \n",
       "3294                  0.011424                             0.287846   \n",
       "2297                  0.004668                             0.437820   \n",
       "\n",
       "      Standard deviation of the integrated profile  \n",
       "5474                                      0.386058  \n",
       "9663                                      0.482743  \n",
       "8489                                      0.285370  \n",
       "3294                                      0.383732  \n",
       "2297                                      0.403636  "
      ]
     },
     "execution_count": 109,
     "metadata": {},
     "output_type": "execute_result"
    }
   ],
   "source": [
    "bottom3_features_train = X_train[features_info_gain.index[-3:]]\n",
    "bottom3_features_test = X_test[features_info_gain.index[-3:]]\n",
    "\n",
    "bottom3_features_train.head()"
   ]
  },
  {
   "cell_type": "markdown",
   "metadata": {},
   "source": [
    "The least discriminative features are \"Mean of the DM-SNR curve\", \"Excess kurtosis of the DM-SNR curve\", \"Standard deviation of the integrated profile\"."
   ]
  },
  {
   "cell_type": "markdown",
   "metadata": {},
   "source": [
    "##### Running the SVM classifiers with the four kernels on the top three and the bottom three features. How do the results compare? "
   ]
  },
  {
   "cell_type": "code",
   "execution_count": 110,
   "metadata": {},
   "outputs": [
    {
     "name": "stdout",
     "output_type": "stream",
     "text": [
      "F1 score of the model trained on the top 3 features:  0.8277511961722488\n",
      "F1 score of the model trained on the bottom 3 features:  0.689295039164491\n"
     ]
    }
   ],
   "source": [
    "svc = SVC(kernel=\"linear\")\n",
    "\n",
    "svc.fit(top3_features_train, y_train)\n",
    "y_predicted = svc.predict(top3_features_test)\n",
    "print(\"F1 score of the model trained on the top 3 features: \", f1_score(y_test, y_predicted))\n",
    "\n",
    "svc.fit(bottom3_features_train, y_train)\n",
    "y_predicted = svc.predict(bottom3_features_test)\n",
    "print(\"F1 score of the model trained on the bottom 3 features: \", f1_score(y_test, y_predicted))"
   ]
  },
  {
   "cell_type": "markdown",
   "metadata": {},
   "source": [
    "For linear the f1 score is good for the top 3 features (0.82) and not great for the bottom 3 (0.68)"
   ]
  },
  {
   "cell_type": "code",
   "execution_count": 111,
   "metadata": {},
   "outputs": [
    {
     "name": "stdout",
     "output_type": "stream",
     "text": [
      "F1 score of the model trained on the top 3 features:  0.8752834467120181\n",
      "F1 score of the model trained on the bottom 3 features:  0.619718309859155\n"
     ]
    }
   ],
   "source": [
    "svc = SVC(kernel=\"poly\")\n",
    "\n",
    "svc.fit(top3_features_train, y_train)\n",
    "y_predicted = svc.predict(top3_features_test)\n",
    "print(\"F1 score of the model trained on the top 3 features: \", f1_score(y_test, y_predicted))\n",
    "\n",
    "svc.fit(bottom3_features_train, y_train)\n",
    "y_predicted = svc.predict(bottom3_features_test)\n",
    "print(\"F1 score of the model trained on the bottom 3 features: \", f1_score(y_test, y_predicted))"
   ]
  },
  {
   "cell_type": "markdown",
   "metadata": {},
   "source": [
    "For poly the top 3 features work very well in prediction and better than linear kernel. However it predicts worse than linear for the bottom 3 features. "
   ]
  },
  {
   "cell_type": "code",
   "execution_count": 112,
   "metadata": {},
   "outputs": [
    {
     "name": "stdout",
     "output_type": "stream",
     "text": [
      "F1 score of the model trained on the top 3 features:  0.8571428571428571\n",
      "F1 score of the model trained on the bottom 3 features:  0.7083333333333334\n"
     ]
    }
   ],
   "source": [
    "svc = SVC(kernel=\"rbf\")\n",
    "\n",
    "svc.fit(top3_features_train, y_train)\n",
    "y_predicted = svc.predict(top3_features_test)\n",
    "print(\"F1 score of the model trained on the top 3 features: \", f1_score(y_test, y_predicted))\n",
    "\n",
    "svc.fit(bottom3_features_train, y_train)\n",
    "y_predicted = svc.predict(bottom3_features_test)\n",
    "print(\"F1 score of the model trained on the bottom 3 features: \", f1_score(y_test, y_predicted))"
   ]
  },
  {
   "cell_type": "markdown",
   "metadata": {},
   "source": [
    "With rbf the model predicts well, just under the f1 score of poly and has the highest score for the bottom 3 features so far."
   ]
  },
  {
   "cell_type": "code",
   "execution_count": 113,
   "metadata": {},
   "outputs": [
    {
     "name": "stdout",
     "output_type": "stream",
     "text": [
      "F1 score of the model trained on the top 3 features:  0.705607476635514\n",
      "F1 score of the model trained on the bottom 3 features:  0.1936842105263158\n"
     ]
    }
   ],
   "source": [
    "svc = SVC(kernel=\"sigmoid\")\n",
    "\n",
    "svc.fit(top3_features_train, y_train)\n",
    "y_predicted = svc.predict(top3_features_test)\n",
    "print(\"F1 score of the model trained on the top 3 features: \", f1_score(y_test, y_predicted))\n",
    "\n",
    "svc.fit(bottom3_features_train, y_train)\n",
    "y_predicted = svc.predict(bottom3_features_test)\n",
    "print(\"F1 score of the model trained on the bottom 3 features: \", f1_score(y_test, y_predicted))"
   ]
  },
  {
   "cell_type": "markdown",
   "metadata": {},
   "source": [
    "For sigmoid the f1 score for the top 3 features is the worst with 0.70 and also has the worst score for the bottom 3 features with 0.19"
   ]
  },
  {
   "cell_type": "markdown",
   "metadata": {},
   "source": [
    "##### Results:"
   ]
  },
  {
   "cell_type": "markdown",
   "metadata": {},
   "source": [
    "- The poly kernel is still the best closely followed by rbf, then linear. Sigmoid once again is the worst.\n",
    "\n",
    "- In terms of overall result it can be seen how the top 3 features are the most discriminative. The f1 scores are still very strong for most kernels and only drop a small bit compared to the previous f1 measures. For the bottom 3 features the model finds it harder to classify because of their unimportance and thus the f1 measures are lower than usual."
   ]
  },
  {
   "cell_type": "markdown",
   "metadata": {},
   "source": [
    "### Task 6 - Identify the most discriminating features to predict the binary outcome of the dataset using one wrapper feature selection technique. \n",
    "\n",
    "- Wrapper feature selection technique: **SequentialFeatureSelector** from sklearn\n",
    "- Finding the top 3 most discrimintive features"
   ]
  },
  {
   "cell_type": "markdown",
   "metadata": {},
   "source": [
    "Decision Tree Classifier:"
   ]
  },
  {
   "cell_type": "code",
   "execution_count": 114,
   "metadata": {},
   "outputs": [
    {
     "data": {
      "text/html": [
       "<div>\n",
       "<style scoped>\n",
       "    .dataframe tbody tr th:only-of-type {\n",
       "        vertical-align: middle;\n",
       "    }\n",
       "\n",
       "    .dataframe tbody tr th {\n",
       "        vertical-align: top;\n",
       "    }\n",
       "\n",
       "    .dataframe thead th {\n",
       "        text-align: right;\n",
       "    }\n",
       "</style>\n",
       "<table border=\"1\" class=\"dataframe\">\n",
       "  <thead>\n",
       "    <tr style=\"text-align: right;\">\n",
       "      <th></th>\n",
       "      <th>Excess kurtosis of the integrated profile</th>\n",
       "      <th>Standard deviation of the DM-SNR curve</th>\n",
       "      <th>Skewness of the DM-SNR curve</th>\n",
       "    </tr>\n",
       "  </thead>\n",
       "  <tbody>\n",
       "    <tr>\n",
       "      <th>5474</th>\n",
       "      <td>0.189464</td>\n",
       "      <td>0.345921</td>\n",
       "      <td>0.011098</td>\n",
       "    </tr>\n",
       "    <tr>\n",
       "      <th>9663</th>\n",
       "      <td>0.219981</td>\n",
       "      <td>0.815732</td>\n",
       "      <td>0.001216</td>\n",
       "    </tr>\n",
       "    <tr>\n",
       "      <th>8489</th>\n",
       "      <td>0.246308</td>\n",
       "      <td>0.108349</td>\n",
       "      <td>0.090043</td>\n",
       "    </tr>\n",
       "    <tr>\n",
       "      <th>3294</th>\n",
       "      <td>0.187824</td>\n",
       "      <td>0.122817</td>\n",
       "      <td>0.058434</td>\n",
       "    </tr>\n",
       "    <tr>\n",
       "      <th>2297</th>\n",
       "      <td>0.186800</td>\n",
       "      <td>0.073959</td>\n",
       "      <td>0.164852</td>\n",
       "    </tr>\n",
       "  </tbody>\n",
       "</table>\n",
       "</div>"
      ],
      "text/plain": [
       "      Excess kurtosis of the integrated profile  \\\n",
       "5474                                   0.189464   \n",
       "9663                                   0.219981   \n",
       "8489                                   0.246308   \n",
       "3294                                   0.187824   \n",
       "2297                                   0.186800   \n",
       "\n",
       "      Standard deviation of the DM-SNR curve  Skewness of the DM-SNR curve  \n",
       "5474                                0.345921                      0.011098  \n",
       "9663                                0.815732                      0.001216  \n",
       "8489                                0.108349                      0.090043  \n",
       "3294                                0.122817                      0.058434  \n",
       "2297                                0.073959                      0.164852  "
      ]
     },
     "execution_count": 114,
     "metadata": {},
     "output_type": "execute_result"
    }
   ],
   "source": [
    "dt_clf = DecisionTreeClassifier()\n",
    "\n",
    "sfs = SequentialFeatureSelector(dt_clf, n_features_to_select=3, scoring=\"f1\")\n",
    "# Fit the SequentialFeatureSelector to the training data\n",
    "sfs = sfs.fit(X_train, y_train)\n",
    "\n",
    "selected_feature_indices = sfs.get_support()\n",
    "selected_feature_names = X_train.columns[selected_feature_indices]\n",
    "\n",
    "# training and test set based off the selected features (for task 7)\n",
    "dt6_top3_features_train = X_train[selected_feature_names]\n",
    "dt6_top3_features_test = X_test[selected_feature_names]\n",
    "\n",
    "dt6_top3_features_train.head()\n"
   ]
  },
  {
   "cell_type": "markdown",
   "metadata": {},
   "source": [
    "Above are the most discriminative features according to the Decision Tree."
   ]
  },
  {
   "cell_type": "markdown",
   "metadata": {},
   "source": [
    "KNN Classifier:"
   ]
  },
  {
   "cell_type": "code",
   "execution_count": 115,
   "metadata": {},
   "outputs": [
    {
     "data": {
      "text/html": [
       "<div>\n",
       "<style scoped>\n",
       "    .dataframe tbody tr th:only-of-type {\n",
       "        vertical-align: middle;\n",
       "    }\n",
       "\n",
       "    .dataframe tbody tr th {\n",
       "        vertical-align: top;\n",
       "    }\n",
       "\n",
       "    .dataframe thead th {\n",
       "        text-align: right;\n",
       "    }\n",
       "</style>\n",
       "<table border=\"1\" class=\"dataframe\">\n",
       "  <thead>\n",
       "    <tr style=\"text-align: right;\">\n",
       "      <th></th>\n",
       "      <th>Mean of the integrated profile</th>\n",
       "      <th>Standard deviation of the integrated profile</th>\n",
       "      <th>Excess kurtosis of the integrated profile</th>\n",
       "    </tr>\n",
       "  </thead>\n",
       "  <tbody>\n",
       "    <tr>\n",
       "      <th>5474</th>\n",
       "      <td>0.606151</td>\n",
       "      <td>0.386058</td>\n",
       "      <td>0.189464</td>\n",
       "    </tr>\n",
       "    <tr>\n",
       "      <th>9663</th>\n",
       "      <td>0.573486</td>\n",
       "      <td>0.482743</td>\n",
       "      <td>0.219981</td>\n",
       "    </tr>\n",
       "    <tr>\n",
       "      <th>8489</th>\n",
       "      <td>0.502804</td>\n",
       "      <td>0.285370</td>\n",
       "      <td>0.246308</td>\n",
       "    </tr>\n",
       "    <tr>\n",
       "      <th>3294</th>\n",
       "      <td>0.620848</td>\n",
       "      <td>0.383732</td>\n",
       "      <td>0.187824</td>\n",
       "    </tr>\n",
       "    <tr>\n",
       "      <th>2297</th>\n",
       "      <td>0.621527</td>\n",
       "      <td>0.403636</td>\n",
       "      <td>0.186800</td>\n",
       "    </tr>\n",
       "  </tbody>\n",
       "</table>\n",
       "</div>"
      ],
      "text/plain": [
       "      Mean of the integrated profile  \\\n",
       "5474                        0.606151   \n",
       "9663                        0.573486   \n",
       "8489                        0.502804   \n",
       "3294                        0.620848   \n",
       "2297                        0.621527   \n",
       "\n",
       "      Standard deviation of the integrated profile  \\\n",
       "5474                                      0.386058   \n",
       "9663                                      0.482743   \n",
       "8489                                      0.285370   \n",
       "3294                                      0.383732   \n",
       "2297                                      0.403636   \n",
       "\n",
       "      Excess kurtosis of the integrated profile  \n",
       "5474                                   0.189464  \n",
       "9663                                   0.219981  \n",
       "8489                                   0.246308  \n",
       "3294                                   0.187824  \n",
       "2297                                   0.186800  "
      ]
     },
     "execution_count": 115,
     "metadata": {},
     "output_type": "execute_result"
    }
   ],
   "source": [
    "knn_clf = KNeighborsClassifier() \n",
    "\n",
    "sfs = SequentialFeatureSelector(knn_clf, n_features_to_select=3, scoring=\"f1\")\n",
    "# Fit the SequentialFeatureSelector to the training data\n",
    "sfs = sfs.fit(X_train, y_train)\n",
    "\n",
    "selected_feature_indices = sfs.get_support()\n",
    "selected_feature_names = X_train.columns[selected_feature_indices]\n",
    "\n",
    "# training and test set based off the selected features\n",
    "knn6_top3_features_train = X_train[selected_feature_names]\n",
    "knn6_top3_features_test = X_test[selected_feature_names]\n",
    "\n",
    "knn6_top3_features_train.head()"
   ]
  },
  {
   "cell_type": "markdown",
   "metadata": {},
   "source": [
    "For KNN, the common features with the Decision Tree is \"Standard deviation of the integrated profile\" and \"Excess kurtosis of the integrated profile\"."
   ]
  },
  {
   "cell_type": "markdown",
   "metadata": {},
   "source": [
    "**SVM**\n",
    "\n",
    "Linear Kernel: "
   ]
  },
  {
   "cell_type": "code",
   "execution_count": 116,
   "metadata": {},
   "outputs": [
    {
     "data": {
      "text/html": [
       "<div>\n",
       "<style scoped>\n",
       "    .dataframe tbody tr th:only-of-type {\n",
       "        vertical-align: middle;\n",
       "    }\n",
       "\n",
       "    .dataframe tbody tr th {\n",
       "        vertical-align: top;\n",
       "    }\n",
       "\n",
       "    .dataframe thead th {\n",
       "        text-align: right;\n",
       "    }\n",
       "</style>\n",
       "<table border=\"1\" class=\"dataframe\">\n",
       "  <thead>\n",
       "    <tr style=\"text-align: right;\">\n",
       "      <th></th>\n",
       "      <th>Excess kurtosis of the integrated profile</th>\n",
       "      <th>Standard deviation of the DM-SNR curve</th>\n",
       "      <th>Skewness of the DM-SNR curve</th>\n",
       "    </tr>\n",
       "  </thead>\n",
       "  <tbody>\n",
       "    <tr>\n",
       "      <th>5474</th>\n",
       "      <td>0.189464</td>\n",
       "      <td>0.345921</td>\n",
       "      <td>0.011098</td>\n",
       "    </tr>\n",
       "    <tr>\n",
       "      <th>9663</th>\n",
       "      <td>0.219981</td>\n",
       "      <td>0.815732</td>\n",
       "      <td>0.001216</td>\n",
       "    </tr>\n",
       "    <tr>\n",
       "      <th>8489</th>\n",
       "      <td>0.246308</td>\n",
       "      <td>0.108349</td>\n",
       "      <td>0.090043</td>\n",
       "    </tr>\n",
       "    <tr>\n",
       "      <th>3294</th>\n",
       "      <td>0.187824</td>\n",
       "      <td>0.122817</td>\n",
       "      <td>0.058434</td>\n",
       "    </tr>\n",
       "    <tr>\n",
       "      <th>2297</th>\n",
       "      <td>0.186800</td>\n",
       "      <td>0.073959</td>\n",
       "      <td>0.164852</td>\n",
       "    </tr>\n",
       "  </tbody>\n",
       "</table>\n",
       "</div>"
      ],
      "text/plain": [
       "      Excess kurtosis of the integrated profile  \\\n",
       "5474                                   0.189464   \n",
       "9663                                   0.219981   \n",
       "8489                                   0.246308   \n",
       "3294                                   0.187824   \n",
       "2297                                   0.186800   \n",
       "\n",
       "      Standard deviation of the DM-SNR curve  Skewness of the DM-SNR curve  \n",
       "5474                                0.345921                      0.011098  \n",
       "9663                                0.815732                      0.001216  \n",
       "8489                                0.108349                      0.090043  \n",
       "3294                                0.122817                      0.058434  \n",
       "2297                                0.073959                      0.164852  "
      ]
     },
     "execution_count": 116,
     "metadata": {},
     "output_type": "execute_result"
    }
   ],
   "source": [
    "svc = SVC(kernel=\"linear\")\n",
    "\n",
    "sfs = SequentialFeatureSelector(svc, n_features_to_select=3, scoring=\"f1\")\n",
    "# Fit the SequentialFeatureSelector to the training data\n",
    "sfs = sfs.fit(X_train, y_train)\n",
    "\n",
    "selected_feature_indices = sfs.get_support()\n",
    "selected_feature_names = X_train.columns[selected_feature_indices]\n",
    "\n",
    "# training and test set based off the selected features\n",
    "linear6_top3_features_train = X_train[selected_feature_names]\n",
    "linear6_top3_features_test = X_test[selected_feature_names]\n",
    "\n",
    "linear6_top3_features_train.head()"
   ]
  },
  {
   "cell_type": "markdown",
   "metadata": {},
   "source": [
    "For SVM with the \"linear\" kernel, the only common feature with Decision Tree and KNN is \"Excess kurtosis of the integrated profile\"."
   ]
  },
  {
   "cell_type": "markdown",
   "metadata": {},
   "source": [
    "Poly Kernel (takes a while to run): "
   ]
  },
  {
   "cell_type": "code",
   "execution_count": null,
   "metadata": {},
   "outputs": [],
   "source": [
    "svc = SVC(kernel=\"poly\")\n",
    "\n",
    "sfs = SequentialFeatureSelector(svc, n_features_to_select=3, scoring=\"f1\")\n",
    "# Fit the SequentialFeatureSelector to the training data\n",
    "sfs = sfs.fit(X_train, y_train)\n",
    "\n",
    "selected_feature_indices = sfs.get_support()\n",
    "selected_feature_names = X_train.columns[selected_feature_indices]\n",
    "\n",
    "# training and test set based off the selected features\n",
    "poly6_top3_features_train = X_train[selected_feature_names]\n",
    "poly6_top3_features_test = X_test[selected_feature_names]\n",
    "\n",
    "poly6_top3_features_train.head()"
   ]
  },
  {
   "cell_type": "markdown",
   "metadata": {},
   "source": [
    "RBF Kernel:"
   ]
  },
  {
   "cell_type": "code",
   "execution_count": 117,
   "metadata": {},
   "outputs": [
    {
     "data": {
      "text/html": [
       "<div>\n",
       "<style scoped>\n",
       "    .dataframe tbody tr th:only-of-type {\n",
       "        vertical-align: middle;\n",
       "    }\n",
       "\n",
       "    .dataframe tbody tr th {\n",
       "        vertical-align: top;\n",
       "    }\n",
       "\n",
       "    .dataframe thead th {\n",
       "        text-align: right;\n",
       "    }\n",
       "</style>\n",
       "<table border=\"1\" class=\"dataframe\">\n",
       "  <thead>\n",
       "    <tr style=\"text-align: right;\">\n",
       "      <th></th>\n",
       "      <th>Standard deviation of the integrated profile</th>\n",
       "      <th>Excess kurtosis of the integrated profile</th>\n",
       "      <th>Standard deviation of the DM-SNR curve</th>\n",
       "    </tr>\n",
       "  </thead>\n",
       "  <tbody>\n",
       "    <tr>\n",
       "      <th>5474</th>\n",
       "      <td>0.386058</td>\n",
       "      <td>0.189464</td>\n",
       "      <td>0.345921</td>\n",
       "    </tr>\n",
       "    <tr>\n",
       "      <th>9663</th>\n",
       "      <td>0.482743</td>\n",
       "      <td>0.219981</td>\n",
       "      <td>0.815732</td>\n",
       "    </tr>\n",
       "    <tr>\n",
       "      <th>8489</th>\n",
       "      <td>0.285370</td>\n",
       "      <td>0.246308</td>\n",
       "      <td>0.108349</td>\n",
       "    </tr>\n",
       "    <tr>\n",
       "      <th>3294</th>\n",
       "      <td>0.383732</td>\n",
       "      <td>0.187824</td>\n",
       "      <td>0.122817</td>\n",
       "    </tr>\n",
       "    <tr>\n",
       "      <th>2297</th>\n",
       "      <td>0.403636</td>\n",
       "      <td>0.186800</td>\n",
       "      <td>0.073959</td>\n",
       "    </tr>\n",
       "  </tbody>\n",
       "</table>\n",
       "</div>"
      ],
      "text/plain": [
       "      Standard deviation of the integrated profile  \\\n",
       "5474                                      0.386058   \n",
       "9663                                      0.482743   \n",
       "8489                                      0.285370   \n",
       "3294                                      0.383732   \n",
       "2297                                      0.403636   \n",
       "\n",
       "      Excess kurtosis of the integrated profile  \\\n",
       "5474                                   0.189464   \n",
       "9663                                   0.219981   \n",
       "8489                                   0.246308   \n",
       "3294                                   0.187824   \n",
       "2297                                   0.186800   \n",
       "\n",
       "      Standard deviation of the DM-SNR curve  \n",
       "5474                                0.345921  \n",
       "9663                                0.815732  \n",
       "8489                                0.108349  \n",
       "3294                                0.122817  \n",
       "2297                                0.073959  "
      ]
     },
     "execution_count": 117,
     "metadata": {},
     "output_type": "execute_result"
    }
   ],
   "source": [
    "svc = SVC(kernel=\"rbf\")\n",
    "\n",
    "sfs = SequentialFeatureSelector(svc, n_features_to_select=3, scoring=\"f1\")\n",
    "# Fit the SequentialFeatureSelector to the training data\n",
    "sfs = sfs.fit(X_train, y_train)\n",
    "\n",
    "selected_feature_indices = sfs.get_support()\n",
    "selected_feature_names = X_train.columns[selected_feature_indices]\n",
    "\n",
    "# training and test set based off the selected features\n",
    "rbf6_top3_features_train = X_train[selected_feature_names]\n",
    "rbf6_top3_features_test = X_test[selected_feature_names]\n",
    "\n",
    "rbf6_top3_features_train.head()"
   ]
  },
  {
   "cell_type": "markdown",
   "metadata": {},
   "source": [
    "With the \"rbf\" kernel, \"Standard deviation of the integrated profile\" and \"Excess kurtosis of the integrated profile\" both appear for the third time. \"Standard deviation of the DM-SNR curve\" appears for the second time."
   ]
  },
  {
   "cell_type": "markdown",
   "metadata": {},
   "source": [
    "Sigmoid Kernel:\n"
   ]
  },
  {
   "cell_type": "code",
   "execution_count": 118,
   "metadata": {},
   "outputs": [
    {
     "data": {
      "text/html": [
       "<div>\n",
       "<style scoped>\n",
       "    .dataframe tbody tr th:only-of-type {\n",
       "        vertical-align: middle;\n",
       "    }\n",
       "\n",
       "    .dataframe tbody tr th {\n",
       "        vertical-align: top;\n",
       "    }\n",
       "\n",
       "    .dataframe thead th {\n",
       "        text-align: right;\n",
       "    }\n",
       "</style>\n",
       "<table border=\"1\" class=\"dataframe\">\n",
       "  <thead>\n",
       "    <tr style=\"text-align: right;\">\n",
       "      <th></th>\n",
       "      <th>Skewness of the integrated profile</th>\n",
       "      <th>Mean of the DM-SNR curve</th>\n",
       "      <th>Excess kurtosis of the DM-SNR curve</th>\n",
       "    </tr>\n",
       "  </thead>\n",
       "  <tbody>\n",
       "    <tr>\n",
       "      <th>5474</th>\n",
       "      <td>0.030599</td>\n",
       "      <td>0.055904</td>\n",
       "      <td>0.166030</td>\n",
       "    </tr>\n",
       "    <tr>\n",
       "      <th>9663</th>\n",
       "      <td>0.018960</td>\n",
       "      <td>0.793655</td>\n",
       "      <td>0.041588</td>\n",
       "    </tr>\n",
       "    <tr>\n",
       "      <th>8489</th>\n",
       "      <td>0.041342</td>\n",
       "      <td>0.011096</td>\n",
       "      <td>0.332521</td>\n",
       "    </tr>\n",
       "    <tr>\n",
       "      <th>3294</th>\n",
       "      <td>0.022302</td>\n",
       "      <td>0.011424</td>\n",
       "      <td>0.287846</td>\n",
       "    </tr>\n",
       "    <tr>\n",
       "      <th>2297</th>\n",
       "      <td>0.021372</td>\n",
       "      <td>0.004668</td>\n",
       "      <td>0.437820</td>\n",
       "    </tr>\n",
       "  </tbody>\n",
       "</table>\n",
       "</div>"
      ],
      "text/plain": [
       "      Skewness of the integrated profile  Mean of the DM-SNR curve  \\\n",
       "5474                            0.030599                  0.055904   \n",
       "9663                            0.018960                  0.793655   \n",
       "8489                            0.041342                  0.011096   \n",
       "3294                            0.022302                  0.011424   \n",
       "2297                            0.021372                  0.004668   \n",
       "\n",
       "      Excess kurtosis of the DM-SNR curve  \n",
       "5474                             0.166030  \n",
       "9663                             0.041588  \n",
       "8489                             0.332521  \n",
       "3294                             0.287846  \n",
       "2297                             0.437820  "
      ]
     },
     "execution_count": 118,
     "metadata": {},
     "output_type": "execute_result"
    }
   ],
   "source": [
    "svc = SVC(kernel=\"sigmoid\")\n",
    "\n",
    "sfs = SequentialFeatureSelector(svc, n_features_to_select=3, scoring=\"f1\")\n",
    "# Fit the SequentialFeatureSelector to the training data\n",
    "sfs = sfs.fit(X_train, y_train)\n",
    "\n",
    "selected_feature_indices = sfs.get_support()\n",
    "selected_feature_names = X_train.columns[selected_feature_indices]\n",
    "\n",
    "# training and test set based off the selected features\n",
    "sigmoid6_top3_features_train = X_train[selected_feature_names]\n",
    "sigmoid6_top3_features_test = X_test[selected_feature_names]\n",
    "\n",
    "sigmoid6_top3_features_train.head()"
   ]
  },
  {
   "cell_type": "markdown",
   "metadata": {},
   "source": [
    "Finally for the \"sigmoid\" kernel, it does not have any common features."
   ]
  },
  {
   "cell_type": "markdown",
   "metadata": {},
   "source": [
    "Result:\n",
    "- The features that appear most frequently and are deemed the most discriminative are:\n",
    "\n",
    "    - \"Standard deviation of the integrated profile\"\n",
    "    - \"Excess kurtosis of the integrated profile\"\n",
    "    - \"Standard deviation of the DM-SNR curve\""
   ]
  },
  {
   "cell_type": "markdown",
   "metadata": {},
   "source": [
    "- In comparison with the results found in Task 5 the outcomes are quite similar. \"Standard deviation of the integrated profile\" and \"Excess kurtosis of the integrated profile\" are the top 2 most discriminative features in Task 5 and Task 6. This shows that these two features are definitely the most important in classifying as both methods give similar results.\n",
    "\n",
    "- The third most discriminate result is different for Task 5 and 6. \"Standard deviation of the DM-SNR curve\" comes fourth in Task 5 in order of discrimination. This just means that the other features aren't as clear cut stand out features like the top two."
   ]
  },
  {
   "cell_type": "markdown",
   "metadata": {},
   "source": [
    "### Task 7 - Compare the performance of different classifiers using the different feature subsets found in Tasks 5 and 6 and compare it to the results on the original dataset that you reported in Task 4."
   ]
  },
  {
   "cell_type": "markdown",
   "metadata": {},
   "source": [
    "Decision Tree Classifier:"
   ]
  },
  {
   "cell_type": "code",
   "execution_count": 119,
   "metadata": {},
   "outputs": [
    {
     "name": "stdout",
     "output_type": "stream",
     "text": [
      "Task 4: the F1 score of the model trained on original training set = 0.8245243128964059\n",
      "Task 5: the F1 score of the model trained on the top 3 features using info gain = 0.8141962421711899\n",
      "Task 6: the F1 score of the model trained on the top 3 features using SequentialFeatureSelector = 0.818565400843882\n"
     ]
    }
   ],
   "source": [
    "dt_clf = DecisionTreeClassifier()\n",
    "\n",
    "# task 4 original dataset\n",
    "dt_clf.fit(X_train, y_train)\n",
    "y_predicted = dt_clf.predict(X_test)\n",
    "print(\"Task 4: the F1 score of the model trained on original training set =\", f1_score(y_test, y_predicted))\n",
    "\n",
    "\n",
    "# task 5 feature subset using info gain\n",
    "dt_clf.fit(top3_features_train, y_train)\n",
    "y_predicted = dt_clf.predict(top3_features_test)\n",
    "print(\"Task 5: the F1 score of the model trained on the top 3 features using info gain =\", f1_score(y_test, y_predicted))\n",
    "\n",
    "# task 6 feature subset using SequentialFeatureSelector\n",
    "dt_clf.fit(dt6_top3_features_train, y_train)\n",
    "y_predicted = dt_clf.predict(dt6_top3_features_test)\n",
    "print(\"Task 6: the F1 score of the model trained on the top 3 features using SequentialFeatureSelector =\", f1_score(y_test, y_predicted))"
   ]
  },
  {
   "cell_type": "markdown",
   "metadata": {},
   "source": [
    "For the Decision Tree Classifier, the model works well similar for all the subets of data. All averaging an f1 score of 0.82 "
   ]
  },
  {
   "cell_type": "markdown",
   "metadata": {},
   "source": [
    "KNN Classifier:"
   ]
  },
  {
   "cell_type": "code",
   "execution_count": 120,
   "metadata": {},
   "outputs": [
    {
     "name": "stdout",
     "output_type": "stream",
     "text": [
      "Task 4: the F1 score of the model trained on original training set = 0.8716814159292036\n",
      "Task 5: the F1 score of the model trained on the top 3 features using info gain = 0.8780487804878049\n",
      "Task 6: the F1 score of the model trained on the top 3 features using SequentialFeatureSelector = 0.8766519823788547\n"
     ]
    }
   ],
   "source": [
    "knn_clf = KNeighborsClassifier()\n",
    "\n",
    "# task 4 original dataset\n",
    "knn_clf.fit(X_train, y_train)\n",
    "y_predicted = knn_clf.predict(X_test)\n",
    "print(\"Task 4: the F1 score of the model trained on original training set =\", f1_score(y_test, y_predicted))\n",
    "\n",
    "\n",
    "# task 5 feature subset using info gain\n",
    "knn_clf.fit(top3_features_train, y_train)\n",
    "y_predicted = knn_clf.predict(top3_features_test)\n",
    "print(\"Task 5: the F1 score of the model trained on the top 3 features using info gain =\", f1_score(y_test, y_predicted))\n",
    "\n",
    "# task 6 feature subset using SequentialFeatureSelector\n",
    "knn_clf.fit(knn6_top3_features_train, y_train)\n",
    "y_predicted = knn_clf.predict(knn6_top3_features_test)\n",
    "print(\"Task 6: the F1 score of the model trained on the top 3 features using SequentialFeatureSelector =\", f1_score(y_test, y_predicted))"
   ]
  },
  {
   "cell_type": "markdown",
   "metadata": {},
   "source": [
    "For the KNN model, all subsets also work very similar with an f1 score of 0.87. This is a very good score."
   ]
  },
  {
   "cell_type": "markdown",
   "metadata": {},
   "source": [
    "SVM\n",
    "\n",
    "Linear kernel:"
   ]
  },
  {
   "cell_type": "code",
   "execution_count": 121,
   "metadata": {},
   "outputs": [
    {
     "name": "stdout",
     "output_type": "stream",
     "text": [
      "Task 4: the F1 score of the model trained on original training set = 0.8669724770642202\n",
      "Task 5: the F1 score of the model trained on the top 3 features using info gain = 0.8277511961722488\n",
      "Task 6: the F1 score of the model trained on the top 3 features using SequentialFeatureSelector = 0.8551724137931034\n"
     ]
    }
   ],
   "source": [
    "svc = SVC(kernel=\"linear\")\n",
    "\n",
    "# task 4 original dataset\n",
    "svc.fit(X_train, y_train)\n",
    "y_predicted = svc.predict(X_test)\n",
    "print(\"Task 4: the F1 score of the model trained on original training set =\", f1_score(y_test, y_predicted))\n",
    "\n",
    "\n",
    "# task 5 feature subset using info gain\n",
    "svc.fit(top3_features_train, y_train)\n",
    "y_predicted = svc.predict(top3_features_test)\n",
    "print(\"Task 5: the F1 score of the model trained on the top 3 features using info gain =\", f1_score(y_test, y_predicted))\n",
    "\n",
    "# task 6 feature subset using SequentialFeatureSelector\n",
    "svc.fit(linear6_top3_features_train, y_train)\n",
    "y_predicted = svc.predict(linear6_top3_features_test)\n",
    "print(\"Task 6: the F1 score of the model trained on the top 3 features using SequentialFeatureSelector =\", f1_score(y_test, y_predicted))"
   ]
  },
  {
   "cell_type": "markdown",
   "metadata": {},
   "source": [
    "For the linear kernel of SVM, the f1 scores are more varied. The original dataset scored the best followed by the SequentialFeatureSelector. All measures are above 0.82 which is still very good."
   ]
  },
  {
   "cell_type": "markdown",
   "metadata": {},
   "source": [
    "Poly kernel:"
   ]
  },
  {
   "cell_type": "code",
   "execution_count": null,
   "metadata": {},
   "outputs": [
    {
     "name": "stdout",
     "output_type": "stream",
     "text": [
      "Task 4: the F1 score of the model trained on original training set = 0.8808988764044944\n",
      "Task 5: the F1 score of the model trained on the top 3 features using info gain = 0.8752834467120181\n"
     ]
    },
    {
     "ename": "NameError",
     "evalue": "name 'poly6_top3_features_train' is not defined",
     "output_type": "error",
     "traceback": [
      "\u001b[1;31m---------------------------------------------------------------------------\u001b[0m",
      "\u001b[1;31mNameError\u001b[0m                                 Traceback (most recent call last)",
      "\u001b[1;32mc:\\Users\\Sean\\Documents\\Computer Science Year 4\\Machine Learning\\Class Repo\\UCD_Machine_Learning\\Assignment 1\\Assignment_1.ipynb Cell 142\u001b[0m line \u001b[0;36m<cell line: 15>\u001b[1;34m()\u001b[0m\n\u001b[0;32m     <a href='vscode-notebook-cell:/c%3A/Users/Sean/Documents/Computer%20Science%20Year%204/Machine%20Learning/Class%20Repo/UCD_Machine_Learning/Assignment%201/Assignment_1.ipynb#Y263sZmlsZQ%3D%3D?line=11'>12</a>\u001b[0m \u001b[39mprint\u001b[39m(\u001b[39m\"\u001b[39m\u001b[39mTask 5: the F1 score of the model trained on the top 3 features using info gain =\u001b[39m\u001b[39m\"\u001b[39m, f1_score(y_test, y_predicted))\n\u001b[0;32m     <a href='vscode-notebook-cell:/c%3A/Users/Sean/Documents/Computer%20Science%20Year%204/Machine%20Learning/Class%20Repo/UCD_Machine_Learning/Assignment%201/Assignment_1.ipynb#Y263sZmlsZQ%3D%3D?line=13'>14</a>\u001b[0m \u001b[39m# task 6 feature subset using SequentialFeatureSelector\u001b[39;00m\n\u001b[1;32m---> <a href='vscode-notebook-cell:/c%3A/Users/Sean/Documents/Computer%20Science%20Year%204/Machine%20Learning/Class%20Repo/UCD_Machine_Learning/Assignment%201/Assignment_1.ipynb#Y263sZmlsZQ%3D%3D?line=14'>15</a>\u001b[0m svc\u001b[39m.\u001b[39mfit(poly6_top3_features_train, y_train)\n\u001b[0;32m     <a href='vscode-notebook-cell:/c%3A/Users/Sean/Documents/Computer%20Science%20Year%204/Machine%20Learning/Class%20Repo/UCD_Machine_Learning/Assignment%201/Assignment_1.ipynb#Y263sZmlsZQ%3D%3D?line=15'>16</a>\u001b[0m y_predicted \u001b[39m=\u001b[39m svc\u001b[39m.\u001b[39mpredict(poly6_top3_features_test)\n\u001b[0;32m     <a href='vscode-notebook-cell:/c%3A/Users/Sean/Documents/Computer%20Science%20Year%204/Machine%20Learning/Class%20Repo/UCD_Machine_Learning/Assignment%201/Assignment_1.ipynb#Y263sZmlsZQ%3D%3D?line=16'>17</a>\u001b[0m \u001b[39mprint\u001b[39m(\u001b[39m\"\u001b[39m\u001b[39mTask 6: the F1 score of the model trained on the top 3 features using SequentialFeatureSelector =\u001b[39m\u001b[39m\"\u001b[39m, f1_score(y_test, y_predicted))\n",
      "\u001b[1;31mNameError\u001b[0m: name 'poly6_top3_features_train' is not defined"
     ]
    }
   ],
   "source": [
    "svc = SVC(kernel=\"poly\")\n",
    "\n",
    "# task 4 original dataset\n",
    "svc.fit(X_train, y_train)\n",
    "y_predicted = svc.predict(X_test)\n",
    "print(\"Task 4: the F1 score of the model trained on original training set =\", f1_score(y_test, y_predicted))\n",
    "\n",
    "\n",
    "# task 5 feature subset using info gain\n",
    "svc.fit(top3_features_train, y_train)\n",
    "y_predicted = svc.predict(top3_features_test)\n",
    "print(\"Task 5: the F1 score of the model trained on the top 3 features using info gain =\", f1_score(y_test, y_predicted))\n",
    "\n",
    "# task 6 feature subset using SequentialFeatureSelector\n",
    "svc.fit(poly6_top3_features_train, y_train)\n",
    "y_predicted = svc.predict(poly6_top3_features_test)\n",
    "print(\"Task 6: the F1 score of the model trained on the top 3 features using SequentialFeatureSelector =\", f1_score(y_test, y_predicted))"
   ]
  },
  {
   "cell_type": "markdown",
   "metadata": {},
   "source": [
    "Rbf kernel:"
   ]
  },
  {
   "cell_type": "code",
   "execution_count": 122,
   "metadata": {},
   "outputs": [
    {
     "name": "stdout",
     "output_type": "stream",
     "text": [
      "Task 4: the F1 score of the model trained on original training set = 0.867579908675799\n",
      "Task 5: the F1 score of the model trained on the top 3 features using info gain = 0.8571428571428571\n",
      "Task 6: the F1 score of the model trained on the top 3 features using SequentialFeatureSelector = 0.8662131519274375\n"
     ]
    }
   ],
   "source": [
    "svc = SVC(kernel=\"rbf\")\n",
    "\n",
    "# task 4 original dataset\n",
    "svc.fit(X_train, y_train)\n",
    "y_predicted = svc.predict(X_test)\n",
    "print(\"Task 4: the F1 score of the model trained on original training set =\", f1_score(y_test, y_predicted))\n",
    "\n",
    "\n",
    "# task 5 feature subset using info gain\n",
    "svc.fit(top3_features_train, y_train)\n",
    "y_predicted = svc.predict(top3_features_test)\n",
    "print(\"Task 5: the F1 score of the model trained on the top 3 features using info gain =\", f1_score(y_test, y_predicted))\n",
    "\n",
    "# task 6 feature subset using SequentialFeatureSelector\n",
    "svc.fit(rbf6_top3_features_train, y_train)\n",
    "y_predicted = svc.predict(rbf6_top3_features_test)\n",
    "print(\"Task 6: the F1 score of the model trained on the top 3 features using SequentialFeatureSelector =\", f1_score(y_test, y_predicted))"
   ]
  },
  {
   "cell_type": "markdown",
   "metadata": {},
   "source": [
    "For the rbf kernel, the f1 measure for all subsets is very similar, all scores being around 0.86. There is not much difference between them."
   ]
  },
  {
   "cell_type": "markdown",
   "metadata": {},
   "source": [
    "Sigmoid kernel:"
   ]
  },
  {
   "cell_type": "code",
   "execution_count": 123,
   "metadata": {},
   "outputs": [
    {
     "name": "stdout",
     "output_type": "stream",
     "text": [
      "Task 4: the F1 score of the model trained on original training set = 0.4817204301075269\n",
      "Task 5: the F1 score of the model trained on the top 3 features using info gain = 0.705607476635514\n",
      "Task 6: the F1 score of the model trained on the top 3 features using SequentialFeatureSelector = 0.5351473922902494\n"
     ]
    }
   ],
   "source": [
    "svc = SVC(kernel=\"sigmoid\")\n",
    "\n",
    "# task 4 original dataset\n",
    "svc.fit(X_train, y_train)\n",
    "y_predicted = svc.predict(X_test)\n",
    "print(\"Task 4: the F1 score of the model trained on original training set =\", f1_score(y_test, y_predicted))\n",
    "\n",
    "\n",
    "# task 5 feature subset using info gain\n",
    "svc.fit(top3_features_train, y_train)\n",
    "y_predicted = svc.predict(top3_features_test)\n",
    "print(\"Task 5: the F1 score of the model trained on the top 3 features using info gain =\", f1_score(y_test, y_predicted))\n",
    "\n",
    "# task 6 feature subset using SequentialFeatureSelector\n",
    "svc.fit(sigmoid6_top3_features_train, y_train)\n",
    "y_predicted = svc.predict(sigmoid6_top3_features_test)\n",
    "print(\"Task 6: the F1 score of the model trained on the top 3 features using SequentialFeatureSelector =\", f1_score(y_test, y_predicted))"
   ]
  },
  {
   "cell_type": "markdown",
   "metadata": {},
   "source": [
    "Finally for the sigmoid kernel, the original and SequentialFeatureSelector subset do very bad here. The info gain subset however does surprisingly well with a score of 0.70."
   ]
  },
  {
   "cell_type": "markdown",
   "metadata": {},
   "source": [
    "Result:\n",
    "\n",
    "- With feature selection, the results for most classifiers either stayed the same of dropped of very slightly. This conveys to me how influential the discriminative features are.\n",
    "\n",
    "- The only classifier that was different was the sigmoid kernel which improved greatly with the information gain feature selection. It improved by 0.2 from the original dataset.\n",
    "\n",
    "- I'm surprised at the result. The subsets still allow the classifiers to work very well and are almost all on par with the original training set.\n",
    "\n",
    "In terms of overall performance of the classifiers I am surprised the the Decision Tree was the best. I expected KNN classifier to be better and I was surprised at how bad the sigmoid kernel did for SVM."
   ]
  },
  {
   "cell_type": "markdown",
   "metadata": {},
   "source": [
    "### Task 8 - Plot the ROC curves for the \"1\" class and the different classification models."
   ]
  },
  {
   "cell_type": "markdown",
   "metadata": {},
   "source": [
    "Using DummyClassifier for comparison."
   ]
  },
  {
   "cell_type": "code",
   "execution_count": 124,
   "metadata": {},
   "outputs": [
    {
     "data": {
      "text/plain": [
       "DummyClassifier(strategy='most_frequent')"
      ]
     },
     "execution_count": 124,
     "metadata": {},
     "output_type": "execute_result"
    }
   ],
   "source": [
    "dummy_classifier = DummyClassifier(strategy=\"most_frequent\")\n",
    "dummy_classifier.fit(X_train, y_train)"
   ]
  },
  {
   "cell_type": "markdown",
   "metadata": {},
   "source": [
    "Decison Tree:"
   ]
  },
  {
   "cell_type": "code",
   "execution_count": 125,
   "metadata": {},
   "outputs": [
    {
     "data": {
      "image/png": "[encoded data removed]",
      "text/plain": [
       "<Figure size 432x288 with 1 Axes>"
      ]
     },
     "metadata": {
      "needs_background": "light"
     },
     "output_type": "display_data"
    }
   ],
   "source": [
    "dt_clf = DecisionTreeClassifier()\n",
    "dt_clf.fit(X_train, y_train)\n",
    "\n",
    "disp = RocCurveDisplay.from_estimator(dt_clf, X_test, y_test, pos_label=1)\n",
    "disp = RocCurveDisplay.from_estimator(dummy_classifier, X_test, y_test, pos_label=1, ax = disp.ax_)\n",
    "disp.ax_.set_title(\"ROC AUC curve\");"
   ]
  },
  {
   "cell_type": "markdown",
   "metadata": {},
   "source": [
    "You can see here the AUC is good but could be better."
   ]
  },
  {
   "cell_type": "markdown",
   "metadata": {},
   "source": [
    "KNN:"
   ]
  },
  {
   "cell_type": "code",
   "execution_count": 126,
   "metadata": {},
   "outputs": [
    {
     "data": {
      "image/png": "[encoded data removed]",
      "text/plain": [
       "<Figure size 432x288 with 1 Axes>"
      ]
     },
     "metadata": {
      "needs_background": "light"
     },
     "output_type": "display_data"
    }
   ],
   "source": [
    "knn_clf = KNeighborsClassifier()\n",
    "knn_clf.fit(X_train, y_train)\n",
    "\n",
    "disp = RocCurveDisplay.from_estimator(knn_clf, X_test, y_test, pos_label=1)\n",
    "disp = RocCurveDisplay.from_estimator(dummy_classifier, X_test, y_test, pos_label=1, ax = disp.ax_)\n",
    "disp.ax_.set_title(\"ROC AUC curve\");"
   ]
  },
  {
   "cell_type": "markdown",
   "metadata": {},
   "source": [
    "Here the KNN has a better AUC than the Decison Tree."
   ]
  },
  {
   "cell_type": "markdown",
   "metadata": {},
   "source": [
    "SVM "
   ]
  },
  {
   "cell_type": "markdown",
   "metadata": {},
   "source": [
    "Linear Kernel:"
   ]
  },
  {
   "cell_type": "code",
   "execution_count": 127,
   "metadata": {},
   "outputs": [
    {
     "data": {
      "image/png": "[encoded data removed]",
      "text/plain": [
       "<Figure size 432x288 with 1 Axes>"
      ]
     },
     "metadata": {
      "needs_background": "light"
     },
     "output_type": "display_data"
    }
   ],
   "source": [
    "svc = SVC(kernel=\"linear\")\n",
    "svc.fit(X_train, y_train)\n",
    "\n",
    "disp = RocCurveDisplay.from_estimator(svc, X_test, y_test, pos_label=1)\n",
    "disp = RocCurveDisplay.from_estimator(dummy_classifier, X_test, y_test, pos_label=1, ax = disp.ax_)\n",
    "\n",
    "disp.ax_.set_title(\"ROC AUC curve\");"
   ]
  },
  {
   "cell_type": "markdown",
   "metadata": {},
   "source": [
    "For the linear kernel, AUC is very high with 0.98. This is better than the previous two classifiers."
   ]
  },
  {
   "cell_type": "markdown",
   "metadata": {},
   "source": [
    "Poly Kernel:"
   ]
  },
  {
   "cell_type": "code",
   "execution_count": 128,
   "metadata": {},
   "outputs": [
    {
     "data": {
      "image/png": "[encoded data removed]",
      "text/plain": [
       "<Figure size 432x288 with 1 Axes>"
      ]
     },
     "metadata": {
      "needs_background": "light"
     },
     "output_type": "display_data"
    }
   ],
   "source": [
    "svc = SVC(kernel=\"poly\")\n",
    "svc.fit(X_train, y_train)\n",
    "\n",
    "disp = RocCurveDisplay.from_estimator(svc, X_test, y_test, pos_label=1)\n",
    "disp = RocCurveDisplay.from_estimator(dummy_classifier, X_test, y_test, pos_label=1, ax = disp.ax_)\n",
    "disp.ax_.set_title(\"ROC AUC curve\");"
   ]
  },
  {
   "cell_type": "markdown",
   "metadata": {},
   "source": [
    "For poly it is also 0.98."
   ]
  },
  {
   "cell_type": "markdown",
   "metadata": {},
   "source": [
    "Rbf Kernel:"
   ]
  },
  {
   "cell_type": "code",
   "execution_count": 129,
   "metadata": {},
   "outputs": [
    {
     "data": {
      "image/png": "[encoded data removed]",
      "text/plain": [
       "<Figure size 432x288 with 1 Axes>"
      ]
     },
     "metadata": {
      "needs_background": "light"
     },
     "output_type": "display_data"
    }
   ],
   "source": [
    "svc = SVC(kernel=\"rbf\")\n",
    "svc.fit(X_train, y_train)\n",
    "\n",
    "disp = RocCurveDisplay.from_estimator(svc, X_test, y_test, pos_label=1)\n",
    "disp = RocCurveDisplay.from_estimator(dummy_classifier, X_test, y_test, pos_label=1, ax = disp.ax_)\n",
    "disp.ax_.set_title(\"ROC AUC curve\");"
   ]
  },
  {
   "cell_type": "markdown",
   "metadata": {},
   "source": [
    "It drops slightly for rbf but is still better than both the Decision Tree and KNN."
   ]
  },
  {
   "cell_type": "markdown",
   "metadata": {},
   "source": [
    "Sigmoid Kernel:"
   ]
  },
  {
   "cell_type": "code",
   "execution_count": 130,
   "metadata": {},
   "outputs": [
    {
     "data": {
      "image/png": "[encoded data removed]",
      "text/plain": [
       "<Figure size 432x288 with 1 Axes>"
      ]
     },
     "metadata": {
      "needs_background": "light"
     },
     "output_type": "display_data"
    }
   ],
   "source": [
    "svc = SVC(kernel=\"sigmoid\")\n",
    "svc.fit(X_train, y_train)\n",
    "\n",
    "disp = RocCurveDisplay.from_estimator(svc, X_test, y_test, pos_label=1)\n",
    "disp = RocCurveDisplay.from_estimator(dummy_classifier, X_test, y_test, pos_label=1, ax = disp.ax_)\n",
    "disp.ax_.set_title(\"ROC AUC curve\");"
   ]
  },
  {
   "cell_type": "markdown",
   "metadata": {},
   "source": [
    "Sigmoid is the worst out of the lot with the AUC being 0.92."
   ]
  },
  {
   "cell_type": "markdown",
   "metadata": {},
   "source": [
    "Result:\n",
    "\n",
    "- The classifiers best suited to the task are the Linear and Poly Kernels with SVM, which had an AUC of 0.98. This is a very score which means the performace is very good."
   ]
  },
  {
   "cell_type": "markdown",
   "metadata": {},
   "source": [
    "### Task 9 - BONUS"
   ]
  },
  {
   "cell_type": "markdown",
   "metadata": {},
   "source": [
    "Here I want to take a look at Confusion Matrices and see it it gives me any further insight into the predicitons for each classifier."
   ]
  },
  {
   "cell_type": "markdown",
   "metadata": {},
   "source": [
    "Decision Tree:"
   ]
  },
  {
   "cell_type": "code",
   "execution_count": 132,
   "metadata": {},
   "outputs": [
    {
     "data": {
      "text/plain": [
       "<sklearn.metrics._plot.confusion_matrix.ConfusionMatrixDisplay at 0x1e42832e460>"
      ]
     },
     "execution_count": 132,
     "metadata": {},
     "output_type": "execute_result"
    },
    {
     "data": {
      "image/png": "[encoded data removed]",
      "text/plain": [
       "<Figure size 432x288 with 2 Axes>"
      ]
     },
     "metadata": {
      "needs_background": "light"
     },
     "output_type": "display_data"
    }
   ],
   "source": [
    "ConfusionMatrixDisplay.from_estimator(dt_clf, X_test, y_test)"
   ]
  },
  {
   "cell_type": "markdown",
   "metadata": {},
   "source": [
    "Above is a good visualisation to see the number of true and false predictions. We can see in the top left and bottom right the true predictions and in the top right and bottom left the false predictions. The true predictions outweigh the false by a great deal."
   ]
  },
  {
   "cell_type": "markdown",
   "metadata": {},
   "source": [
    "KNN:"
   ]
  },
  {
   "cell_type": "code",
   "execution_count": 133,
   "metadata": {},
   "outputs": [
    {
     "data": {
      "text/plain": [
       "<sklearn.metrics._plot.confusion_matrix.ConfusionMatrixDisplay at 0x1e427142190>"
      ]
     },
     "execution_count": 133,
     "metadata": {},
     "output_type": "execute_result"
    },
    {
     "data": {
      "image/png": "[encoded data removed]",
      "text/plain": [
       "<Figure size 432x288 with 2 Axes>"
      ]
     },
     "metadata": {
      "needs_background": "light"
     },
     "output_type": "display_data"
    }
   ],
   "source": [
    "ConfusionMatrixDisplay.from_estimator(knn_clf, X_test, y_test)"
   ]
  },
  {
   "cell_type": "markdown",
   "metadata": {},
   "source": [
    "Overall for KNN, this displays there are more true predictions than Decision Tree."
   ]
  },
  {
   "cell_type": "markdown",
   "metadata": {},
   "source": [
    "SVM\n",
    "\n",
    "Linear Kernel:"
   ]
  },
  {
   "cell_type": "code",
   "execution_count": 135,
   "metadata": {},
   "outputs": [
    {
     "data": {
      "text/plain": [
       "<sklearn.metrics._plot.confusion_matrix.ConfusionMatrixDisplay at 0x1e4283ec7c0>"
      ]
     },
     "execution_count": 135,
     "metadata": {},
     "output_type": "execute_result"
    },
    {
     "data": {
      "image/png": "[encoded data removed]",
      "text/plain": [
       "<Figure size 432x288 with 2 Axes>"
      ]
     },
     "metadata": {
      "needs_background": "light"
     },
     "output_type": "display_data"
    }
   ],
   "source": [
    "svc = SVC(kernel=\"linear\")\n",
    "svc.fit(X_train, y_train)\n",
    "\n",
    "ConfusionMatrixDisplay.from_estimator(svc, X_test, y_test)\n"
   ]
  },
  {
   "cell_type": "markdown",
   "metadata": {},
   "source": [
    "For linear, the true predictions are the highest so far and the top right quadrant has the lowest value."
   ]
  },
  {
   "cell_type": "markdown",
   "metadata": {},
   "source": [
    "Poly Kernel:"
   ]
  },
  {
   "cell_type": "code",
   "execution_count": 136,
   "metadata": {},
   "outputs": [
    {
     "data": {
      "text/plain": [
       "<sklearn.metrics._plot.confusion_matrix.ConfusionMatrixDisplay at 0x1e426cfb0a0>"
      ]
     },
     "execution_count": 136,
     "metadata": {},
     "output_type": "execute_result"
    },
    {
     "data": {
      "image/png": "[encoded data removed]",
      "text/plain": [
       "<Figure size 432x288 with 2 Axes>"
      ]
     },
     "metadata": {
      "needs_background": "light"
     },
     "output_type": "display_data"
    }
   ],
   "source": [
    "svc = SVC(kernel=\"poly\")\n",
    "svc.fit(X_train, y_train)\n",
    "\n",
    "ConfusionMatrixDisplay.from_estimator(svc, X_test, y_test)"
   ]
  },
  {
   "cell_type": "markdown",
   "metadata": {},
   "source": [
    "Poly is very similar to kernel. It has a very low value in the top right quadrant and high true predictions."
   ]
  },
  {
   "cell_type": "markdown",
   "metadata": {},
   "source": [
    "Rbf:"
   ]
  },
  {
   "cell_type": "code",
   "execution_count": 137,
   "metadata": {},
   "outputs": [
    {
     "data": {
      "text/plain": [
       "<sklearn.metrics._plot.confusion_matrix.ConfusionMatrixDisplay at 0x1e426499d90>"
      ]
     },
     "execution_count": 137,
     "metadata": {},
     "output_type": "execute_result"
    },
    {
     "data": {
      "image/png": "[encoded data removed]",
      "text/plain": [
       "<Figure size 432x288 with 2 Axes>"
      ]
     },
     "metadata": {
      "needs_background": "light"
     },
     "output_type": "display_data"
    }
   ],
   "source": [
    "svc = SVC(kernel=\"rbf\")\n",
    "svc.fit(X_train, y_train)\n",
    "\n",
    "ConfusionMatrixDisplay.from_estimator(svc, X_test, y_test)\n"
   ]
  },
  {
   "cell_type": "markdown",
   "metadata": {},
   "source": [
    "Rbf is also very similar to the two previous results."
   ]
  },
  {
   "cell_type": "code",
   "execution_count": 138,
   "metadata": {},
   "outputs": [
    {
     "data": {
      "text/plain": [
       "<sklearn.metrics._plot.confusion_matrix.ConfusionMatrixDisplay at 0x1e4233895e0>"
      ]
     },
     "execution_count": 138,
     "metadata": {},
     "output_type": "execute_result"
    },
    {
     "data": {
      "image/png": "[encoded data removed]",
      "text/plain": [
       "<Figure size 432x288 with 2 Axes>"
      ]
     },
     "metadata": {
      "needs_background": "light"
     },
     "output_type": "display_data"
    }
   ],
   "source": [
    "svc = SVC(kernel=\"sigmoid\")\n",
    "svc.fit(X_train, y_train)\n",
    "\n",
    "ConfusionMatrixDisplay.from_estimator(svc, X_test, y_test)"
   ]
  },
  {
   "cell_type": "markdown",
   "metadata": {},
   "source": [
    "It can be seen with sigmoid that it clearly has the lowest count of true predictions and the most false predictions."
   ]
  },
  {
   "cell_type": "markdown",
   "metadata": {},
   "source": [
    "Result:\n",
    "\n",
    "- It was interesting to see in a more visual manner the true and false predictions of the classifiers. It was different from the more technical measure of the f1 score which is just a number.\n",
    "\n",
    "- It can be seen that sigmoid is the worst classifer as previously proven and that the other classifiers clearly overcome it."
   ]
  }
 ],
 "metadata": {
  "kernelspec": {
   "display_name": "base",
   "language": "python",
   "name": "python3"
  },
  "language_info": {
   "codemirror_mode": {
    "name": "ipython",
    "version": 3
   },
   "file_extension": ".py",
   "mimetype": "text/x-python",
   "name": "python",
   "nbconvert_exporter": "python",
   "pygments_lexer": "ipython3",
   "version": "3.9.12"
  }
 },
 "nbformat": 4,
 "nbformat_minor": 2
}
